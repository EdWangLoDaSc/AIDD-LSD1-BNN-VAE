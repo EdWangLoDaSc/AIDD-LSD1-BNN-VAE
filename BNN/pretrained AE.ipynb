{
  "cells": [
    {
      "cell_type": "markdown",
      "metadata": {
        "id": "view-in-github",
        "colab_type": "text"
      },
      "source": [
        "<a href=\"https://colab.research.google.com/github/EdWangLoDaSc/Bayesian-Neural-Networks/blob/master/pretrained%20AE.ipynb\" target=\"_parent\"><img src=\"https://colab.research.google.com/assets/colab-badge.svg\" alt=\"Open In Colab\"/></a>"
      ]
    },
    {
      "cell_type": "markdown",
      "metadata": {
        "id": "VCENnU2LwLgv"
      },
      "source": [
        "It is necessary to use tensorflow 1.14.0 under the environment of Colab."
      ]
    },
    {
      "cell_type": "code",
      "source": [
        "pip install tensorflow==1.14.0"
      ],
      "metadata": {
        "colab": {
          "base_uri": "https://localhost:8080/"
        },
        "id": "QuOaKZc14cYf",
        "outputId": "b5c5c2f5-0ea2-4944-e288-7ae29b0c9b94"
      },
      "execution_count": 1,
      "outputs": [
        {
          "output_type": "stream",
          "name": "stdout",
          "text": [
            "Looking in indexes: https://pypi.org/simple, https://us-python.pkg.dev/colab-wheels/public/simple/\n",
            "Collecting tensorflow==1.14.0\n",
            "  Downloading tensorflow-1.14.0-cp37-cp37m-manylinux1_x86_64.whl (109.3 MB)\n",
            "\u001b[K     |████████████████████████████████| 109.3 MB 47 kB/s \n",
            "\u001b[?25hRequirement already satisfied: google-pasta>=0.1.6 in /usr/local/lib/python3.7/dist-packages (from tensorflow==1.14.0) (0.2.0)\n",
            "Requirement already satisfied: wrapt>=1.11.1 in /usr/local/lib/python3.7/dist-packages (from tensorflow==1.14.0) (1.14.1)\n",
            "Requirement already satisfied: termcolor>=1.1.0 in /usr/local/lib/python3.7/dist-packages (from tensorflow==1.14.0) (1.1.0)\n",
            "Requirement already satisfied: six>=1.10.0 in /usr/local/lib/python3.7/dist-packages (from tensorflow==1.14.0) (1.15.0)\n",
            "Requirement already satisfied: protobuf>=3.6.1 in /usr/local/lib/python3.7/dist-packages (from tensorflow==1.14.0) (3.17.3)\n",
            "Requirement already satisfied: grpcio>=1.8.6 in /usr/local/lib/python3.7/dist-packages (from tensorflow==1.14.0) (1.47.0)\n",
            "Requirement already satisfied: numpy<2.0,>=1.14.5 in /usr/local/lib/python3.7/dist-packages (from tensorflow==1.14.0) (1.21.6)\n",
            "Collecting tensorflow-estimator<1.15.0rc0,>=1.14.0rc0\n",
            "  Downloading tensorflow_estimator-1.14.0-py2.py3-none-any.whl (488 kB)\n",
            "\u001b[K     |████████████████████████████████| 488 kB 32.7 MB/s \n",
            "\u001b[?25hCollecting keras-applications>=1.0.6\n",
            "  Downloading Keras_Applications-1.0.8-py3-none-any.whl (50 kB)\n",
            "\u001b[K     |████████████████████████████████| 50 kB 8.7 MB/s \n",
            "\u001b[?25hRequirement already satisfied: gast>=0.2.0 in /usr/local/lib/python3.7/dist-packages (from tensorflow==1.14.0) (0.5.3)\n",
            "Requirement already satisfied: keras-preprocessing>=1.0.5 in /usr/local/lib/python3.7/dist-packages (from tensorflow==1.14.0) (1.1.2)\n",
            "Requirement already satisfied: absl-py>=0.7.0 in /usr/local/lib/python3.7/dist-packages (from tensorflow==1.14.0) (1.2.0)\n",
            "Requirement already satisfied: wheel>=0.26 in /usr/local/lib/python3.7/dist-packages (from tensorflow==1.14.0) (0.37.1)\n",
            "Requirement already satisfied: astor>=0.6.0 in /usr/local/lib/python3.7/dist-packages (from tensorflow==1.14.0) (0.8.1)\n",
            "Collecting tensorboard<1.15.0,>=1.14.0\n",
            "  Downloading tensorboard-1.14.0-py3-none-any.whl (3.1 MB)\n",
            "\u001b[K     |████████████████████████████████| 3.1 MB 6.1 MB/s \n",
            "\u001b[?25hRequirement already satisfied: h5py in /usr/local/lib/python3.7/dist-packages (from keras-applications>=1.0.6->tensorflow==1.14.0) (3.1.0)\n",
            "Requirement already satisfied: markdown>=2.6.8 in /usr/local/lib/python3.7/dist-packages (from tensorboard<1.15.0,>=1.14.0->tensorflow==1.14.0) (3.4.1)\n",
            "Requirement already satisfied: werkzeug>=0.11.15 in /usr/local/lib/python3.7/dist-packages (from tensorboard<1.15.0,>=1.14.0->tensorflow==1.14.0) (1.0.1)\n",
            "Requirement already satisfied: setuptools>=41.0.0 in /usr/local/lib/python3.7/dist-packages (from tensorboard<1.15.0,>=1.14.0->tensorflow==1.14.0) (57.4.0)\n",
            "Requirement already satisfied: importlib-metadata>=4.4 in /usr/local/lib/python3.7/dist-packages (from markdown>=2.6.8->tensorboard<1.15.0,>=1.14.0->tensorflow==1.14.0) (4.12.0)\n",
            "Requirement already satisfied: typing-extensions>=3.6.4 in /usr/local/lib/python3.7/dist-packages (from importlib-metadata>=4.4->markdown>=2.6.8->tensorboard<1.15.0,>=1.14.0->tensorflow==1.14.0) (4.1.1)\n",
            "Requirement already satisfied: zipp>=0.5 in /usr/local/lib/python3.7/dist-packages (from importlib-metadata>=4.4->markdown>=2.6.8->tensorboard<1.15.0,>=1.14.0->tensorflow==1.14.0) (3.8.1)\n",
            "Requirement already satisfied: cached-property in /usr/local/lib/python3.7/dist-packages (from h5py->keras-applications>=1.0.6->tensorflow==1.14.0) (1.5.2)\n",
            "Installing collected packages: tensorflow-estimator, tensorboard, keras-applications, tensorflow\n",
            "  Attempting uninstall: tensorflow-estimator\n",
            "    Found existing installation: tensorflow-estimator 2.8.0\n",
            "    Uninstalling tensorflow-estimator-2.8.0:\n",
            "      Successfully uninstalled tensorflow-estimator-2.8.0\n",
            "  Attempting uninstall: tensorboard\n",
            "    Found existing installation: tensorboard 2.8.0\n",
            "    Uninstalling tensorboard-2.8.0:\n",
            "      Successfully uninstalled tensorboard-2.8.0\n",
            "  Attempting uninstall: tensorflow\n",
            "    Found existing installation: tensorflow 2.8.2+zzzcolab20220719082949\n",
            "    Uninstalling tensorflow-2.8.2+zzzcolab20220719082949:\n",
            "      Successfully uninstalled tensorflow-2.8.2+zzzcolab20220719082949\n",
            "\u001b[31mERROR: pip's dependency resolver does not currently take into account all the packages that are installed. This behaviour is the source of the following dependency conflicts.\n",
            "kapre 0.3.7 requires tensorflow>=2.0.0, but you have tensorflow 1.14.0 which is incompatible.\u001b[0m\n",
            "Successfully installed keras-applications-1.0.8 tensorboard-1.14.0 tensorflow-1.14.0 tensorflow-estimator-1.14.0\n"
          ]
        }
      ]
    },
    {
      "cell_type": "code",
      "execution_count": 2,
      "metadata": {
        "colab": {
          "base_uri": "https://localhost:8080/"
        },
        "id": "wgeK7ykvkcDP",
        "outputId": "17cf943d-83e0-470b-82a5-c5c79063c3ac"
      },
      "outputs": [
        {
          "output_type": "stream",
          "name": "stdout",
          "text": [
            "Mounted at ./content\n"
          ]
        }
      ],
      "source": [
        "from google.colab import drive\n",
        "drive.mount('./content')"
      ]
    },
    {
      "cell_type": "code",
      "execution_count": 3,
      "metadata": {
        "id": "HBSl6GNhl_Gy",
        "colab": {
          "base_uri": "https://localhost:8080/"
        },
        "outputId": "b7e157bd-25d5-4206-8535-a00fffd1beaa"
      },
      "outputs": [
        {
          "output_type": "stream",
          "name": "stderr",
          "text": [
            "/usr/local/lib/python3.7/dist-packages/tensorflow/python/framework/dtypes.py:516: FutureWarning: Passing (type, 1) or '1type' as a synonym of type is deprecated; in a future version of numpy, it will be understood as (type, (1,)) / '(1,)type'.\n",
            "  _np_qint8 = np.dtype([(\"qint8\", np.int8, 1)])\n",
            "/usr/local/lib/python3.7/dist-packages/tensorflow/python/framework/dtypes.py:517: FutureWarning: Passing (type, 1) or '1type' as a synonym of type is deprecated; in a future version of numpy, it will be understood as (type, (1,)) / '(1,)type'.\n",
            "  _np_quint8 = np.dtype([(\"quint8\", np.uint8, 1)])\n",
            "/usr/local/lib/python3.7/dist-packages/tensorflow/python/framework/dtypes.py:518: FutureWarning: Passing (type, 1) or '1type' as a synonym of type is deprecated; in a future version of numpy, it will be understood as (type, (1,)) / '(1,)type'.\n",
            "  _np_qint16 = np.dtype([(\"qint16\", np.int16, 1)])\n",
            "/usr/local/lib/python3.7/dist-packages/tensorflow/python/framework/dtypes.py:519: FutureWarning: Passing (type, 1) or '1type' as a synonym of type is deprecated; in a future version of numpy, it will be understood as (type, (1,)) / '(1,)type'.\n",
            "  _np_quint16 = np.dtype([(\"quint16\", np.uint16, 1)])\n",
            "/usr/local/lib/python3.7/dist-packages/tensorflow/python/framework/dtypes.py:520: FutureWarning: Passing (type, 1) or '1type' as a synonym of type is deprecated; in a future version of numpy, it will be understood as (type, (1,)) / '(1,)type'.\n",
            "  _np_qint32 = np.dtype([(\"qint32\", np.int32, 1)])\n",
            "/usr/local/lib/python3.7/dist-packages/tensorflow/python/framework/dtypes.py:525: FutureWarning: Passing (type, 1) or '1type' as a synonym of type is deprecated; in a future version of numpy, it will be understood as (type, (1,)) / '(1,)type'.\n",
            "  np_resource = np.dtype([(\"resource\", np.ubyte, 1)])\n",
            "/usr/local/lib/python3.7/dist-packages/tensorboard/compat/tensorflow_stub/dtypes.py:541: FutureWarning: Passing (type, 1) or '1type' as a synonym of type is deprecated; in a future version of numpy, it will be understood as (type, (1,)) / '(1,)type'.\n",
            "  _np_qint8 = np.dtype([(\"qint8\", np.int8, 1)])\n",
            "/usr/local/lib/python3.7/dist-packages/tensorboard/compat/tensorflow_stub/dtypes.py:542: FutureWarning: Passing (type, 1) or '1type' as a synonym of type is deprecated; in a future version of numpy, it will be understood as (type, (1,)) / '(1,)type'.\n",
            "  _np_quint8 = np.dtype([(\"quint8\", np.uint8, 1)])\n",
            "/usr/local/lib/python3.7/dist-packages/tensorboard/compat/tensorflow_stub/dtypes.py:543: FutureWarning: Passing (type, 1) or '1type' as a synonym of type is deprecated; in a future version of numpy, it will be understood as (type, (1,)) / '(1,)type'.\n",
            "  _np_qint16 = np.dtype([(\"qint16\", np.int16, 1)])\n",
            "/usr/local/lib/python3.7/dist-packages/tensorboard/compat/tensorflow_stub/dtypes.py:544: FutureWarning: Passing (type, 1) or '1type' as a synonym of type is deprecated; in a future version of numpy, it will be understood as (type, (1,)) / '(1,)type'.\n",
            "  _np_quint16 = np.dtype([(\"quint16\", np.uint16, 1)])\n",
            "/usr/local/lib/python3.7/dist-packages/tensorboard/compat/tensorflow_stub/dtypes.py:545: FutureWarning: Passing (type, 1) or '1type' as a synonym of type is deprecated; in a future version of numpy, it will be understood as (type, (1,)) / '(1,)type'.\n",
            "  _np_qint32 = np.dtype([(\"qint32\", np.int32, 1)])\n",
            "/usr/local/lib/python3.7/dist-packages/tensorboard/compat/tensorflow_stub/dtypes.py:550: FutureWarning: Passing (type, 1) or '1type' as a synonym of type is deprecated; in a future version of numpy, it will be understood as (type, (1,)) / '(1,)type'.\n",
            "  np_resource = np.dtype([(\"resource\", np.ubyte, 1)])\n"
          ]
        }
      ],
      "source": [
        "import pandas as pd\n",
        "import numpy as np\n",
        "## TensorFlow\n",
        "import tensorflow as tf\n",
        "#tf.compat.v1.reset_default_graph()"
      ]
    },
    {
      "cell_type": "code",
      "execution_count": null,
      "metadata": {
        "id": "IyVnITvXlvKW"
      },
      "outputs": [],
      "source": [
        "df = pd.read_csv('/content/content/MyDrive/CGAN_Regression/CGAN_code/Datasets/Datasets.csv')\n",
        "df = df.drop(['Calculated-pChEMBL'], axis = 1).values"
      ]
    },
    {
      "cell_type": "code",
      "source": [
        "df = pd.read_csv('/content/content/MyDrive/pytorch-rbm-autoencoder-main/FP_3_512_D1.csv').values\n"
      ],
      "metadata": {
        "id": "T7au_1b1z1BU"
      },
      "execution_count": 9,
      "outputs": []
    },
    {
      "cell_type": "markdown",
      "source": [
        "# 1. Model Structure and Related Parameters"
      ],
      "metadata": {
        "id": "SByU8co3Aiyk"
      }
    },
    {
      "cell_type": "code",
      "execution_count": 4,
      "metadata": {
        "id": "4RykJLy-m5hk"
      },
      "outputs": [],
      "source": [
        "num_inputs = 512\n",
        "\n",
        "## Encoder section\n",
        "hidden_1 = 512//2       ## 256 (Number of nodes)\n",
        "hidden_2 = hidden_1 //2  ## 128\n",
        "hidden_3 = hidden_2 //2  ## 64\n",
        "\n",
        "## Latent Space\n",
        "hidden_4 = hidden_3 //2  ## 32\n",
        "\n",
        "## Decoder \n",
        "hidden_5 = hidden_3      ## 64\n",
        "hidden_6 = hidden_2      ## 128\n",
        "hidden_7 = hidden_1      ## 256\n",
        "\n",
        "num_outputs = num_inputs ## 512"
      ]
    },
    {
      "cell_type": "code",
      "execution_count": 5,
      "metadata": {
        "id": "BCfc-5Lfnt8d",
        "colab": {
          "base_uri": "https://localhost:8080/"
        },
        "outputId": "eccb5af5-5ef7-4ede-89bd-a947b45e6914"
      },
      "outputs": [
        {
          "output_type": "stream",
          "name": "stderr",
          "text": [
            "WARNING:tensorflow:\n",
            "The TensorFlow contrib module will not be included in TensorFlow 2.0.\n",
            "For more information, please see:\n",
            "  * https://github.com/tensorflow/community/blob/master/rfcs/20180907-contrib-sunset.md\n",
            "  * https://github.com/tensorflow/addons\n",
            "  * https://github.com/tensorflow/io (for I/O related ops)\n",
            "If you depend on functionality not listed there, please file an issue.\n",
            "\n"
          ]
        }
      ],
      "source": [
        "## Hyper Parameters: \n",
        "\n",
        "learning_rate = 0.001\n",
        "\n",
        "## Activation function\n",
        "\n",
        "\"\"\"\n",
        "Here we are using Rectified Linear Unit( ReLu). It is at the left for the user to test and experiment \n",
        "with other activation functions and learning rate\n",
        "\"\"\"\n",
        "\n",
        "activ_fn = tf.nn.relu\n",
        "\n",
        "## Input Layer\n",
        "\n",
        "\"\"\"\n",
        "Defining Input data\n",
        "\"\"\"\n",
        "\n",
        "X = tf.compat.v1.placeholder(tf.float32,shape = [None,num_inputs])\n",
        "\n",
        "## scaling keras.initializers.\n",
        "#initializer = tf.keras.initializers.variance_scaling_initializer()\n",
        "initializer = tf.contrib.layers.variance_scaling_initializer()"
      ]
    },
    {
      "cell_type": "code",
      "execution_count": 6,
      "metadata": {
        "id": "YWii3KL_ovTv"
      },
      "outputs": [],
      "source": [
        "## Weights(Parameters)\n",
        "\"\"\"\n",
        "Here we are randomly initializing the weights which are later updated based on the gradient descent and learning rate \n",
        "such that it minimizes the cost function\n",
        "\"\"\"\n",
        "\n",
        "w1 = tf.Variable(initializer([num_inputs,hidden_1]),dtype=tf.float32)\n",
        "w2 = tf.Variable(initializer([hidden_1,hidden_2]),dtype=tf.float32)\n",
        "w3 = tf.Variable(initializer([hidden_2,hidden_3]),dtype=tf.float32)\n",
        "w4 = tf.Variable(initializer([hidden_3,hidden_4]),dtype=tf.float32)\n",
        "w5 = tf.transpose(w4)\n",
        "w6 = tf.transpose(w3)\n",
        "w7 = tf.transpose(w2)\n",
        "w8 = tf.transpose(w1)\n",
        "\n",
        "b1 = tf.Variable(tf.zeros(hidden_1))\n",
        "b2 = tf.Variable(tf.zeros(hidden_2))\n",
        "b3 = tf.Variable(tf.zeros(hidden_3))\n",
        "b4 = tf.Variable(tf.zeros(hidden_4))\n",
        "b5 = b3\n",
        "b6 = b2\n",
        "b7 = b1\n",
        "b8 = tf.Variable(tf.zeros(num_outputs))\n",
        "\n",
        "hid_layer1 = activ_fn(tf.matmul(X,w1)+b1)\n",
        "hid_layer2 = activ_fn(tf.matmul(hid_layer1,w2)+b2)\n",
        "hid_layer3 = activ_fn(tf.matmul(hid_layer2,w3)+b3)\n",
        "hid_layer4 = activ_fn(tf.matmul(hid_layer3,w4)+b4)\n",
        "hid_layer5 = activ_fn(tf.matmul(hid_layer4,w5)+b5)\n",
        "hid_layer6 = activ_fn(tf.matmul(hid_layer5,w6)+b6)\n",
        "hid_layer7 = activ_fn(tf.matmul(hid_layer6,w7)+b7)\n",
        "output_layer = activ_fn(tf.matmul(hid_layer7,w8)+b8)"
      ]
    },
    {
      "cell_type": "code",
      "execution_count": 10,
      "metadata": {
        "id": "IT9Rmwnawl22"
      },
      "outputs": [],
      "source": [
        "## Loss Function(Cost function)\n",
        "\n",
        "\"\"\"\n",
        "Here we are defining the cost function, Minimizing loss between input and output layers\n",
        "\"\"\"\n",
        "np.random.seed(42)\n",
        "loss = tf.reduce_mean(tf.square(output_layer - X))\n",
        "\n",
        "optimizer = tf.train.AdamOptimizer(learning_rate)\n",
        "\n",
        "## Optimizer\n",
        "train = optimizer.minimize(loss)\n",
        "\n",
        "\n",
        "## Initialzing\n",
        "init = tf.global_variables_initializer()\n",
        "\n",
        "\n",
        "saver = tf.train.Saver()"
      ]
    },
    {
      "cell_type": "markdown",
      "source": [
        "# 2. Start Training and Save as CKPT\n"
      ],
      "metadata": {
        "id": "qIMS0W8tArR_"
      }
    },
    {
      "cell_type": "code",
      "execution_count": 11,
      "metadata": {
        "colab": {
          "base_uri": "https://localhost:8080/"
        },
        "id": "bb54nOZ-w_d4",
        "outputId": "861eee4a-84a2-43f2-958b-f4813bf1153b"
      },
      "outputs": [
        {
          "output_type": "stream",
          "name": "stdout",
          "text": [
            "Epoch: 0 Loss: 0.07551410794258118\n",
            "Epoch: 20 Loss: 0.03983686491847038\n",
            "Epoch: 40 Loss: 0.03745010867714882\n",
            "Epoch: 60 Loss: 0.03706039488315582\n",
            "Epoch: 80 Loss: 0.035348646342754364\n",
            "Epoch: 100 Loss: 0.0347425751388073\n",
            "Epoch: 120 Loss: 0.034572746604681015\n",
            "Epoch: 140 Loss: 0.03458477556705475\n",
            "Epoch: 160 Loss: 0.035473570227622986\n",
            "Epoch: 180 Loss: 0.03440234810113907\n",
            "Epoch: 200 Loss: 0.03448972851037979\n",
            "Epoch: 220 Loss: 0.03378237038850784\n",
            "Epoch: 240 Loss: 0.03277839720249176\n",
            "Epoch: 260 Loss: 0.03399577736854553\n",
            "Epoch: 280 Loss: 0.034093379974365234\n",
            "Epoch: 300 Loss: 0.032810017466545105\n",
            "Epoch: 320 Loss: 0.03252910077571869\n",
            "Epoch: 340 Loss: 0.03452388197183609\n",
            "Epoch: 360 Loss: 0.031557269394397736\n",
            "Epoch: 380 Loss: 0.03214198723435402\n",
            "Epoch: 400 Loss: 0.03158273547887802\n",
            "Epoch: 420 Loss: 0.032795630395412445\n",
            "Epoch: 440 Loss: 0.033552009612321854\n",
            "Epoch: 460 Loss: 0.031349316239356995\n",
            "Epoch: 480 Loss: 0.03525518625974655\n"
          ]
        }
      ],
      "source": [
        "## Training the model\n",
        "\n",
        "\"\"\"\n",
        "Epoch: Number of training steps/iterations\n",
        "Batch Size: Number of obseravtions that are used during each iterations to update weights. \n",
        "\"\"\"\n",
        "num_epochs =500\n",
        "batch_size = 8\n",
        "\n",
        "to_plot_220 = []\n",
        "from sklearn.utils import shuffle\n",
        "#df = shuffle(df) \n",
        "\n",
        "with tf.Session() as sess:\n",
        "    sess.run(init)\n",
        "    for epoch in range(num_epochs):\n",
        "        for index, offset in enumerate(range(0, df.shape[0], batch_size)):\n",
        "            xs = df[offset: offset + batch_size]\n",
        "            #print(offset)\n",
        "            sess.run(train, feed_dict={X: xs})\n",
        "        training_loss = loss.eval(feed_dict={X: xs})\n",
        "        to_plot_220.append(training_loss)\n",
        "        if epoch % 20 == 0:\n",
        "          print(\"Epoch: {} Loss: {}\".format(epoch,training_loss))\n",
        "        \n",
        "        \n",
        "    \"\"\"\n",
        "    Saving the trained model\n",
        "    \"\"\"\n",
        "    saver.save(sess,'./checkpoint_dir/my_model')"
      ]
    },
    {
      "cell_type": "markdown",
      "source": [
        "# 3. Load the model and Continue to train it on the LSD1 dataset\n"
      ],
      "metadata": {
        "id": "y8cMIzOrAyQo"
      }
    },
    {
      "cell_type": "code",
      "source": [
        "lsd1 = pd.read_csv('/content/drive/MyDrive/CGAN_Regression/CGAN_code/Datasets/Datasets.csv')\n",
        "lsd1 = lsd1.drop(['Calculated-pChEMBL'], axis = 1).values\n"
      ],
      "metadata": {
        "id": "PHPbNFXxWvnE",
        "colab": {
          "base_uri": "https://localhost:8080/",
          "height": 371
        },
        "outputId": "beb123f7-7242-4068-d135-8fd7aaf23de4"
      },
      "execution_count": 12,
      "outputs": [
        {
          "output_type": "error",
          "ename": "OSError",
          "evalue": "ignored",
          "traceback": [
            "\u001b[0;31m---------------------------------------------------------------------------\u001b[0m",
            "\u001b[0;31mOSError\u001b[0m                                   Traceback (most recent call last)",
            "\u001b[0;32m<ipython-input-12-b801e4453552>\u001b[0m in \u001b[0;36m<module>\u001b[0;34m()\u001b[0m\n\u001b[0;32m----> 1\u001b[0;31m \u001b[0mlsd1\u001b[0m \u001b[0;34m=\u001b[0m \u001b[0mpd\u001b[0m\u001b[0;34m.\u001b[0m\u001b[0mread_csv\u001b[0m\u001b[0;34m(\u001b[0m\u001b[0;34m'/content/drive/MyDrive/CGAN_Regression/CGAN_code/Datasets/Datasets.csv'\u001b[0m\u001b[0;34m)\u001b[0m\u001b[0;34m\u001b[0m\u001b[0;34m\u001b[0m\u001b[0m\n\u001b[0m\u001b[1;32m      2\u001b[0m \u001b[0mlsd1\u001b[0m \u001b[0;34m=\u001b[0m \u001b[0mlsd1\u001b[0m\u001b[0;34m.\u001b[0m\u001b[0mdrop\u001b[0m\u001b[0;34m(\u001b[0m\u001b[0;34m[\u001b[0m\u001b[0;34m'Calculated-pChEMBL'\u001b[0m\u001b[0;34m]\u001b[0m\u001b[0;34m,\u001b[0m \u001b[0maxis\u001b[0m \u001b[0;34m=\u001b[0m \u001b[0;36m1\u001b[0m\u001b[0;34m)\u001b[0m\u001b[0;34m.\u001b[0m\u001b[0mvalues\u001b[0m\u001b[0;34m\u001b[0m\u001b[0;34m\u001b[0m\u001b[0m\n",
            "\u001b[0;32m/usr/local/lib/python3.7/dist-packages/pandas/util/_decorators.py\u001b[0m in \u001b[0;36mwrapper\u001b[0;34m(*args, **kwargs)\u001b[0m\n\u001b[1;32m    309\u001b[0m                     \u001b[0mstacklevel\u001b[0m\u001b[0;34m=\u001b[0m\u001b[0mstacklevel\u001b[0m\u001b[0;34m,\u001b[0m\u001b[0;34m\u001b[0m\u001b[0;34m\u001b[0m\u001b[0m\n\u001b[1;32m    310\u001b[0m                 )\n\u001b[0;32m--> 311\u001b[0;31m             \u001b[0;32mreturn\u001b[0m \u001b[0mfunc\u001b[0m\u001b[0;34m(\u001b[0m\u001b[0;34m*\u001b[0m\u001b[0margs\u001b[0m\u001b[0;34m,\u001b[0m \u001b[0;34m**\u001b[0m\u001b[0mkwargs\u001b[0m\u001b[0;34m)\u001b[0m\u001b[0;34m\u001b[0m\u001b[0;34m\u001b[0m\u001b[0m\n\u001b[0m\u001b[1;32m    312\u001b[0m \u001b[0;34m\u001b[0m\u001b[0m\n\u001b[1;32m    313\u001b[0m         \u001b[0;32mreturn\u001b[0m \u001b[0mwrapper\u001b[0m\u001b[0;34m\u001b[0m\u001b[0;34m\u001b[0m\u001b[0m\n",
            "\u001b[0;32m/usr/local/lib/python3.7/dist-packages/pandas/io/parsers/readers.py\u001b[0m in \u001b[0;36mread_csv\u001b[0;34m(filepath_or_buffer, sep, delimiter, header, names, index_col, usecols, squeeze, prefix, mangle_dupe_cols, dtype, engine, converters, true_values, false_values, skipinitialspace, skiprows, skipfooter, nrows, na_values, keep_default_na, na_filter, verbose, skip_blank_lines, parse_dates, infer_datetime_format, keep_date_col, date_parser, dayfirst, cache_dates, iterator, chunksize, compression, thousands, decimal, lineterminator, quotechar, quoting, doublequote, escapechar, comment, encoding, encoding_errors, dialect, error_bad_lines, warn_bad_lines, on_bad_lines, delim_whitespace, low_memory, memory_map, float_precision, storage_options)\u001b[0m\n\u001b[1;32m    584\u001b[0m     \u001b[0mkwds\u001b[0m\u001b[0;34m.\u001b[0m\u001b[0mupdate\u001b[0m\u001b[0;34m(\u001b[0m\u001b[0mkwds_defaults\u001b[0m\u001b[0;34m)\u001b[0m\u001b[0;34m\u001b[0m\u001b[0;34m\u001b[0m\u001b[0m\n\u001b[1;32m    585\u001b[0m \u001b[0;34m\u001b[0m\u001b[0m\n\u001b[0;32m--> 586\u001b[0;31m     \u001b[0;32mreturn\u001b[0m \u001b[0m_read\u001b[0m\u001b[0;34m(\u001b[0m\u001b[0mfilepath_or_buffer\u001b[0m\u001b[0;34m,\u001b[0m \u001b[0mkwds\u001b[0m\u001b[0;34m)\u001b[0m\u001b[0;34m\u001b[0m\u001b[0;34m\u001b[0m\u001b[0m\n\u001b[0m\u001b[1;32m    587\u001b[0m \u001b[0;34m\u001b[0m\u001b[0m\n\u001b[1;32m    588\u001b[0m \u001b[0;34m\u001b[0m\u001b[0m\n",
            "\u001b[0;32m/usr/local/lib/python3.7/dist-packages/pandas/io/parsers/readers.py\u001b[0m in \u001b[0;36m_read\u001b[0;34m(filepath_or_buffer, kwds)\u001b[0m\n\u001b[1;32m    480\u001b[0m \u001b[0;34m\u001b[0m\u001b[0m\n\u001b[1;32m    481\u001b[0m     \u001b[0;31m# Create the parser.\u001b[0m\u001b[0;34m\u001b[0m\u001b[0;34m\u001b[0m\u001b[0;34m\u001b[0m\u001b[0m\n\u001b[0;32m--> 482\u001b[0;31m     \u001b[0mparser\u001b[0m \u001b[0;34m=\u001b[0m \u001b[0mTextFileReader\u001b[0m\u001b[0;34m(\u001b[0m\u001b[0mfilepath_or_buffer\u001b[0m\u001b[0;34m,\u001b[0m \u001b[0;34m**\u001b[0m\u001b[0mkwds\u001b[0m\u001b[0;34m)\u001b[0m\u001b[0;34m\u001b[0m\u001b[0;34m\u001b[0m\u001b[0m\n\u001b[0m\u001b[1;32m    483\u001b[0m \u001b[0;34m\u001b[0m\u001b[0m\n\u001b[1;32m    484\u001b[0m     \u001b[0;32mif\u001b[0m \u001b[0mchunksize\u001b[0m \u001b[0;32mor\u001b[0m \u001b[0miterator\u001b[0m\u001b[0;34m:\u001b[0m\u001b[0;34m\u001b[0m\u001b[0;34m\u001b[0m\u001b[0m\n",
            "\u001b[0;32m/usr/local/lib/python3.7/dist-packages/pandas/io/parsers/readers.py\u001b[0m in \u001b[0;36m__init__\u001b[0;34m(self, f, engine, **kwds)\u001b[0m\n\u001b[1;32m    809\u001b[0m             \u001b[0mself\u001b[0m\u001b[0;34m.\u001b[0m\u001b[0moptions\u001b[0m\u001b[0;34m[\u001b[0m\u001b[0;34m\"has_index_names\"\u001b[0m\u001b[0;34m]\u001b[0m \u001b[0;34m=\u001b[0m \u001b[0mkwds\u001b[0m\u001b[0;34m[\u001b[0m\u001b[0;34m\"has_index_names\"\u001b[0m\u001b[0;34m]\u001b[0m\u001b[0;34m\u001b[0m\u001b[0;34m\u001b[0m\u001b[0m\n\u001b[1;32m    810\u001b[0m \u001b[0;34m\u001b[0m\u001b[0m\n\u001b[0;32m--> 811\u001b[0;31m         \u001b[0mself\u001b[0m\u001b[0;34m.\u001b[0m\u001b[0m_engine\u001b[0m \u001b[0;34m=\u001b[0m \u001b[0mself\u001b[0m\u001b[0;34m.\u001b[0m\u001b[0m_make_engine\u001b[0m\u001b[0;34m(\u001b[0m\u001b[0mself\u001b[0m\u001b[0;34m.\u001b[0m\u001b[0mengine\u001b[0m\u001b[0;34m)\u001b[0m\u001b[0;34m\u001b[0m\u001b[0;34m\u001b[0m\u001b[0m\n\u001b[0m\u001b[1;32m    812\u001b[0m \u001b[0;34m\u001b[0m\u001b[0m\n\u001b[1;32m    813\u001b[0m     \u001b[0;32mdef\u001b[0m \u001b[0mclose\u001b[0m\u001b[0;34m(\u001b[0m\u001b[0mself\u001b[0m\u001b[0;34m)\u001b[0m\u001b[0;34m:\u001b[0m\u001b[0;34m\u001b[0m\u001b[0;34m\u001b[0m\u001b[0m\n",
            "\u001b[0;32m/usr/local/lib/python3.7/dist-packages/pandas/io/parsers/readers.py\u001b[0m in \u001b[0;36m_make_engine\u001b[0;34m(self, engine)\u001b[0m\n\u001b[1;32m   1038\u001b[0m             )\n\u001b[1;32m   1039\u001b[0m         \u001b[0;31m# error: Too many arguments for \"ParserBase\"\u001b[0m\u001b[0;34m\u001b[0m\u001b[0;34m\u001b[0m\u001b[0;34m\u001b[0m\u001b[0m\n\u001b[0;32m-> 1040\u001b[0;31m         \u001b[0;32mreturn\u001b[0m \u001b[0mmapping\u001b[0m\u001b[0;34m[\u001b[0m\u001b[0mengine\u001b[0m\u001b[0;34m]\u001b[0m\u001b[0;34m(\u001b[0m\u001b[0mself\u001b[0m\u001b[0;34m.\u001b[0m\u001b[0mf\u001b[0m\u001b[0;34m,\u001b[0m \u001b[0;34m**\u001b[0m\u001b[0mself\u001b[0m\u001b[0;34m.\u001b[0m\u001b[0moptions\u001b[0m\u001b[0;34m)\u001b[0m  \u001b[0;31m# type: ignore[call-arg]\u001b[0m\u001b[0;34m\u001b[0m\u001b[0;34m\u001b[0m\u001b[0m\n\u001b[0m\u001b[1;32m   1041\u001b[0m \u001b[0;34m\u001b[0m\u001b[0m\n\u001b[1;32m   1042\u001b[0m     \u001b[0;32mdef\u001b[0m \u001b[0m_failover_to_python\u001b[0m\u001b[0;34m(\u001b[0m\u001b[0mself\u001b[0m\u001b[0;34m)\u001b[0m\u001b[0;34m:\u001b[0m\u001b[0;34m\u001b[0m\u001b[0;34m\u001b[0m\u001b[0m\n",
            "\u001b[0;32m/usr/local/lib/python3.7/dist-packages/pandas/io/parsers/c_parser_wrapper.py\u001b[0m in \u001b[0;36m__init__\u001b[0;34m(self, src, **kwds)\u001b[0m\n\u001b[1;32m     49\u001b[0m \u001b[0;34m\u001b[0m\u001b[0m\n\u001b[1;32m     50\u001b[0m         \u001b[0;31m# open handles\u001b[0m\u001b[0;34m\u001b[0m\u001b[0;34m\u001b[0m\u001b[0;34m\u001b[0m\u001b[0m\n\u001b[0;32m---> 51\u001b[0;31m         \u001b[0mself\u001b[0m\u001b[0;34m.\u001b[0m\u001b[0m_open_handles\u001b[0m\u001b[0;34m(\u001b[0m\u001b[0msrc\u001b[0m\u001b[0;34m,\u001b[0m \u001b[0mkwds\u001b[0m\u001b[0;34m)\u001b[0m\u001b[0;34m\u001b[0m\u001b[0;34m\u001b[0m\u001b[0m\n\u001b[0m\u001b[1;32m     52\u001b[0m         \u001b[0;32massert\u001b[0m \u001b[0mself\u001b[0m\u001b[0;34m.\u001b[0m\u001b[0mhandles\u001b[0m \u001b[0;32mis\u001b[0m \u001b[0;32mnot\u001b[0m \u001b[0;32mNone\u001b[0m\u001b[0;34m\u001b[0m\u001b[0;34m\u001b[0m\u001b[0m\n\u001b[1;32m     53\u001b[0m \u001b[0;34m\u001b[0m\u001b[0m\n",
            "\u001b[0;32m/usr/local/lib/python3.7/dist-packages/pandas/io/parsers/base_parser.py\u001b[0m in \u001b[0;36m_open_handles\u001b[0;34m(self, src, kwds)\u001b[0m\n\u001b[1;32m    227\u001b[0m             \u001b[0mmemory_map\u001b[0m\u001b[0;34m=\u001b[0m\u001b[0mkwds\u001b[0m\u001b[0;34m.\u001b[0m\u001b[0mget\u001b[0m\u001b[0;34m(\u001b[0m\u001b[0;34m\"memory_map\"\u001b[0m\u001b[0;34m,\u001b[0m \u001b[0;32mFalse\u001b[0m\u001b[0;34m)\u001b[0m\u001b[0;34m,\u001b[0m\u001b[0;34m\u001b[0m\u001b[0;34m\u001b[0m\u001b[0m\n\u001b[1;32m    228\u001b[0m             \u001b[0mstorage_options\u001b[0m\u001b[0;34m=\u001b[0m\u001b[0mkwds\u001b[0m\u001b[0;34m.\u001b[0m\u001b[0mget\u001b[0m\u001b[0;34m(\u001b[0m\u001b[0;34m\"storage_options\"\u001b[0m\u001b[0;34m,\u001b[0m \u001b[0;32mNone\u001b[0m\u001b[0;34m)\u001b[0m\u001b[0;34m,\u001b[0m\u001b[0;34m\u001b[0m\u001b[0;34m\u001b[0m\u001b[0m\n\u001b[0;32m--> 229\u001b[0;31m             \u001b[0merrors\u001b[0m\u001b[0;34m=\u001b[0m\u001b[0mkwds\u001b[0m\u001b[0;34m.\u001b[0m\u001b[0mget\u001b[0m\u001b[0;34m(\u001b[0m\u001b[0;34m\"encoding_errors\"\u001b[0m\u001b[0;34m,\u001b[0m \u001b[0;34m\"strict\"\u001b[0m\u001b[0;34m)\u001b[0m\u001b[0;34m,\u001b[0m\u001b[0;34m\u001b[0m\u001b[0;34m\u001b[0m\u001b[0m\n\u001b[0m\u001b[1;32m    230\u001b[0m         )\n\u001b[1;32m    231\u001b[0m \u001b[0;34m\u001b[0m\u001b[0m\n",
            "\u001b[0;32m/usr/local/lib/python3.7/dist-packages/pandas/io/common.py\u001b[0m in \u001b[0;36mget_handle\u001b[0;34m(path_or_buf, mode, encoding, compression, memory_map, is_text, errors, storage_options)\u001b[0m\n\u001b[1;32m    705\u001b[0m                 \u001b[0mencoding\u001b[0m\u001b[0;34m=\u001b[0m\u001b[0mioargs\u001b[0m\u001b[0;34m.\u001b[0m\u001b[0mencoding\u001b[0m\u001b[0;34m,\u001b[0m\u001b[0;34m\u001b[0m\u001b[0;34m\u001b[0m\u001b[0m\n\u001b[1;32m    706\u001b[0m                 \u001b[0merrors\u001b[0m\u001b[0;34m=\u001b[0m\u001b[0merrors\u001b[0m\u001b[0;34m,\u001b[0m\u001b[0;34m\u001b[0m\u001b[0;34m\u001b[0m\u001b[0m\n\u001b[0;32m--> 707\u001b[0;31m                 \u001b[0mnewline\u001b[0m\u001b[0;34m=\u001b[0m\u001b[0;34m\"\"\u001b[0m\u001b[0;34m,\u001b[0m\u001b[0;34m\u001b[0m\u001b[0;34m\u001b[0m\u001b[0m\n\u001b[0m\u001b[1;32m    708\u001b[0m             )\n\u001b[1;32m    709\u001b[0m         \u001b[0;32melse\u001b[0m\u001b[0;34m:\u001b[0m\u001b[0;34m\u001b[0m\u001b[0;34m\u001b[0m\u001b[0m\n",
            "\u001b[0;31mOSError\u001b[0m: [Errno 107] Transport endpoint is not connected: '/content/drive/MyDrive/CGAN_Regression/CGAN_code/Datasets/Datasets.csv'"
          ]
        }
      ]
    },
    {
      "cell_type": "code",
      "execution_count": null,
      "metadata": {
        "id": "3W6W5NQsXmwh",
        "outputId": "991728c5-9a9a-4a66-ee7f-5f3d754daf4a",
        "colab": {
          "base_uri": "https://localhost:8080/",
          "height": 425
        }
      },
      "outputs": [
        {
          "output_type": "stream",
          "name": "stdout",
          "text": [
            "Epoch: 0 Loss: 0.10110998898744583\n"
          ]
        },
        {
          "output_type": "error",
          "ename": "KeyboardInterrupt",
          "evalue": "ignored",
          "traceback": [
            "\u001b[0;31m---------------------------------------------------------------------------\u001b[0m",
            "\u001b[0;31mKeyboardInterrupt\u001b[0m                         Traceback (most recent call last)",
            "\u001b[0;32m<ipython-input-21-9329de025b3b>\u001b[0m in \u001b[0;36m<module>\u001b[0;34m()\u001b[0m\n\u001b[1;32m     16\u001b[0m             \u001b[0mxs\u001b[0m \u001b[0;34m=\u001b[0m \u001b[0mdf\u001b[0m\u001b[0;34m[\u001b[0m\u001b[0moffset\u001b[0m\u001b[0;34m:\u001b[0m \u001b[0moffset\u001b[0m \u001b[0;34m+\u001b[0m \u001b[0mbatch_size\u001b[0m\u001b[0;34m]\u001b[0m\u001b[0;34m\u001b[0m\u001b[0;34m\u001b[0m\u001b[0m\n\u001b[1;32m     17\u001b[0m             \u001b[0;31m#print(offset)\u001b[0m\u001b[0;34m\u001b[0m\u001b[0;34m\u001b[0m\u001b[0;34m\u001b[0m\u001b[0m\n\u001b[0;32m---> 18\u001b[0;31m             \u001b[0msess\u001b[0m\u001b[0;34m.\u001b[0m\u001b[0mrun\u001b[0m\u001b[0;34m(\u001b[0m\u001b[0mtrain\u001b[0m\u001b[0;34m,\u001b[0m \u001b[0mfeed_dict\u001b[0m\u001b[0;34m=\u001b[0m\u001b[0;34m{\u001b[0m\u001b[0mX\u001b[0m\u001b[0;34m:\u001b[0m \u001b[0mxs\u001b[0m\u001b[0;34m}\u001b[0m\u001b[0;34m)\u001b[0m\u001b[0;34m\u001b[0m\u001b[0;34m\u001b[0m\u001b[0m\n\u001b[0m\u001b[1;32m     19\u001b[0m         \u001b[0mtraining_loss\u001b[0m \u001b[0;34m=\u001b[0m \u001b[0mloss\u001b[0m\u001b[0;34m.\u001b[0m\u001b[0meval\u001b[0m\u001b[0;34m(\u001b[0m\u001b[0mfeed_dict\u001b[0m\u001b[0;34m=\u001b[0m\u001b[0;34m{\u001b[0m\u001b[0mX\u001b[0m\u001b[0;34m:\u001b[0m \u001b[0mxs\u001b[0m\u001b[0;34m}\u001b[0m\u001b[0;34m)\u001b[0m\u001b[0;34m\u001b[0m\u001b[0;34m\u001b[0m\u001b[0m\n\u001b[1;32m     20\u001b[0m         \u001b[0mto_plot_pre\u001b[0m\u001b[0;34m.\u001b[0m\u001b[0mappend\u001b[0m\u001b[0;34m(\u001b[0m\u001b[0mtraining_loss\u001b[0m\u001b[0;34m)\u001b[0m\u001b[0;34m\u001b[0m\u001b[0;34m\u001b[0m\u001b[0m\n",
            "\u001b[0;32m/usr/local/lib/python3.7/dist-packages/tensorflow/python/client/session.py\u001b[0m in \u001b[0;36mrun\u001b[0;34m(self, fetches, feed_dict, options, run_metadata)\u001b[0m\n\u001b[1;32m    948\u001b[0m     \u001b[0;32mtry\u001b[0m\u001b[0;34m:\u001b[0m\u001b[0;34m\u001b[0m\u001b[0;34m\u001b[0m\u001b[0m\n\u001b[1;32m    949\u001b[0m       result = self._run(None, fetches, feed_dict, options_ptr,\n\u001b[0;32m--> 950\u001b[0;31m                          run_metadata_ptr)\n\u001b[0m\u001b[1;32m    951\u001b[0m       \u001b[0;32mif\u001b[0m \u001b[0mrun_metadata\u001b[0m\u001b[0;34m:\u001b[0m\u001b[0;34m\u001b[0m\u001b[0;34m\u001b[0m\u001b[0m\n\u001b[1;32m    952\u001b[0m         \u001b[0mproto_data\u001b[0m \u001b[0;34m=\u001b[0m \u001b[0mtf_session\u001b[0m\u001b[0;34m.\u001b[0m\u001b[0mTF_GetBuffer\u001b[0m\u001b[0;34m(\u001b[0m\u001b[0mrun_metadata_ptr\u001b[0m\u001b[0;34m)\u001b[0m\u001b[0;34m\u001b[0m\u001b[0;34m\u001b[0m\u001b[0m\n",
            "\u001b[0;32m/usr/local/lib/python3.7/dist-packages/tensorflow/python/client/session.py\u001b[0m in \u001b[0;36m_run\u001b[0;34m(self, handle, fetches, feed_dict, options, run_metadata)\u001b[0m\n\u001b[1;32m   1171\u001b[0m     \u001b[0;32mif\u001b[0m \u001b[0mfinal_fetches\u001b[0m \u001b[0;32mor\u001b[0m \u001b[0mfinal_targets\u001b[0m \u001b[0;32mor\u001b[0m \u001b[0;34m(\u001b[0m\u001b[0mhandle\u001b[0m \u001b[0;32mand\u001b[0m \u001b[0mfeed_dict_tensor\u001b[0m\u001b[0;34m)\u001b[0m\u001b[0;34m:\u001b[0m\u001b[0;34m\u001b[0m\u001b[0;34m\u001b[0m\u001b[0m\n\u001b[1;32m   1172\u001b[0m       results = self._do_run(handle, final_targets, final_fetches,\n\u001b[0;32m-> 1173\u001b[0;31m                              feed_dict_tensor, options, run_metadata)\n\u001b[0m\u001b[1;32m   1174\u001b[0m     \u001b[0;32melse\u001b[0m\u001b[0;34m:\u001b[0m\u001b[0;34m\u001b[0m\u001b[0;34m\u001b[0m\u001b[0m\n\u001b[1;32m   1175\u001b[0m       \u001b[0mresults\u001b[0m \u001b[0;34m=\u001b[0m \u001b[0;34m[\u001b[0m\u001b[0;34m]\u001b[0m\u001b[0;34m\u001b[0m\u001b[0;34m\u001b[0m\u001b[0m\n",
            "\u001b[0;32m/usr/local/lib/python3.7/dist-packages/tensorflow/python/client/session.py\u001b[0m in \u001b[0;36m_do_run\u001b[0;34m(self, handle, target_list, fetch_list, feed_dict, options, run_metadata)\u001b[0m\n\u001b[1;32m   1348\u001b[0m     \u001b[0;32mif\u001b[0m \u001b[0mhandle\u001b[0m \u001b[0;32mis\u001b[0m \u001b[0;32mNone\u001b[0m\u001b[0;34m:\u001b[0m\u001b[0;34m\u001b[0m\u001b[0;34m\u001b[0m\u001b[0m\n\u001b[1;32m   1349\u001b[0m       return self._do_call(_run_fn, feeds, fetches, targets, options,\n\u001b[0;32m-> 1350\u001b[0;31m                            run_metadata)\n\u001b[0m\u001b[1;32m   1351\u001b[0m     \u001b[0;32melse\u001b[0m\u001b[0;34m:\u001b[0m\u001b[0;34m\u001b[0m\u001b[0;34m\u001b[0m\u001b[0m\n\u001b[1;32m   1352\u001b[0m       \u001b[0;32mreturn\u001b[0m \u001b[0mself\u001b[0m\u001b[0;34m.\u001b[0m\u001b[0m_do_call\u001b[0m\u001b[0;34m(\u001b[0m\u001b[0m_prun_fn\u001b[0m\u001b[0;34m,\u001b[0m \u001b[0mhandle\u001b[0m\u001b[0;34m,\u001b[0m \u001b[0mfeeds\u001b[0m\u001b[0;34m,\u001b[0m \u001b[0mfetches\u001b[0m\u001b[0;34m)\u001b[0m\u001b[0;34m\u001b[0m\u001b[0;34m\u001b[0m\u001b[0m\n",
            "\u001b[0;32m/usr/local/lib/python3.7/dist-packages/tensorflow/python/client/session.py\u001b[0m in \u001b[0;36m_do_call\u001b[0;34m(self, fn, *args)\u001b[0m\n\u001b[1;32m   1354\u001b[0m   \u001b[0;32mdef\u001b[0m \u001b[0m_do_call\u001b[0m\u001b[0;34m(\u001b[0m\u001b[0mself\u001b[0m\u001b[0;34m,\u001b[0m \u001b[0mfn\u001b[0m\u001b[0;34m,\u001b[0m \u001b[0;34m*\u001b[0m\u001b[0margs\u001b[0m\u001b[0;34m)\u001b[0m\u001b[0;34m:\u001b[0m\u001b[0;34m\u001b[0m\u001b[0;34m\u001b[0m\u001b[0m\n\u001b[1;32m   1355\u001b[0m     \u001b[0;32mtry\u001b[0m\u001b[0;34m:\u001b[0m\u001b[0;34m\u001b[0m\u001b[0;34m\u001b[0m\u001b[0m\n\u001b[0;32m-> 1356\u001b[0;31m       \u001b[0;32mreturn\u001b[0m \u001b[0mfn\u001b[0m\u001b[0;34m(\u001b[0m\u001b[0;34m*\u001b[0m\u001b[0margs\u001b[0m\u001b[0;34m)\u001b[0m\u001b[0;34m\u001b[0m\u001b[0;34m\u001b[0m\u001b[0m\n\u001b[0m\u001b[1;32m   1357\u001b[0m     \u001b[0;32mexcept\u001b[0m \u001b[0merrors\u001b[0m\u001b[0;34m.\u001b[0m\u001b[0mOpError\u001b[0m \u001b[0;32mas\u001b[0m \u001b[0me\u001b[0m\u001b[0;34m:\u001b[0m\u001b[0;34m\u001b[0m\u001b[0;34m\u001b[0m\u001b[0m\n\u001b[1;32m   1358\u001b[0m       \u001b[0mmessage\u001b[0m \u001b[0;34m=\u001b[0m \u001b[0mcompat\u001b[0m\u001b[0;34m.\u001b[0m\u001b[0mas_text\u001b[0m\u001b[0;34m(\u001b[0m\u001b[0me\u001b[0m\u001b[0;34m.\u001b[0m\u001b[0mmessage\u001b[0m\u001b[0;34m)\u001b[0m\u001b[0;34m\u001b[0m\u001b[0;34m\u001b[0m\u001b[0m\n",
            "\u001b[0;32m/usr/local/lib/python3.7/dist-packages/tensorflow/python/client/session.py\u001b[0m in \u001b[0;36m_run_fn\u001b[0;34m(feed_dict, fetch_list, target_list, options, run_metadata)\u001b[0m\n\u001b[1;32m   1339\u001b[0m       \u001b[0mself\u001b[0m\u001b[0;34m.\u001b[0m\u001b[0m_extend_graph\u001b[0m\u001b[0;34m(\u001b[0m\u001b[0;34m)\u001b[0m\u001b[0;34m\u001b[0m\u001b[0;34m\u001b[0m\u001b[0m\n\u001b[1;32m   1340\u001b[0m       return self._call_tf_sessionrun(\n\u001b[0;32m-> 1341\u001b[0;31m           options, feed_dict, fetch_list, target_list, run_metadata)\n\u001b[0m\u001b[1;32m   1342\u001b[0m \u001b[0;34m\u001b[0m\u001b[0m\n\u001b[1;32m   1343\u001b[0m     \u001b[0;32mdef\u001b[0m \u001b[0m_prun_fn\u001b[0m\u001b[0;34m(\u001b[0m\u001b[0mhandle\u001b[0m\u001b[0;34m,\u001b[0m \u001b[0mfeed_dict\u001b[0m\u001b[0;34m,\u001b[0m \u001b[0mfetch_list\u001b[0m\u001b[0;34m)\u001b[0m\u001b[0;34m:\u001b[0m\u001b[0;34m\u001b[0m\u001b[0;34m\u001b[0m\u001b[0m\n",
            "\u001b[0;32m/usr/local/lib/python3.7/dist-packages/tensorflow/python/client/session.py\u001b[0m in \u001b[0;36m_call_tf_sessionrun\u001b[0;34m(self, options, feed_dict, fetch_list, target_list, run_metadata)\u001b[0m\n\u001b[1;32m   1427\u001b[0m     return tf_session.TF_SessionRun_wrapper(\n\u001b[1;32m   1428\u001b[0m         \u001b[0mself\u001b[0m\u001b[0;34m.\u001b[0m\u001b[0m_session\u001b[0m\u001b[0;34m,\u001b[0m \u001b[0moptions\u001b[0m\u001b[0;34m,\u001b[0m \u001b[0mfeed_dict\u001b[0m\u001b[0;34m,\u001b[0m \u001b[0mfetch_list\u001b[0m\u001b[0;34m,\u001b[0m \u001b[0mtarget_list\u001b[0m\u001b[0;34m,\u001b[0m\u001b[0;34m\u001b[0m\u001b[0;34m\u001b[0m\u001b[0m\n\u001b[0;32m-> 1429\u001b[0;31m         run_metadata)\n\u001b[0m\u001b[1;32m   1430\u001b[0m \u001b[0;34m\u001b[0m\u001b[0m\n\u001b[1;32m   1431\u001b[0m   \u001b[0;32mdef\u001b[0m \u001b[0m_call_tf_sessionprun\u001b[0m\u001b[0;34m(\u001b[0m\u001b[0mself\u001b[0m\u001b[0;34m,\u001b[0m \u001b[0mhandle\u001b[0m\u001b[0;34m,\u001b[0m \u001b[0mfeed_dict\u001b[0m\u001b[0;34m,\u001b[0m \u001b[0mfetch_list\u001b[0m\u001b[0;34m)\u001b[0m\u001b[0;34m:\u001b[0m\u001b[0;34m\u001b[0m\u001b[0;34m\u001b[0m\u001b[0m\n",
            "\u001b[0;31mKeyboardInterrupt\u001b[0m: "
          ]
        }
      ],
      "source": [
        "import tensorflow as tf\n",
        "with tf.Session() as sess:\n",
        "  new_saver = tf.train.import_meta_graph('./checkpoint_dir/my_model.meta')\n",
        "  new_saver.restore(sess, tf.train.latest_checkpoint('./checkpoint_dir'))\n",
        "\n",
        "\n",
        "\n",
        "to_plot_pre = []\n",
        "from sklearn.utils import shuffle\n",
        "#df = shuffle(df) \n",
        "\n",
        "with tf.Session() as sess:\n",
        "    sess.run(init)\n",
        "    for epoch in range(num_epochs):\n",
        "        for index, offset in enumerate(range(0, lsd1.shape[0], batch_size)):\n",
        "            xs = df[offset: offset + batch_size]\n",
        "            #print(offset)\n",
        "            sess.run(train, feed_dict={X: xs})\n",
        "        training_loss = loss.eval(feed_dict={X: xs})\n",
        "        to_plot_pre.append(training_loss)\n",
        "        if epoch % 20 == 0:\n",
        "          print(\"Epoch: {} Loss: {}\".format(epoch,training_loss))\n",
        "        \n",
        "        \n",
        "    \"\"\"\n",
        "    Saving the trained model\n",
        "    \"\"\"\n",
        "    \n",
        "    saver.save(sess,'./final_checkpoint/final_model')"
      ]
    },
    {
      "cell_type": "code",
      "execution_count": null,
      "metadata": {
        "id": "kyLm3zl2yZ0D",
        "colab": {
          "base_uri": "https://localhost:8080/",
          "height": 389
        },
        "outputId": "0bf7c72a-b57a-4509-d93d-5370af5596c3"
      },
      "outputs": [
        {
          "output_type": "error",
          "ename": "NotFoundError",
          "evalue": "ignored",
          "traceback": [
            "\u001b[0;31m---------------------------------------------------------------------------\u001b[0m",
            "\u001b[0;31mNotFoundError\u001b[0m                             Traceback (most recent call last)",
            "\u001b[0;32m<ipython-input-12-6c3fbb42e849>\u001b[0m in \u001b[0;36m<module>\u001b[0;34m()\u001b[0m\n\u001b[1;32m      1\u001b[0m \u001b[0;31m## With the weights obtained from training earlier, lets obtains the feature vectors at the latent space\u001b[0m\u001b[0;34m\u001b[0m\u001b[0;34m\u001b[0m\u001b[0;34m\u001b[0m\u001b[0m\n\u001b[1;32m      2\u001b[0m \u001b[0;32mwith\u001b[0m \u001b[0mtf\u001b[0m\u001b[0;34m.\u001b[0m\u001b[0mSession\u001b[0m\u001b[0;34m(\u001b[0m\u001b[0;34m)\u001b[0m \u001b[0;32mas\u001b[0m \u001b[0msess\u001b[0m\u001b[0;34m:\u001b[0m\u001b[0;34m\u001b[0m\u001b[0;34m\u001b[0m\u001b[0m\n\u001b[0;32m----> 3\u001b[0;31m     \u001b[0msaver\u001b[0m\u001b[0;34m.\u001b[0m\u001b[0mrestore\u001b[0m\u001b[0;34m(\u001b[0m\u001b[0msess\u001b[0m\u001b[0;34m,\u001b[0m\u001b[0;34m'./checkpoint_dir/my_model'\u001b[0m\u001b[0;34m)\u001b[0m\u001b[0;34m\u001b[0m\u001b[0;34m\u001b[0m\u001b[0m\n\u001b[0m\u001b[1;32m      4\u001b[0m     \u001b[0;31m#res = hid_layer4.eval(feed_dict={X: lsd1})\u001b[0m\u001b[0;34m\u001b[0m\u001b[0;34m\u001b[0m\u001b[0;34m\u001b[0m\u001b[0m\n\u001b[1;32m      5\u001b[0m     \u001b[0msess\u001b[0m\u001b[0;34m.\u001b[0m\u001b[0mrun\u001b[0m\u001b[0;34m(\u001b[0m\u001b[0minit\u001b[0m\u001b[0;34m)\u001b[0m\u001b[0;34m\u001b[0m\u001b[0;34m\u001b[0m\u001b[0m\n",
            "\u001b[0;32m/usr/local/lib/python3.7/dist-packages/tensorflow/python/training/saver.py\u001b[0m in \u001b[0;36mrestore\u001b[0;34m(self, sess, save_path)\u001b[0m\n\u001b[1;32m   1274\u001b[0m       \u001b[0;32mraise\u001b[0m \u001b[0mValueError\u001b[0m\u001b[0;34m(\u001b[0m\u001b[0;34m\"Can't load save_path when it is None.\"\u001b[0m\u001b[0;34m)\u001b[0m\u001b[0;34m\u001b[0m\u001b[0;34m\u001b[0m\u001b[0m\n\u001b[1;32m   1275\u001b[0m \u001b[0;34m\u001b[0m\u001b[0m\n\u001b[0;32m-> 1276\u001b[0;31m     \u001b[0;32mif\u001b[0m \u001b[0;32mnot\u001b[0m \u001b[0mcheckpoint_management\u001b[0m\u001b[0;34m.\u001b[0m\u001b[0mcheckpoint_exists\u001b[0m\u001b[0;34m(\u001b[0m\u001b[0mcompat\u001b[0m\u001b[0;34m.\u001b[0m\u001b[0mas_text\u001b[0m\u001b[0;34m(\u001b[0m\u001b[0msave_path\u001b[0m\u001b[0;34m)\u001b[0m\u001b[0;34m)\u001b[0m\u001b[0;34m:\u001b[0m\u001b[0;34m\u001b[0m\u001b[0;34m\u001b[0m\u001b[0m\n\u001b[0m\u001b[1;32m   1277\u001b[0m       raise ValueError(\"The passed save_path is not a valid checkpoint: \" +\n\u001b[1;32m   1278\u001b[0m                        compat.as_text(save_path))\n",
            "\u001b[0;32m/usr/local/lib/python3.7/dist-packages/tensorflow/python/util/deprecation.py\u001b[0m in \u001b[0;36mnew_func\u001b[0;34m(*args, **kwargs)\u001b[0m\n\u001b[1;32m    322\u001b[0m               \u001b[0;34m'in a future version'\u001b[0m \u001b[0;32mif\u001b[0m \u001b[0mdate\u001b[0m \u001b[0;32mis\u001b[0m \u001b[0;32mNone\u001b[0m \u001b[0;32melse\u001b[0m \u001b[0;34m(\u001b[0m\u001b[0;34m'after %s'\u001b[0m \u001b[0;34m%\u001b[0m \u001b[0mdate\u001b[0m\u001b[0;34m)\u001b[0m\u001b[0;34m,\u001b[0m\u001b[0;34m\u001b[0m\u001b[0;34m\u001b[0m\u001b[0m\n\u001b[1;32m    323\u001b[0m               instructions)\n\u001b[0;32m--> 324\u001b[0;31m       \u001b[0;32mreturn\u001b[0m \u001b[0mfunc\u001b[0m\u001b[0;34m(\u001b[0m\u001b[0;34m*\u001b[0m\u001b[0margs\u001b[0m\u001b[0;34m,\u001b[0m \u001b[0;34m**\u001b[0m\u001b[0mkwargs\u001b[0m\u001b[0;34m)\u001b[0m\u001b[0;34m\u001b[0m\u001b[0;34m\u001b[0m\u001b[0m\n\u001b[0m\u001b[1;32m    325\u001b[0m     return tf_decorator.make_decorator(\n\u001b[1;32m    326\u001b[0m         \u001b[0mfunc\u001b[0m\u001b[0;34m,\u001b[0m \u001b[0mnew_func\u001b[0m\u001b[0;34m,\u001b[0m \u001b[0;34m'deprecated'\u001b[0m\u001b[0;34m,\u001b[0m\u001b[0;34m\u001b[0m\u001b[0;34m\u001b[0m\u001b[0m\n",
            "\u001b[0;32m/usr/local/lib/python3.7/dist-packages/tensorflow/python/training/checkpoint_management.py\u001b[0m in \u001b[0;36mcheckpoint_exists\u001b[0;34m(checkpoint_prefix)\u001b[0m\n\u001b[1;32m    370\u001b[0m   pathname = _prefix_to_checkpoint_path(checkpoint_prefix,\n\u001b[1;32m    371\u001b[0m                                         saver_pb2.SaverDef.V2)\n\u001b[0;32m--> 372\u001b[0;31m   \u001b[0;32mif\u001b[0m \u001b[0mfile_io\u001b[0m\u001b[0;34m.\u001b[0m\u001b[0mget_matching_files\u001b[0m\u001b[0;34m(\u001b[0m\u001b[0mpathname\u001b[0m\u001b[0;34m)\u001b[0m\u001b[0;34m:\u001b[0m\u001b[0;34m\u001b[0m\u001b[0;34m\u001b[0m\u001b[0m\n\u001b[0m\u001b[1;32m    373\u001b[0m     \u001b[0;32mreturn\u001b[0m \u001b[0;32mTrue\u001b[0m\u001b[0;34m\u001b[0m\u001b[0;34m\u001b[0m\u001b[0m\n\u001b[1;32m    374\u001b[0m   \u001b[0;32melif\u001b[0m \u001b[0mfile_io\u001b[0m\u001b[0;34m.\u001b[0m\u001b[0mget_matching_files\u001b[0m\u001b[0;34m(\u001b[0m\u001b[0mcheckpoint_prefix\u001b[0m\u001b[0;34m)\u001b[0m\u001b[0;34m:\u001b[0m\u001b[0;34m\u001b[0m\u001b[0;34m\u001b[0m\u001b[0m\n",
            "\u001b[0;32m/usr/local/lib/python3.7/dist-packages/tensorflow/python/lib/io/file_io.py\u001b[0m in \u001b[0;36mget_matching_files\u001b[0;34m(filename)\u001b[0m\n\u001b[1;32m    361\u001b[0m     \u001b[0merrors\u001b[0m\u001b[0;34m.\u001b[0m\u001b[0mOpError\u001b[0m\u001b[0;34m:\u001b[0m \u001b[0mIf\u001b[0m \u001b[0mthere\u001b[0m \u001b[0mare\u001b[0m \u001b[0mfilesystem\u001b[0m \u001b[0;34m/\u001b[0m \u001b[0mdirectory\u001b[0m \u001b[0mlisting\u001b[0m \u001b[0merrors\u001b[0m\u001b[0;34m.\u001b[0m\u001b[0;34m\u001b[0m\u001b[0;34m\u001b[0m\u001b[0m\n\u001b[1;32m    362\u001b[0m   \"\"\"\n\u001b[0;32m--> 363\u001b[0;31m   \u001b[0;32mreturn\u001b[0m \u001b[0mget_matching_files_v2\u001b[0m\u001b[0;34m(\u001b[0m\u001b[0mfilename\u001b[0m\u001b[0;34m)\u001b[0m\u001b[0;34m\u001b[0m\u001b[0;34m\u001b[0m\u001b[0m\n\u001b[0m\u001b[1;32m    364\u001b[0m \u001b[0;34m\u001b[0m\u001b[0m\n\u001b[1;32m    365\u001b[0m \u001b[0;34m\u001b[0m\u001b[0m\n",
            "\u001b[0;32m/usr/local/lib/python3.7/dist-packages/tensorflow/python/lib/io/file_io.py\u001b[0m in \u001b[0;36mget_matching_files_v2\u001b[0;34m(pattern)\u001b[0m\n\u001b[1;32m    382\u001b[0m         \u001b[0mcompat\u001b[0m\u001b[0;34m.\u001b[0m\u001b[0mas_str_any\u001b[0m\u001b[0;34m(\u001b[0m\u001b[0mmatching_filename\u001b[0m\u001b[0;34m)\u001b[0m\u001b[0;34m\u001b[0m\u001b[0;34m\u001b[0m\u001b[0m\n\u001b[1;32m    383\u001b[0m         for matching_filename in pywrap_tensorflow.GetMatchingFiles(\n\u001b[0;32m--> 384\u001b[0;31m             compat.as_bytes(pattern))\n\u001b[0m\u001b[1;32m    385\u001b[0m     ]\n\u001b[1;32m    386\u001b[0m   \u001b[0;32melse\u001b[0m\u001b[0;34m:\u001b[0m\u001b[0;34m\u001b[0m\u001b[0;34m\u001b[0m\u001b[0m\n",
            "\u001b[0;31mNotFoundError\u001b[0m: ./checkpoint_dir; No such file or directory"
          ]
        }
      ],
      "source": [
        "## With the weights obtained from training earlier, lets obtains the feature vectors at the latent space\n",
        "with tf.Session() as sess:\n",
        "    saver.restore(sess,'./checkpoint_dir/final_model')\n",
        "    res = hid_layer4.eval(feed_dict={X: lsd1}) \n",
        "\n",
        "res.to_csv('res.csv')"
      ]
    },
    {
      "cell_type": "code",
      "source": [
        "res"
      ],
      "metadata": {
        "colab": {
          "base_uri": "https://localhost:8080/",
          "height": 488
        },
        "id": "KPE2PcfrWl0l",
        "outputId": "86a511c5-c684-41a8-ea26-b8268d009f5d"
      },
      "execution_count": null,
      "outputs": [
        {
          "output_type": "execute_result",
          "data": {
            "text/plain": [
              "           0         1    2         3         4    5         6         7   \\\n",
              "0    1.971119  0.708010  0.0  1.531945  3.129026  0.0  0.691859  1.486513   \n",
              "1    2.765610  4.070502  0.0  1.604277  5.405550  0.0  0.428894  1.722560   \n",
              "2    2.340017  4.628875  0.0  1.555720  5.978680  0.0  0.730973  1.439102   \n",
              "3    1.454097  1.238874  0.0  1.606725  1.952919  0.0  0.942727  1.968982   \n",
              "4    1.026815  1.241035  0.0  1.154527  0.310151  0.0  0.546079  1.210776   \n",
              "..        ...       ...  ...       ...       ...  ...       ...       ...   \n",
              "926  1.472904  1.222170  0.0  0.279506  1.642460  0.0  1.025252  0.000000   \n",
              "927  1.910262  3.427852  0.0  1.390302  2.652615  0.0  2.321804  0.893241   \n",
              "928  1.663143  2.989021  0.0  0.616286  1.778342  0.0  1.505248  1.199605   \n",
              "929  2.209959  0.710210  0.0  1.903195  1.981587  0.0  0.312087  0.862177   \n",
              "930  2.355724  1.324735  0.0  0.313869  1.441337  0.0  0.874076  0.230092   \n",
              "\n",
              "           8         9   ...        22        23        24        25  \\\n",
              "0    1.743162  1.349633  ...  1.575900  0.932109  0.847057  1.045408   \n",
              "1    2.466619  1.960677  ...  2.032835  1.854249  1.905217  2.628822   \n",
              "2    2.082943  1.659024  ...  2.571778  1.711109  1.549374  2.062428   \n",
              "3    1.540220  1.673669  ...  0.861158  1.138574  1.327691  0.270453   \n",
              "4    0.762127  1.278183  ...  0.478828  1.153295  0.433902  1.892238   \n",
              "..        ...       ...  ...       ...       ...       ...       ...   \n",
              "926  1.780461  0.577346  ...  1.229539  1.541503  1.569701  0.571175   \n",
              "927  3.165932  0.527149  ...  2.129314  1.616196  0.902178  1.506641   \n",
              "928  2.607651  0.375065  ...  2.007505  1.141599  0.982783  1.173786   \n",
              "929  2.338372  0.656626  ...  0.723442  0.808668  0.578436  0.000000   \n",
              "930  2.200199  0.515649  ...  1.996186  1.610874  0.447171  1.148994   \n",
              "\n",
              "           26        27        28        29        30        31  \n",
              "0    1.263589  0.541919  1.819888  0.899362  1.698281  2.833895  \n",
              "1    0.988939  1.282823  2.004048  0.992213  1.642628  1.627804  \n",
              "2    1.818226  1.256932  1.729711  1.615286  1.301171  1.335762  \n",
              "3    1.260636  1.614968  0.754679  1.304069  1.331764  2.824496  \n",
              "4    1.132090  1.190311  0.928300  1.088190  1.997479  1.954959  \n",
              "..        ...       ...       ...       ...       ...       ...  \n",
              "926  1.706628  1.074508  1.715292  2.131420  2.365013  0.630113  \n",
              "927  0.006176  0.131902  1.846209  2.927191  2.462290  1.476778  \n",
              "928  0.099245  0.000000  1.717675  2.346229  2.089259  1.361008  \n",
              "929  1.664659  0.724790  1.355473  2.041394  0.688967  2.426601  \n",
              "930  1.342365  1.889678  1.990361  2.843565  1.813251  1.769030  \n",
              "\n",
              "[931 rows x 32 columns]"
            ],
            "text/html": [
              "\n",
              "  <div id=\"df-69513e38-cd72-40c7-aa8f-56532d11a132\">\n",
              "    <div class=\"colab-df-container\">\n",
              "      <div>\n",
              "<style scoped>\n",
              "    .dataframe tbody tr th:only-of-type {\n",
              "        vertical-align: middle;\n",
              "    }\n",
              "\n",
              "    .dataframe tbody tr th {\n",
              "        vertical-align: top;\n",
              "    }\n",
              "\n",
              "    .dataframe thead th {\n",
              "        text-align: right;\n",
              "    }\n",
              "</style>\n",
              "<table border=\"1\" class=\"dataframe\">\n",
              "  <thead>\n",
              "    <tr style=\"text-align: right;\">\n",
              "      <th></th>\n",
              "      <th>0</th>\n",
              "      <th>1</th>\n",
              "      <th>2</th>\n",
              "      <th>3</th>\n",
              "      <th>4</th>\n",
              "      <th>5</th>\n",
              "      <th>6</th>\n",
              "      <th>7</th>\n",
              "      <th>8</th>\n",
              "      <th>9</th>\n",
              "      <th>...</th>\n",
              "      <th>22</th>\n",
              "      <th>23</th>\n",
              "      <th>24</th>\n",
              "      <th>25</th>\n",
              "      <th>26</th>\n",
              "      <th>27</th>\n",
              "      <th>28</th>\n",
              "      <th>29</th>\n",
              "      <th>30</th>\n",
              "      <th>31</th>\n",
              "    </tr>\n",
              "  </thead>\n",
              "  <tbody>\n",
              "    <tr>\n",
              "      <th>0</th>\n",
              "      <td>1.971119</td>\n",
              "      <td>0.708010</td>\n",
              "      <td>0.0</td>\n",
              "      <td>1.531945</td>\n",
              "      <td>3.129026</td>\n",
              "      <td>0.0</td>\n",
              "      <td>0.691859</td>\n",
              "      <td>1.486513</td>\n",
              "      <td>1.743162</td>\n",
              "      <td>1.349633</td>\n",
              "      <td>...</td>\n",
              "      <td>1.575900</td>\n",
              "      <td>0.932109</td>\n",
              "      <td>0.847057</td>\n",
              "      <td>1.045408</td>\n",
              "      <td>1.263589</td>\n",
              "      <td>0.541919</td>\n",
              "      <td>1.819888</td>\n",
              "      <td>0.899362</td>\n",
              "      <td>1.698281</td>\n",
              "      <td>2.833895</td>\n",
              "    </tr>\n",
              "    <tr>\n",
              "      <th>1</th>\n",
              "      <td>2.765610</td>\n",
              "      <td>4.070502</td>\n",
              "      <td>0.0</td>\n",
              "      <td>1.604277</td>\n",
              "      <td>5.405550</td>\n",
              "      <td>0.0</td>\n",
              "      <td>0.428894</td>\n",
              "      <td>1.722560</td>\n",
              "      <td>2.466619</td>\n",
              "      <td>1.960677</td>\n",
              "      <td>...</td>\n",
              "      <td>2.032835</td>\n",
              "      <td>1.854249</td>\n",
              "      <td>1.905217</td>\n",
              "      <td>2.628822</td>\n",
              "      <td>0.988939</td>\n",
              "      <td>1.282823</td>\n",
              "      <td>2.004048</td>\n",
              "      <td>0.992213</td>\n",
              "      <td>1.642628</td>\n",
              "      <td>1.627804</td>\n",
              "    </tr>\n",
              "    <tr>\n",
              "      <th>2</th>\n",
              "      <td>2.340017</td>\n",
              "      <td>4.628875</td>\n",
              "      <td>0.0</td>\n",
              "      <td>1.555720</td>\n",
              "      <td>5.978680</td>\n",
              "      <td>0.0</td>\n",
              "      <td>0.730973</td>\n",
              "      <td>1.439102</td>\n",
              "      <td>2.082943</td>\n",
              "      <td>1.659024</td>\n",
              "      <td>...</td>\n",
              "      <td>2.571778</td>\n",
              "      <td>1.711109</td>\n",
              "      <td>1.549374</td>\n",
              "      <td>2.062428</td>\n",
              "      <td>1.818226</td>\n",
              "      <td>1.256932</td>\n",
              "      <td>1.729711</td>\n",
              "      <td>1.615286</td>\n",
              "      <td>1.301171</td>\n",
              "      <td>1.335762</td>\n",
              "    </tr>\n",
              "    <tr>\n",
              "      <th>3</th>\n",
              "      <td>1.454097</td>\n",
              "      <td>1.238874</td>\n",
              "      <td>0.0</td>\n",
              "      <td>1.606725</td>\n",
              "      <td>1.952919</td>\n",
              "      <td>0.0</td>\n",
              "      <td>0.942727</td>\n",
              "      <td>1.968982</td>\n",
              "      <td>1.540220</td>\n",
              "      <td>1.673669</td>\n",
              "      <td>...</td>\n",
              "      <td>0.861158</td>\n",
              "      <td>1.138574</td>\n",
              "      <td>1.327691</td>\n",
              "      <td>0.270453</td>\n",
              "      <td>1.260636</td>\n",
              "      <td>1.614968</td>\n",
              "      <td>0.754679</td>\n",
              "      <td>1.304069</td>\n",
              "      <td>1.331764</td>\n",
              "      <td>2.824496</td>\n",
              "    </tr>\n",
              "    <tr>\n",
              "      <th>4</th>\n",
              "      <td>1.026815</td>\n",
              "      <td>1.241035</td>\n",
              "      <td>0.0</td>\n",
              "      <td>1.154527</td>\n",
              "      <td>0.310151</td>\n",
              "      <td>0.0</td>\n",
              "      <td>0.546079</td>\n",
              "      <td>1.210776</td>\n",
              "      <td>0.762127</td>\n",
              "      <td>1.278183</td>\n",
              "      <td>...</td>\n",
              "      <td>0.478828</td>\n",
              "      <td>1.153295</td>\n",
              "      <td>0.433902</td>\n",
              "      <td>1.892238</td>\n",
              "      <td>1.132090</td>\n",
              "      <td>1.190311</td>\n",
              "      <td>0.928300</td>\n",
              "      <td>1.088190</td>\n",
              "      <td>1.997479</td>\n",
              "      <td>1.954959</td>\n",
              "    </tr>\n",
              "    <tr>\n",
              "      <th>...</th>\n",
              "      <td>...</td>\n",
              "      <td>...</td>\n",
              "      <td>...</td>\n",
              "      <td>...</td>\n",
              "      <td>...</td>\n",
              "      <td>...</td>\n",
              "      <td>...</td>\n",
              "      <td>...</td>\n",
              "      <td>...</td>\n",
              "      <td>...</td>\n",
              "      <td>...</td>\n",
              "      <td>...</td>\n",
              "      <td>...</td>\n",
              "      <td>...</td>\n",
              "      <td>...</td>\n",
              "      <td>...</td>\n",
              "      <td>...</td>\n",
              "      <td>...</td>\n",
              "      <td>...</td>\n",
              "      <td>...</td>\n",
              "      <td>...</td>\n",
              "    </tr>\n",
              "    <tr>\n",
              "      <th>926</th>\n",
              "      <td>1.472904</td>\n",
              "      <td>1.222170</td>\n",
              "      <td>0.0</td>\n",
              "      <td>0.279506</td>\n",
              "      <td>1.642460</td>\n",
              "      <td>0.0</td>\n",
              "      <td>1.025252</td>\n",
              "      <td>0.000000</td>\n",
              "      <td>1.780461</td>\n",
              "      <td>0.577346</td>\n",
              "      <td>...</td>\n",
              "      <td>1.229539</td>\n",
              "      <td>1.541503</td>\n",
              "      <td>1.569701</td>\n",
              "      <td>0.571175</td>\n",
              "      <td>1.706628</td>\n",
              "      <td>1.074508</td>\n",
              "      <td>1.715292</td>\n",
              "      <td>2.131420</td>\n",
              "      <td>2.365013</td>\n",
              "      <td>0.630113</td>\n",
              "    </tr>\n",
              "    <tr>\n",
              "      <th>927</th>\n",
              "      <td>1.910262</td>\n",
              "      <td>3.427852</td>\n",
              "      <td>0.0</td>\n",
              "      <td>1.390302</td>\n",
              "      <td>2.652615</td>\n",
              "      <td>0.0</td>\n",
              "      <td>2.321804</td>\n",
              "      <td>0.893241</td>\n",
              "      <td>3.165932</td>\n",
              "      <td>0.527149</td>\n",
              "      <td>...</td>\n",
              "      <td>2.129314</td>\n",
              "      <td>1.616196</td>\n",
              "      <td>0.902178</td>\n",
              "      <td>1.506641</td>\n",
              "      <td>0.006176</td>\n",
              "      <td>0.131902</td>\n",
              "      <td>1.846209</td>\n",
              "      <td>2.927191</td>\n",
              "      <td>2.462290</td>\n",
              "      <td>1.476778</td>\n",
              "    </tr>\n",
              "    <tr>\n",
              "      <th>928</th>\n",
              "      <td>1.663143</td>\n",
              "      <td>2.989021</td>\n",
              "      <td>0.0</td>\n",
              "      <td>0.616286</td>\n",
              "      <td>1.778342</td>\n",
              "      <td>0.0</td>\n",
              "      <td>1.505248</td>\n",
              "      <td>1.199605</td>\n",
              "      <td>2.607651</td>\n",
              "      <td>0.375065</td>\n",
              "      <td>...</td>\n",
              "      <td>2.007505</td>\n",
              "      <td>1.141599</td>\n",
              "      <td>0.982783</td>\n",
              "      <td>1.173786</td>\n",
              "      <td>0.099245</td>\n",
              "      <td>0.000000</td>\n",
              "      <td>1.717675</td>\n",
              "      <td>2.346229</td>\n",
              "      <td>2.089259</td>\n",
              "      <td>1.361008</td>\n",
              "    </tr>\n",
              "    <tr>\n",
              "      <th>929</th>\n",
              "      <td>2.209959</td>\n",
              "      <td>0.710210</td>\n",
              "      <td>0.0</td>\n",
              "      <td>1.903195</td>\n",
              "      <td>1.981587</td>\n",
              "      <td>0.0</td>\n",
              "      <td>0.312087</td>\n",
              "      <td>0.862177</td>\n",
              "      <td>2.338372</td>\n",
              "      <td>0.656626</td>\n",
              "      <td>...</td>\n",
              "      <td>0.723442</td>\n",
              "      <td>0.808668</td>\n",
              "      <td>0.578436</td>\n",
              "      <td>0.000000</td>\n",
              "      <td>1.664659</td>\n",
              "      <td>0.724790</td>\n",
              "      <td>1.355473</td>\n",
              "      <td>2.041394</td>\n",
              "      <td>0.688967</td>\n",
              "      <td>2.426601</td>\n",
              "    </tr>\n",
              "    <tr>\n",
              "      <th>930</th>\n",
              "      <td>2.355724</td>\n",
              "      <td>1.324735</td>\n",
              "      <td>0.0</td>\n",
              "      <td>0.313869</td>\n",
              "      <td>1.441337</td>\n",
              "      <td>0.0</td>\n",
              "      <td>0.874076</td>\n",
              "      <td>0.230092</td>\n",
              "      <td>2.200199</td>\n",
              "      <td>0.515649</td>\n",
              "      <td>...</td>\n",
              "      <td>1.996186</td>\n",
              "      <td>1.610874</td>\n",
              "      <td>0.447171</td>\n",
              "      <td>1.148994</td>\n",
              "      <td>1.342365</td>\n",
              "      <td>1.889678</td>\n",
              "      <td>1.990361</td>\n",
              "      <td>2.843565</td>\n",
              "      <td>1.813251</td>\n",
              "      <td>1.769030</td>\n",
              "    </tr>\n",
              "  </tbody>\n",
              "</table>\n",
              "<p>931 rows × 32 columns</p>\n",
              "</div>\n",
              "      <button class=\"colab-df-convert\" onclick=\"convertToInteractive('df-69513e38-cd72-40c7-aa8f-56532d11a132')\"\n",
              "              title=\"Convert this dataframe to an interactive table.\"\n",
              "              style=\"display:none;\">\n",
              "        \n",
              "  <svg xmlns=\"http://www.w3.org/2000/svg\" height=\"24px\"viewBox=\"0 0 24 24\"\n",
              "       width=\"24px\">\n",
              "    <path d=\"M0 0h24v24H0V0z\" fill=\"none\"/>\n",
              "    <path d=\"M18.56 5.44l.94 2.06.94-2.06 2.06-.94-2.06-.94-.94-2.06-.94 2.06-2.06.94zm-11 1L8.5 8.5l.94-2.06 2.06-.94-2.06-.94L8.5 2.5l-.94 2.06-2.06.94zm10 10l.94 2.06.94-2.06 2.06-.94-2.06-.94-.94-2.06-.94 2.06-2.06.94z\"/><path d=\"M17.41 7.96l-1.37-1.37c-.4-.4-.92-.59-1.43-.59-.52 0-1.04.2-1.43.59L10.3 9.45l-7.72 7.72c-.78.78-.78 2.05 0 2.83L4 21.41c.39.39.9.59 1.41.59.51 0 1.02-.2 1.41-.59l7.78-7.78 2.81-2.81c.8-.78.8-2.07 0-2.86zM5.41 20L4 18.59l7.72-7.72 1.47 1.35L5.41 20z\"/>\n",
              "  </svg>\n",
              "      </button>\n",
              "      \n",
              "  <style>\n",
              "    .colab-df-container {\n",
              "      display:flex;\n",
              "      flex-wrap:wrap;\n",
              "      gap: 12px;\n",
              "    }\n",
              "\n",
              "    .colab-df-convert {\n",
              "      background-color: #E8F0FE;\n",
              "      border: none;\n",
              "      border-radius: 50%;\n",
              "      cursor: pointer;\n",
              "      display: none;\n",
              "      fill: #1967D2;\n",
              "      height: 32px;\n",
              "      padding: 0 0 0 0;\n",
              "      width: 32px;\n",
              "    }\n",
              "\n",
              "    .colab-df-convert:hover {\n",
              "      background-color: #E2EBFA;\n",
              "      box-shadow: 0px 1px 2px rgba(60, 64, 67, 0.3), 0px 1px 3px 1px rgba(60, 64, 67, 0.15);\n",
              "      fill: #174EA6;\n",
              "    }\n",
              "\n",
              "    [theme=dark] .colab-df-convert {\n",
              "      background-color: #3B4455;\n",
              "      fill: #D2E3FC;\n",
              "    }\n",
              "\n",
              "    [theme=dark] .colab-df-convert:hover {\n",
              "      background-color: #434B5C;\n",
              "      box-shadow: 0px 1px 3px 1px rgba(0, 0, 0, 0.15);\n",
              "      filter: drop-shadow(0px 1px 2px rgba(0, 0, 0, 0.3));\n",
              "      fill: #FFFFFF;\n",
              "    }\n",
              "  </style>\n",
              "\n",
              "      <script>\n",
              "        const buttonEl =\n",
              "          document.querySelector('#df-69513e38-cd72-40c7-aa8f-56532d11a132 button.colab-df-convert');\n",
              "        buttonEl.style.display =\n",
              "          google.colab.kernel.accessAllowed ? 'block' : 'none';\n",
              "\n",
              "        async function convertToInteractive(key) {\n",
              "          const element = document.querySelector('#df-69513e38-cd72-40c7-aa8f-56532d11a132');\n",
              "          const dataTable =\n",
              "            await google.colab.kernel.invokeFunction('convertToInteractive',\n",
              "                                                     [key], {});\n",
              "          if (!dataTable) return;\n",
              "\n",
              "          const docLinkHtml = 'Like what you see? Visit the ' +\n",
              "            '<a target=\"_blank\" href=https://colab.research.google.com/notebooks/data_table.ipynb>data table notebook</a>'\n",
              "            + ' to learn more about interactive tables.';\n",
              "          element.innerHTML = '';\n",
              "          dataTable['output_type'] = 'display_data';\n",
              "          await google.colab.output.renderOutput(dataTable, element);\n",
              "          const docLink = document.createElement('div');\n",
              "          docLink.innerHTML = docLinkHtml;\n",
              "          element.appendChild(docLink);\n",
              "        }\n",
              "      </script>\n",
              "    </div>\n",
              "  </div>\n",
              "  "
            ]
          },
          "metadata": {},
          "execution_count": 26
        }
      ]
    },
    {
      "cell_type": "code",
      "execution_count": null,
      "metadata": {
        "colab": {
          "base_uri": "https://localhost:8080/",
          "height": 295
        },
        "id": "lGvlQ-tByw54",
        "outputId": "2606f1f7-46fd-464c-99ce-84638723a2e2"
      },
      "outputs": [
        {
          "output_type": "display_data",
          "data": {
            "text/plain": [
              "<Figure size 432x288 with 1 Axes>"
            ],
            "image/png": "[encoded data removed]"
          },
          "metadata": {
            "needs_background": "light"
          }
        }
      ],
      "source": [
        "## Visualizing\n",
        "import matplotlib.pyplot as plt\n",
        "plt.plot(to_plot_220)\n",
        "plt.xlabel(\"Number of Epochs\")\n",
        "plt.ylabel(\"Loss\")\n",
        "plt.title(\"Loss Vs number epochs for latent space of 32 Dimensions\")\n",
        "plt.show()"
      ]
    },
    {
      "cell_type": "code",
      "execution_count": null,
      "metadata": {
        "colab": {
          "base_uri": "https://localhost:8080/"
        },
        "id": "rEqCkHsQybSk",
        "outputId": "8062f027-e98a-4df4-fa9f-7b4df3631f7a"
      },
      "outputs": [
        {
          "output_type": "stream",
          "name": "stdout",
          "text": [
            "           0         1    2         3         4    5         6         7   \\\n",
            "0    0.829010  1.362800  0.0  0.000000  0.000000  0.0  0.867868  0.000000   \n",
            "1    0.000000  0.000000  0.0  0.000000  0.000000  0.0  0.000000  0.000000   \n",
            "2    0.000000  0.000000  0.0  0.000000  0.000000  0.0  0.000000  0.000000   \n",
            "3    0.000000  0.219733  0.0  0.000000  1.015494  0.0  0.460923  0.000087   \n",
            "4    0.000464  0.000000  0.0  0.384162  0.320444  0.0  1.033597  0.000000   \n",
            "..        ...       ...  ...       ...       ...  ...       ...       ...   \n",
            "926  0.000000  1.028063  0.0  0.719278  0.106120  0.0  0.000000  2.592574   \n",
            "927  0.000000  0.000000  0.0  2.256241  0.000000  0.0  0.998018  0.920355   \n",
            "928  0.000000  0.000000  0.0  0.434058  0.000000  0.0  0.000000  1.632917   \n",
            "929  0.375415  0.640075  0.0  0.369310  0.072371  0.0  0.000000  0.512863   \n",
            "930  0.000000  1.224089  0.0  0.872369  2.215334  0.0  0.000000  3.442755   \n",
            "\n",
            "           8         9   ...        22        23        24        25  \\\n",
            "0    1.931529  0.000000  ...  0.000000  2.980200  1.095955  0.996611   \n",
            "1    0.000000  0.000000  ...  0.000000  0.000000  0.000000  0.000000   \n",
            "2    0.000000  0.000000  ...  0.000000  0.000000  0.000000  0.000000   \n",
            "3    0.000000  1.182964  ...  0.000000  1.739100  0.000000  1.501386   \n",
            "4    0.000000  0.000000  ...  0.000000  1.463133  0.000000  1.557807   \n",
            "..        ...       ...  ...       ...       ...       ...       ...   \n",
            "926  3.541815  0.633574  ...  0.019908  1.093213  0.000000  1.993865   \n",
            "927  3.984407  2.970823  ...  0.000000  1.360552  0.323723  0.000000   \n",
            "928  3.155881  4.061286  ...  0.000000  0.979037  0.000000  0.000000   \n",
            "929  1.426668  1.485615  ...  0.976909  1.918630  0.909808  0.000000   \n",
            "930  1.811094  2.430798  ...  0.000000  0.851609  0.000000  0.000000   \n",
            "\n",
            "           26        27        28        29        30        31  \n",
            "0    0.000000  1.094687  0.000000  0.000000  0.000000  0.317226  \n",
            "1    0.000000  1.803370  0.000000  0.000000  0.000000  0.000000  \n",
            "2    0.000000  1.799181  0.000000  0.000000  0.000000  0.000000  \n",
            "3    0.000000  0.465087  0.974490  0.000000  0.367697  1.195282  \n",
            "4    0.000000  0.482745  0.000000  0.000000  0.491976  0.711972  \n",
            "..        ...       ...       ...       ...       ...       ...  \n",
            "926  1.861332  0.000000  0.000000  0.508219  0.000000  0.000000  \n",
            "927  1.728078  0.961543  0.000000  0.000000  0.000000  0.000000  \n",
            "928  1.721670  2.641230  0.000000  0.000000  0.360289  0.000000  \n",
            "929  1.450025  0.000000  0.000000  0.000000  0.000000  0.000000  \n",
            "930  0.938175  0.000000  1.654511  0.000000  0.000000  0.000000  \n",
            "\n",
            "[931 rows x 32 columns]\n"
          ]
        }
      ],
      "source": [
        "res.shape\n",
        "dr = pd.DataFrame(res)\n",
        "print(dr)\n",
        "dr.to_csv('512_32_0.003.csv')"
      ]
    },
    {
      "cell_type": "markdown",
      "metadata": {
        "id": "61CtakHyzeYb"
      },
      "source": [
        "# More larger Dimensions\n"
      ]
    },
    {
      "cell_type": "code",
      "execution_count": null,
      "metadata": {
        "colab": {
          "base_uri": "https://localhost:8080/"
        },
        "id": "JJ5U160AUnLR",
        "outputId": "d32dee0c-1d65-4b30-ad73-b40eeba24fb0"
      },
      "outputs": [
        {
          "name": "stdout",
          "output_type": "stream",
          "text": [
            "Epoch: 0 Loss: 0.10121292620897293\n",
            "Epoch: 20 Loss: 0.012367009185254574\n",
            "Epoch: 40 Loss: 0.01190527155995369\n",
            "Epoch: 60 Loss: 0.009825997985899448\n",
            "Epoch: 80 Loss: 0.012089080177247524\n",
            "Epoch: 100 Loss: 0.012143723666667938\n",
            "Epoch: 120 Loss: 0.008897398598492146\n",
            "Epoch: 140 Loss: 0.00812164694070816\n",
            "Epoch: 160 Loss: 0.010212169960141182\n",
            "Epoch: 180 Loss: 0.008470087312161922\n",
            "Epoch: 200 Loss: 0.010004487819969654\n",
            "Epoch: 220 Loss: 0.008345128037035465\n",
            "Epoch: 240 Loss: 0.008415118791162968\n",
            "Epoch: 260 Loss: 0.008509389124810696\n",
            "Epoch: 280 Loss: 0.00817402359098196\n",
            "Epoch: 300 Loss: 0.0077760168351233006\n",
            "Epoch: 320 Loss: 0.007885734550654888\n",
            "Epoch: 340 Loss: 0.008110381662845612\n",
            "Epoch: 360 Loss: 0.006951645016670227\n",
            "Epoch: 380 Loss: 0.007551573216915131\n",
            "Epoch: 400 Loss: 0.0071871024556458\n",
            "Epoch: 420 Loss: 0.007503820117563009\n",
            "Epoch: 440 Loss: 0.009221826680004597\n",
            "Epoch: 460 Loss: 0.007303739432245493\n",
            "Epoch: 480 Loss: 0.007328186649829149\n"
          ]
        }
      ],
      "source": [
        "num_inputs = 512\n",
        "\n",
        "hidden_1 = 512//2       ## 256\n",
        "hidden_2 = hidden_1 //2  ## 128\n",
        "hidden_3 = hidden_2 //2  ## 64\n",
        "hidden_4 = hidden_2\n",
        "hidden_5 = hidden_1\n",
        "\n",
        "num_outputs = num_inputs ## 512\n",
        "\n",
        "learning_rate = 0.001\n",
        "activ_fn = tf.nn.relu\n",
        "#norm = tf.nn.batch_normalization()\n",
        "\n",
        "X = tf.placeholder(tf.float32,shape = [None,num_inputs])\n",
        "\n",
        "## scaling \n",
        "initializer = tf.contrib.layers.variance_scaling_initializer()\n",
        "\n",
        "## Weights\n",
        "\n",
        "w1 = tf.Variable(initializer([num_inputs,hidden_1]),dtype=tf.float32)\n",
        "w2 = tf.Variable(initializer([hidden_1,hidden_2]),dtype=tf.float32)\n",
        "w3 = tf.Variable(initializer([hidden_2,hidden_3]),dtype=tf.float32)\n",
        "w4 = tf.transpose(w3)\n",
        "w5 = tf.transpose(w2)\n",
        "w6 = tf.transpose(w1)\n",
        "\n",
        "\n",
        "\n",
        "## Biases\n",
        "\n",
        "b1 = tf.Variable(tf.zeros(hidden_1))\n",
        "b2 = tf.Variable(tf.zeros(hidden_2))\n",
        "b3 = tf.Variable(tf.zeros(hidden_3))\n",
        "\n",
        "b4 = b2\n",
        "b5 = b1\n",
        "\n",
        "b6 = tf.Variable(tf.zeros(num_outputs))\n",
        "\n",
        "\n",
        "hid_layer1 = activ_fn(tf.matmul(X,w1)+b1)\n",
        "hid_layer2 = activ_fn(tf.matmul(hid_layer1,w2)+b2)\n",
        "hid_layer3 = activ_fn(tf.matmul(hid_layer2,w3)+b3)\n",
        "hid_layer4 = activ_fn(tf.matmul(hid_layer3,w4)+b4)\n",
        "hid_layer5 = activ_fn(tf.matmul(hid_layer4,w5)+b5)\n",
        "output_layer = activ_fn(tf.matmul(hid_layer5,w6)+b6)\n",
        "\n",
        "## Loss Function\n",
        "\n",
        "loss = tf.reduce_mean(tf.square(output_layer - X))\n",
        "\n",
        "## Optimzer\n",
        "optimizer = tf.train.AdamOptimizer(learning_rate)\n",
        "\n",
        "train = optimizer.minimize(loss)\n",
        "\n",
        "## Initialzing\n",
        "init = tf.global_variables_initializer()\n",
        "\n",
        "saver = tf.train.Saver()\n",
        "\n",
        "num_epochs = 500\n",
        "batch_size = 8\n",
        "to_plot = []\n",
        "from sklearn.utils import shuffle\n",
        "#X = shuffle(X) \n",
        "\n",
        "with tf.Session() as sess:\n",
        "    sess.run(init)\n",
        "    for epoch in range(num_epochs):\n",
        "        for index, offset in enumerate(range(0, df.shape[0], batch_size)):\n",
        "            xs = df[offset: offset + batch_size]\n",
        "            #print(offset)\n",
        "            sess.run(train, feed_dict={X: xs})\n",
        "        training_loss = loss.eval(feed_dict={X: xs})\n",
        "        to_plot.append(training_loss)\n",
        "        if epoch % 20 == 0:\n",
        "          print(\"Epoch: {} Loss: {}\".format(epoch,training_loss))\n",
        "    \n",
        "    saver.save(sess,'./stacked_autoencoder_32_50D_tanh.ckpt')\n"
      ]
    },
    {
      "cell_type": "code",
      "execution_count": null,
      "metadata": {
        "id": "DPJDGHFJdIp4"
      },
      "outputs": [],
      "source": [
        "with tf.Session() as sess:\n",
        "    saver.restore(sess,'./stacked_autoencoder_32_50D_tanh.ckpt')\n",
        "    d50 = hid_layer3.eval(feed_dict={X: df})  \n",
        "\n",
        "np.savetxt('Dim_64.tsv',d50,delimiter='\\t')"
      ]
    },
    {
      "cell_type": "code",
      "execution_count": null,
      "metadata": {
        "colab": {
          "base_uri": "https://localhost:8080/"
        },
        "id": "UgD_uW2tdRyg",
        "outputId": "a34f8279-1126-4cfd-edde-3418b54b49f1"
      },
      "outputs": [
        {
          "data": {
            "text/plain": [
              "array([[0.60872406, 0.        , 0.        , ..., 0.01195174, 0.        ,\n",
              "        0.        ],\n",
              "       [0.        , 1.5955508 , 0.        , ..., 0.        , 0.        ,\n",
              "        1.7521322 ],\n",
              "       [0.        , 2.2621021 , 0.        , ..., 0.        , 0.        ,\n",
              "        2.5632324 ],\n",
              "       ...,\n",
              "       [0.        , 0.        , 0.        , ..., 0.        , 0.        ,\n",
              "        1.000032  ],\n",
              "       [0.        , 0.        , 0.        , ..., 1.340622  , 0.        ,\n",
              "        0.        ],\n",
              "       [0.        , 0.        , 0.        , ..., 0.56723374, 0.        ,\n",
              "        0.0072813 ]], dtype=float32)"
            ]
          },
          "execution_count": 106,
          "metadata": {},
          "output_type": "execute_result"
        }
      ],
      "source": [
        "d50"
      ]
    },
    {
      "cell_type": "code",
      "execution_count": null,
      "metadata": {
        "colab": {
          "base_uri": "https://localhost:8080/",
          "height": 295
        },
        "id": "v9gM0WKMdT6F",
        "outputId": "e89a1752-6538-47e7-bfb8-e1a856d0a2b0"
      },
      "outputs": [
        {
          "data": {
            "image/png": "[encoded data removed]",
            "text/plain": [
              "<Figure size 432x288 with 1 Axes>"
            ]
          },
          "metadata": {},
          "output_type": "display_data"
        }
      ],
      "source": [
        "Dim_51,= plt.plot(to_plot, label=\"Dimension 51\")\n",
        "Dim_220, =  plt.plot(to_plot_220, label=\"Dimension 220\")\n",
        "plt.legend(handles=[Dim_51, Dim_220])\n",
        "plt.xlabel(\"Number of Epochs\")\n",
        "plt.ylabel(\"Loss\")\n",
        "plt.title(\"Loss Vs number epochs for different latent space\")\n",
        "plt.show()\n"
      ]
    },
    {
      "cell_type": "code",
      "source": [
        ""
      ],
      "metadata": {
        "id": "jvJB2DmmDazg"
      },
      "execution_count": null,
      "outputs": []
    },
    {
      "cell_type": "code",
      "source": [
        ""
      ],
      "metadata": {
        "id": "sa93BxzsDa3a"
      },
      "execution_count": null,
      "outputs": []
    },
    {
      "cell_type": "code",
      "source": [
        "import tensorflow as tf\n",
        "\n",
        "with tf.Session() as sess:\n",
        "\n",
        "  saver = tf.train.import_meta_graph('./checkpoint_dir/MyModel-1000.meta')\n",
        "\n",
        "  saver.restore(sess,tf.train.latest_checkpoint('./checkpoint_dir'))"
      ],
      "metadata": {
        "id": "zjHYcgAqDa5w"
      },
      "execution_count": null,
      "outputs": []
    }
  ],
  "metadata": {
    "colab": {
      "name": "“Untitled8.ipynb”的副本",
      "provenance": [],
      "mount_file_id": "1SaxdTtd__x2GvfwLX11r5uQcuVF4Ft6N",
      "authorship_tag": "ABX9TyPd5/vgA3Zqr6qOw2ZeVJmX",
      "include_colab_link": true
    },
    "kernelspec": {
      "display_name": "Python 3",
      "name": "python3"
    },
    "language_info": {
      "name": "python"
    },
    "accelerator": "GPU",
    "gpuClass": "standard"
  },
  "nbformat": 4,
  "nbformat_minor": 0
}