{
  "cells": [
    {
      "cell_type": "markdown",
      "metadata": {
        "id": "view-in-github",
        "colab_type": "text"
      },
      "source": [
        "<a href=\"https://colab.research.google.com/github/EdWangLoDaSc/Bayesian-Neural-Networks/blob/master/2048_512%20final.ipynb\" target=\"_parent\"><img src=\"https://colab.research.google.com/assets/colab-badge.svg\" alt=\"Open In Colab\"/></a>"
      ]
    },
    {
      "cell_type": "markdown",
      "metadata": {
        "id": "VCENnU2LwLgv"
      },
      "source": [
        "It is necessary to use tensorflow 1.14.0 under the environment of Colab."
      ]
    },
    {
      "cell_type": "code",
      "source": [
        "pip install tensorflow==1.14.0"
      ],
      "metadata": {
        "colab": {
          "base_uri": "https://localhost:8080/"
        },
        "id": "QuOaKZc14cYf",
        "outputId": "b39144eb-968a-4f72-ac27-9aa68d5a58a3"
      },
      "execution_count": 40,
      "outputs": [
        {
          "output_type": "stream",
          "name": "stdout",
          "text": [
            "Looking in indexes: https://pypi.org/simple, https://us-python.pkg.dev/colab-wheels/public/simple/\n",
            "Requirement already satisfied: tensorflow==1.14.0 in /usr/local/lib/python3.7/dist-packages (1.14.0)\n",
            "Requirement already satisfied: grpcio>=1.8.6 in /usr/local/lib/python3.7/dist-packages (from tensorflow==1.14.0) (1.47.0)\n",
            "Requirement already satisfied: tensorboard<1.15.0,>=1.14.0 in /usr/local/lib/python3.7/dist-packages (from tensorflow==1.14.0) (1.14.0)\n",
            "Requirement already satisfied: keras-preprocessing>=1.0.5 in /usr/local/lib/python3.7/dist-packages (from tensorflow==1.14.0) (1.1.2)\n",
            "Requirement already satisfied: tensorflow-estimator<1.15.0rc0,>=1.14.0rc0 in /usr/local/lib/python3.7/dist-packages (from tensorflow==1.14.0) (1.14.0)\n",
            "Requirement already satisfied: astor>=0.6.0 in /usr/local/lib/python3.7/dist-packages (from tensorflow==1.14.0) (0.8.1)\n",
            "Requirement already satisfied: absl-py>=0.7.0 in /usr/local/lib/python3.7/dist-packages (from tensorflow==1.14.0) (1.2.0)\n",
            "Requirement already satisfied: keras-applications>=1.0.6 in /usr/local/lib/python3.7/dist-packages (from tensorflow==1.14.0) (1.0.8)\n",
            "Requirement already satisfied: protobuf>=3.6.1 in /usr/local/lib/python3.7/dist-packages (from tensorflow==1.14.0) (3.17.3)\n",
            "Requirement already satisfied: termcolor>=1.1.0 in /usr/local/lib/python3.7/dist-packages (from tensorflow==1.14.0) (1.1.0)\n",
            "Requirement already satisfied: wheel>=0.26 in /usr/local/lib/python3.7/dist-packages (from tensorflow==1.14.0) (0.37.1)\n",
            "Requirement already satisfied: gast>=0.2.0 in /usr/local/lib/python3.7/dist-packages (from tensorflow==1.14.0) (0.5.3)\n",
            "Requirement already satisfied: wrapt>=1.11.1 in /usr/local/lib/python3.7/dist-packages (from tensorflow==1.14.0) (1.14.1)\n",
            "Requirement already satisfied: six>=1.10.0 in /usr/local/lib/python3.7/dist-packages (from tensorflow==1.14.0) (1.15.0)\n",
            "Requirement already satisfied: numpy<2.0,>=1.14.5 in /usr/local/lib/python3.7/dist-packages (from tensorflow==1.14.0) (1.21.6)\n",
            "Requirement already satisfied: google-pasta>=0.1.6 in /usr/local/lib/python3.7/dist-packages (from tensorflow==1.14.0) (0.2.0)\n",
            "Requirement already satisfied: h5py in /usr/local/lib/python3.7/dist-packages (from keras-applications>=1.0.6->tensorflow==1.14.0) (3.1.0)\n",
            "Requirement already satisfied: werkzeug>=0.11.15 in /usr/local/lib/python3.7/dist-packages (from tensorboard<1.15.0,>=1.14.0->tensorflow==1.14.0) (1.0.1)\n",
            "Requirement already satisfied: markdown>=2.6.8 in /usr/local/lib/python3.7/dist-packages (from tensorboard<1.15.0,>=1.14.0->tensorflow==1.14.0) (3.4.1)\n",
            "Requirement already satisfied: setuptools>=41.0.0 in /usr/local/lib/python3.7/dist-packages (from tensorboard<1.15.0,>=1.14.0->tensorflow==1.14.0) (57.4.0)\n",
            "Requirement already satisfied: importlib-metadata>=4.4 in /usr/local/lib/python3.7/dist-packages (from markdown>=2.6.8->tensorboard<1.15.0,>=1.14.0->tensorflow==1.14.0) (4.12.0)\n",
            "Requirement already satisfied: typing-extensions>=3.6.4 in /usr/local/lib/python3.7/dist-packages (from importlib-metadata>=4.4->markdown>=2.6.8->tensorboard<1.15.0,>=1.14.0->tensorflow==1.14.0) (4.1.1)\n",
            "Requirement already satisfied: zipp>=0.5 in /usr/local/lib/python3.7/dist-packages (from importlib-metadata>=4.4->markdown>=2.6.8->tensorboard<1.15.0,>=1.14.0->tensorflow==1.14.0) (3.8.1)\n",
            "Requirement already satisfied: cached-property in /usr/local/lib/python3.7/dist-packages (from h5py->keras-applications>=1.0.6->tensorflow==1.14.0) (1.5.2)\n"
          ]
        }
      ]
    },
    {
      "cell_type": "code",
      "execution_count": 41,
      "metadata": {
        "colab": {
          "base_uri": "https://localhost:8080/"
        },
        "id": "wgeK7ykvkcDP",
        "outputId": "740e123b-a1c0-4973-99fe-677d564b0107"
      },
      "outputs": [
        {
          "output_type": "stream",
          "name": "stdout",
          "text": [
            "Drive already mounted at ./content; to attempt to forcibly remount, call drive.mount(\"./content\", force_remount=True).\n"
          ]
        }
      ],
      "source": [
        "from google.colab import drive\n",
        "drive.mount('./content')"
      ]
    },
    {
      "cell_type": "code",
      "execution_count": 42,
      "metadata": {
        "id": "HBSl6GNhl_Gy"
      },
      "outputs": [],
      "source": [
        "import pandas as pd\n",
        "import numpy as np\n",
        "## TensorFlow\n",
        "import tensorflow as tf\n",
        "#tf.compat.v1.reset_default_graph()"
      ]
    },
    {
      "cell_type": "code",
      "source": [
        "df = pd.read_csv('/content/content/MyDrive/2048_final.csv')\n"
      ],
      "metadata": {
        "id": "dZPoUthYTwoC"
      },
      "execution_count": 43,
      "outputs": []
    },
    {
      "cell_type": "code",
      "source": [
        "df.values"
      ],
      "metadata": {
        "id": "8I93WiXxT8pE",
        "outputId": "3061a1d5-e925-4080-c868-0815d92c2291",
        "colab": {
          "base_uri": "https://localhost:8080/"
        }
      },
      "execution_count": 44,
      "outputs": [
        {
          "output_type": "execute_result",
          "data": {
            "text/plain": [
              "array([[0, 0, 0, ..., 0, 0, 0],\n",
              "       [0, 0, 0, ..., 0, 0, 0],\n",
              "       [0, 0, 0, ..., 0, 0, 0],\n",
              "       ...,\n",
              "       [0, 0, 0, ..., 0, 0, 0],\n",
              "       [0, 0, 0, ..., 0, 0, 0],\n",
              "       [0, 1, 0, ..., 0, 0, 0]])"
            ]
          },
          "metadata": {},
          "execution_count": 44
        }
      ]
    },
    {
      "cell_type": "code",
      "execution_count": null,
      "metadata": {
        "id": "IyVnITvXlvKW"
      },
      "outputs": [],
      "source": [
        "df = pd.read_csv('/content/content/MyDrive/CGAN_Regression/CGAN_code/Datasets/Datasets.csv')\n",
        "df = df.drop(['Calculated-pChEMBL'], axis = 1).values"
      ]
    },
    {
      "cell_type": "code",
      "source": [
        "2048-384-384-384"
      ],
      "metadata": {
        "id": "ajr39Q8VUjHJ",
        "outputId": "49094065-ff13-4325-dfc2-94bef5228a3a",
        "colab": {
          "base_uri": "https://localhost:8080/"
        }
      },
      "execution_count": null,
      "outputs": [
        {
          "output_type": "execute_result",
          "data": {
            "text/plain": [
              "896"
            ]
          },
          "metadata": {},
          "execution_count": 17
        }
      ]
    },
    {
      "cell_type": "code",
      "execution_count": 45,
      "metadata": {
        "id": "4RykJLy-m5hk"
      },
      "outputs": [],
      "source": [
        "num_inputs = 2048\n",
        "\n",
        "## Encoder section\n",
        "hidden_1 = 1664     ## 256 (Number of nodes)\n",
        "hidden_2 = 1280  ## 128\n",
        "hidden_3 = 896  ## 64\n",
        "\n",
        "## Latent Space\n",
        "hidden_4 = 512  ## 32\n",
        "\n",
        "## Decoder \n",
        "hidden_5 = hidden_3      ## 64\n",
        "hidden_6 = hidden_2      ## 128\n",
        "hidden_7 = hidden_1      ## 256\n",
        "\n",
        "num_outputs = num_inputs ## 512"
      ]
    },
    {
      "cell_type": "code",
      "execution_count": 53,
      "metadata": {
        "id": "BCfc-5Lfnt8d"
      },
      "outputs": [],
      "source": [
        "## Hyper Parameters: \n",
        "\n",
        "learning_rate = 0.001\n",
        "\n",
        "## Activation function\n",
        "\n",
        "\"\"\"\n",
        "Here we are using Rectified Linear Unit( ReLu). It is at the left for the user to test and experiment \n",
        "with other activation functions and learning rate\n",
        "\"\"\"\n",
        "\n",
        "activ_fn = tf.nn.relu\n",
        "\n",
        "## Input Layer\n",
        "\n",
        "\"\"\"\n",
        "Defining Input data\n",
        "\"\"\"\n",
        "\n",
        "X = tf.compat.v1.placeholder(tf.float32,shape = [None,num_inputs])\n",
        "\n",
        "## scaling keras.initializers.\n",
        "#initializer = tf.keras.initializers.variance_scaling_initializer()\n",
        "initializer = tf.contrib.layers.variance_scaling_initializer()"
      ]
    },
    {
      "cell_type": "code",
      "execution_count": 54,
      "metadata": {
        "id": "YWii3KL_ovTv"
      },
      "outputs": [],
      "source": [
        "## Weights(Parameters)\n",
        "\"\"\"\n",
        "Here we are randomly initializing the weights which are later updated based on the gradient descent and learning rate \n",
        "such that it minimizes the cost function\n",
        "\"\"\"\n",
        "\n",
        "w1 = tf.Variable(initializer([num_inputs,hidden_1]),dtype=tf.float32)\n",
        "w2 = tf.Variable(initializer([hidden_1,hidden_2]),dtype=tf.float32)\n",
        "w3 = tf.Variable(initializer([hidden_2,hidden_3]),dtype=tf.float32)\n",
        "w4 = tf.Variable(initializer([hidden_3,hidden_4]),dtype=tf.float32)\n",
        "w5 = tf.transpose(w4)\n",
        "w6 = tf.transpose(w3)\n",
        "w7 = tf.transpose(w2)\n",
        "w8 = tf.transpose(w1)\n",
        "\n",
        "b1 = tf.Variable(tf.zeros(hidden_1))\n",
        "b2 = tf.Variable(tf.zeros(hidden_2))\n",
        "b3 = tf.Variable(tf.zeros(hidden_3))\n",
        "b4 = tf.Variable(tf.zeros(hidden_4))\n",
        "b5 = b3\n",
        "b6 = b2\n",
        "b7 = b1\n",
        "b8 = tf.Variable(tf.zeros(num_outputs))\n",
        "\n",
        "hid_layer1 = activ_fn(tf.matmul(X,w1)+b1)\n",
        "hid_layer2 = activ_fn(tf.matmul(hid_layer1,w2)+b2)\n",
        "hid_layer3 = activ_fn(tf.matmul(hid_layer2,w3)+b3)\n",
        "hid_layer4 = activ_fn(tf.matmul(hid_layer3,w4)+b4)\n",
        "hid_layer5 = activ_fn(tf.matmul(hid_layer4,w5)+b5)\n",
        "hid_layer6 = activ_fn(tf.matmul(hid_layer5,w6)+b6)\n",
        "hid_layer7 = activ_fn(tf.matmul(hid_layer6,w7)+b7)\n",
        "output_layer = activ_fn(tf.matmul(hid_layer7,w8)+b8)"
      ]
    },
    {
      "cell_type": "code",
      "execution_count": 55,
      "metadata": {
        "id": "IT9Rmwnawl22"
      },
      "outputs": [],
      "source": [
        "## Loss Function(Cost function)\n",
        "\n",
        "\"\"\"\n",
        "Here we are defining the cost function, Minimizing loss between input and output layers\n",
        "\"\"\"\n",
        "\n",
        "loss = tf.reduce_mean(tf.square(output_layer - X))\n",
        "\n",
        "optimizer = tf.train.AdamOptimizer(learning_rate)\n",
        "\n",
        "## Optimizer\n",
        "train = optimizer.minimize(loss)\n",
        "\n",
        "\n",
        "## Initialzing\n",
        "init = tf.global_variables_initializer()\n",
        "\n",
        "saver = tf.train.Saver()"
      ]
    },
    {
      "cell_type": "code",
      "execution_count": 58,
      "metadata": {
        "colab": {
          "base_uri": "https://localhost:8080/"
        },
        "id": "bb54nOZ-w_d4",
        "outputId": "c2243b82-94a2-488a-ce67-4646ec4cec39"
      },
      "outputs": [
        {
          "output_type": "stream",
          "name": "stdout",
          "text": [
            "Epoch: 0 Loss: 0.022736426442861557\n",
            "Epoch: 1 Loss: 0.019388779997825623\n",
            "Epoch: 2 Loss: 0.017028894275426865\n",
            "Epoch: 3 Loss: 0.015426705591380596\n",
            "Epoch: 4 Loss: 0.01376787293702364\n",
            "Epoch: 5 Loss: 0.01270829327404499\n",
            "Epoch: 6 Loss: 0.012020207941532135\n",
            "Epoch: 7 Loss: 0.011254554614424706\n",
            "Epoch: 8 Loss: 0.010785233229398727\n",
            "Epoch: 9 Loss: 0.010169090703129768\n",
            "Epoch: 10 Loss: 0.009823409840464592\n",
            "Epoch: 11 Loss: 0.0100990179926157\n",
            "Epoch: 12 Loss: 0.009252192452549934\n",
            "Epoch: 13 Loss: 0.008894517086446285\n",
            "Epoch: 14 Loss: 0.008583311922848225\n",
            "Epoch: 15 Loss: 0.008186258375644684\n",
            "Epoch: 16 Loss: 0.008137797005474567\n",
            "Epoch: 17 Loss: 0.007990775629878044\n",
            "Epoch: 18 Loss: 0.007723122835159302\n",
            "Epoch: 19 Loss: 0.007230236195027828\n",
            "Epoch: 20 Loss: 0.007192002143710852\n",
            "Epoch: 21 Loss: 0.007143146358430386\n",
            "Epoch: 22 Loss: 0.007102204021066427\n",
            "Epoch: 23 Loss: 0.006852416787296534\n",
            "Epoch: 24 Loss: 0.006775354500859976\n",
            "Epoch: 25 Loss: 0.006598810199648142\n",
            "Epoch: 26 Loss: 0.00654192641377449\n",
            "Epoch: 27 Loss: 0.0063819424249231815\n",
            "Epoch: 28 Loss: 0.006387047003954649\n",
            "Epoch: 29 Loss: 0.006146576255559921\n",
            "Epoch: 30 Loss: 0.00612772349268198\n",
            "Epoch: 31 Loss: 0.006042574066668749\n",
            "Epoch: 32 Loss: 0.006162329576909542\n",
            "Epoch: 33 Loss: 0.006077904254198074\n",
            "Epoch: 34 Loss: 0.005921417847275734\n",
            "Epoch: 35 Loss: 0.005832298193126917\n",
            "Epoch: 36 Loss: 0.005842504091560841\n",
            "Epoch: 37 Loss: 0.005737750791013241\n",
            "Epoch: 38 Loss: 0.005746651440858841\n",
            "Epoch: 39 Loss: 0.005711634177714586\n",
            "Epoch: 40 Loss: 0.0056532914750278\n",
            "Epoch: 41 Loss: 0.005600119009613991\n",
            "Epoch: 42 Loss: 0.005556069314479828\n",
            "Epoch: 43 Loss: 0.005488285794854164\n",
            "Epoch: 44 Loss: 0.0054202452301979065\n",
            "Epoch: 45 Loss: 0.005357129033654928\n",
            "Epoch: 46 Loss: 0.005316327791661024\n",
            "Epoch: 47 Loss: 0.005387338809669018\n",
            "Epoch: 48 Loss: 0.00530413631349802\n",
            "Epoch: 49 Loss: 0.005281996913254261\n",
            "Epoch: 50 Loss: 0.0051648616790771484\n",
            "Epoch: 51 Loss: 0.005166615825146437\n",
            "Epoch: 52 Loss: 0.005120332818478346\n",
            "Epoch: 53 Loss: 0.0051592495292425156\n",
            "Epoch: 54 Loss: 0.005129184573888779\n",
            "Epoch: 55 Loss: 0.005054178182035685\n",
            "Epoch: 56 Loss: 0.005053892731666565\n",
            "Epoch: 57 Loss: 0.005003419239073992\n",
            "Epoch: 58 Loss: 0.005083360243588686\n",
            "Epoch: 59 Loss: 0.004969390574842691\n",
            "Epoch: 60 Loss: 0.00488319294527173\n",
            "Epoch: 61 Loss: 0.004982997663319111\n",
            "Epoch: 62 Loss: 0.004981114994734526\n",
            "Epoch: 63 Loss: 0.004960501566529274\n",
            "Epoch: 64 Loss: 0.004972408525645733\n",
            "Epoch: 65 Loss: 0.004955063108354807\n",
            "Epoch: 66 Loss: 0.004943327512592077\n",
            "Epoch: 67 Loss: 0.004744349978864193\n",
            "Epoch: 68 Loss: 0.004922151565551758\n",
            "Epoch: 69 Loss: 0.0049549369141459465\n",
            "Epoch: 70 Loss: 0.004904039669781923\n",
            "Epoch: 71 Loss: 0.005001378245651722\n",
            "Epoch: 72 Loss: 0.0048767621628940105\n",
            "Epoch: 73 Loss: 0.004767351783812046\n",
            "Epoch: 74 Loss: 0.00466363737359643\n",
            "Epoch: 75 Loss: 0.0046188621781766415\n",
            "Epoch: 76 Loss: 0.0047196680679917336\n",
            "Epoch: 77 Loss: 0.004746545106172562\n",
            "Epoch: 78 Loss: 0.004592180252075195\n",
            "Epoch: 79 Loss: 0.004649837035685778\n",
            "Epoch: 80 Loss: 0.004648806992918253\n",
            "Epoch: 81 Loss: 0.0045828004367649555\n",
            "Epoch: 82 Loss: 0.004615400452166796\n",
            "Epoch: 83 Loss: 0.004641988314688206\n",
            "Epoch: 84 Loss: 0.004536544904112816\n",
            "Epoch: 85 Loss: 0.004500575829297304\n",
            "Epoch: 86 Loss: 0.004521006718277931\n",
            "Epoch: 87 Loss: 0.0045275273732841015\n",
            "Epoch: 88 Loss: 0.0045066531747579575\n",
            "Epoch: 89 Loss: 0.004533607512712479\n",
            "Epoch: 90 Loss: 0.004484693054109812\n",
            "Epoch: 91 Loss: 0.004448356572538614\n",
            "Epoch: 92 Loss: 0.004407018423080444\n",
            "Epoch: 93 Loss: 0.004518202506005764\n",
            "Epoch: 94 Loss: 0.004532822873443365\n",
            "Epoch: 95 Loss: 0.004545821808278561\n",
            "Epoch: 96 Loss: 0.004563780967146158\n",
            "Epoch: 97 Loss: 0.0044741034507751465\n",
            "Epoch: 98 Loss: 0.0045823147520422935\n",
            "Epoch: 99 Loss: 0.00452661607414484\n",
            "Epoch: 100 Loss: 0.004621515516191721\n",
            "Epoch: 101 Loss: 0.004456457681953907\n",
            "Epoch: 102 Loss: 0.004323109053075314\n",
            "Epoch: 103 Loss: 0.0044336277060210705\n",
            "Epoch: 104 Loss: 0.004371575079858303\n",
            "Epoch: 105 Loss: 0.004369858652353287\n",
            "Epoch: 106 Loss: 0.00446882750838995\n",
            "Epoch: 107 Loss: 0.004314268473535776\n",
            "Epoch: 108 Loss: 0.004359081853181124\n",
            "Epoch: 109 Loss: 0.004378592129796743\n",
            "Epoch: 110 Loss: 0.004457260016351938\n",
            "Epoch: 111 Loss: 0.0043947212398052216\n",
            "Epoch: 112 Loss: 0.004373363219201565\n",
            "Epoch: 113 Loss: 0.0044105807319283485\n",
            "Epoch: 114 Loss: 0.004295497667044401\n",
            "Epoch: 115 Loss: 0.004338967613875866\n",
            "Epoch: 116 Loss: 0.004385103937238455\n",
            "Epoch: 117 Loss: 0.004232788924127817\n",
            "Epoch: 118 Loss: 0.004155012313276529\n",
            "Epoch: 119 Loss: 0.004067889414727688\n",
            "Epoch: 120 Loss: 0.004124222788959742\n",
            "Epoch: 121 Loss: 0.00424899673089385\n",
            "Epoch: 122 Loss: 0.004197693429887295\n",
            "Epoch: 123 Loss: 0.004233926068991423\n",
            "Epoch: 124 Loss: 0.004145938903093338\n",
            "Epoch: 125 Loss: 0.004086839966475964\n",
            "Epoch: 126 Loss: 0.004072593059390783\n",
            "Epoch: 127 Loss: 0.004033457022160292\n",
            "Epoch: 128 Loss: 0.0040510911494493484\n",
            "Epoch: 129 Loss: 0.004070547875016928\n",
            "Epoch: 130 Loss: 0.004166373051702976\n",
            "Epoch: 131 Loss: 0.004015072248876095\n",
            "Epoch: 132 Loss: 0.0039477236568927765\n",
            "Epoch: 133 Loss: 0.003999472130089998\n",
            "Epoch: 134 Loss: 0.004025234375149012\n",
            "Epoch: 135 Loss: 0.004082861356437206\n",
            "Epoch: 136 Loss: 0.004037356469780207\n",
            "Epoch: 137 Loss: 0.0039529153145849705\n",
            "Epoch: 138 Loss: 0.0040083774365484715\n",
            "Epoch: 139 Loss: 0.00403189891949296\n",
            "Epoch: 140 Loss: 0.003996357321739197\n",
            "Epoch: 141 Loss: 0.004004784394055605\n",
            "Epoch: 142 Loss: 0.003991448320448399\n",
            "Epoch: 143 Loss: 0.00397859001532197\n",
            "Epoch: 144 Loss: 0.00386476656422019\n",
            "Epoch: 145 Loss: 0.0038705042097717524\n",
            "Epoch: 146 Loss: 0.003903692588210106\n",
            "Epoch: 147 Loss: 0.0038953940384089947\n",
            "Epoch: 148 Loss: 0.003914837259799242\n",
            "Epoch: 149 Loss: 0.003985412884503603\n",
            "Epoch: 150 Loss: 0.004009488970041275\n",
            "Epoch: 151 Loss: 0.0039434717036783695\n",
            "Epoch: 152 Loss: 0.00393848679959774\n",
            "Epoch: 153 Loss: 0.00398401590064168\n",
            "Epoch: 154 Loss: 0.0038652222137898207\n",
            "Epoch: 155 Loss: 0.0037947732489556074\n",
            "Epoch: 156 Loss: 0.003734783036634326\n",
            "Epoch: 157 Loss: 0.0038148455787450075\n",
            "Epoch: 158 Loss: 0.0038634624797850847\n",
            "Epoch: 159 Loss: 0.003874864662066102\n",
            "Epoch: 160 Loss: 0.0037853731773793697\n",
            "Epoch: 161 Loss: 0.0038509450387209654\n",
            "Epoch: 162 Loss: 0.003805297426879406\n",
            "Epoch: 163 Loss: 0.003751837182790041\n",
            "Epoch: 164 Loss: 0.003740830346941948\n",
            "Epoch: 165 Loss: 0.003822615370154381\n",
            "Epoch: 166 Loss: 0.00379975070245564\n",
            "Epoch: 167 Loss: 0.0037737686652690172\n",
            "Epoch: 168 Loss: 0.0038410676643252373\n",
            "Epoch: 169 Loss: 0.003736437065526843\n",
            "Epoch: 170 Loss: 0.003760020714253187\n",
            "Epoch: 171 Loss: 0.0036527819465845823\n",
            "Epoch: 172 Loss: 0.0037019799929112196\n",
            "Epoch: 173 Loss: 0.0036509735509753227\n",
            "Epoch: 174 Loss: 0.003679216606542468\n",
            "Epoch: 175 Loss: 0.0036696032620966434\n",
            "Epoch: 176 Loss: 0.0037065367214381695\n",
            "Epoch: 177 Loss: 0.0036277552135288715\n",
            "Epoch: 178 Loss: 0.0036077871918678284\n",
            "Epoch: 179 Loss: 0.003644742537289858\n",
            "Epoch: 180 Loss: 0.003695679595693946\n",
            "Epoch: 181 Loss: 0.0036404416896402836\n",
            "Epoch: 182 Loss: 0.0036304984241724014\n",
            "Epoch: 183 Loss: 0.003601542441174388\n",
            "Epoch: 184 Loss: 0.003574677975848317\n",
            "Epoch: 185 Loss: 0.003642098978161812\n",
            "Epoch: 186 Loss: 0.0036296446342021227\n",
            "Epoch: 187 Loss: 0.0036472997162491083\n",
            "Epoch: 188 Loss: 0.003578664269298315\n",
            "Epoch: 189 Loss: 0.0036047976464033127\n",
            "Epoch: 190 Loss: 0.003656796645373106\n",
            "Epoch: 191 Loss: 0.0036095280665904284\n",
            "Epoch: 192 Loss: 0.003579456591978669\n",
            "Epoch: 193 Loss: 0.003568054409697652\n",
            "Epoch: 194 Loss: 0.003611379535868764\n",
            "Epoch: 195 Loss: 0.0036234166473150253\n",
            "Epoch: 196 Loss: 0.0036349683068692684\n",
            "Epoch: 197 Loss: 0.003638429567217827\n",
            "Epoch: 198 Loss: 0.0036473465152084827\n",
            "Epoch: 199 Loss: 0.003584162797778845\n",
            "Epoch: 200 Loss: 0.0035030881408602\n",
            "Epoch: 201 Loss: 0.003483136184513569\n",
            "Epoch: 202 Loss: 0.0035065580159425735\n",
            "Epoch: 203 Loss: 0.003528185188770294\n",
            "Epoch: 204 Loss: 0.0035794030409306288\n",
            "Epoch: 205 Loss: 0.003574732458218932\n",
            "Epoch: 206 Loss: 0.0035580673720687628\n",
            "Epoch: 207 Loss: 0.003472658107057214\n",
            "Epoch: 208 Loss: 0.003451740834861994\n",
            "Epoch: 209 Loss: 0.003514995099976659\n",
            "Epoch: 210 Loss: 0.0034718953538686037\n",
            "Epoch: 211 Loss: 0.003480372717604041\n",
            "Epoch: 212 Loss: 0.003508461406454444\n",
            "Epoch: 213 Loss: 0.0035018560010939837\n",
            "Epoch: 214 Loss: 0.0035029586870223284\n",
            "Epoch: 215 Loss: 0.003511525224894285\n",
            "Epoch: 216 Loss: 0.003454526187852025\n",
            "Epoch: 217 Loss: 0.0034388701897114515\n",
            "Epoch: 218 Loss: 0.00338508072309196\n",
            "Epoch: 219 Loss: 0.0033627627417445183\n",
            "Epoch: 220 Loss: 0.0033611899707466364\n",
            "Epoch: 221 Loss: 0.0033788802102208138\n",
            "Epoch: 222 Loss: 0.003368586301803589\n",
            "Epoch: 223 Loss: 0.00331676471978426\n",
            "Epoch: 224 Loss: 0.0033126594498753548\n",
            "Epoch: 225 Loss: 0.0033951904624700546\n",
            "Epoch: 226 Loss: 0.0034689675085246563\n",
            "Epoch: 227 Loss: 0.0034446155186742544\n",
            "Epoch: 228 Loss: 0.003455042839050293\n",
            "Epoch: 229 Loss: 0.003476446960121393\n",
            "Epoch: 230 Loss: 0.0033940488938242197\n",
            "Epoch: 231 Loss: 0.0033055569510906935\n",
            "Epoch: 232 Loss: 0.003370070131495595\n",
            "Epoch: 233 Loss: 0.0033275370951741934\n",
            "Epoch: 234 Loss: 0.0033396724611520767\n",
            "Epoch: 235 Loss: 0.0034175131004303694\n",
            "Epoch: 236 Loss: 0.003401661990210414\n",
            "Epoch: 237 Loss: 0.0034479789901524782\n",
            "Epoch: 238 Loss: 0.003379245288670063\n",
            "Epoch: 239 Loss: 0.0033505794126540422\n",
            "Epoch: 240 Loss: 0.0034359009005129337\n",
            "Epoch: 241 Loss: 0.0033451069612056017\n",
            "Epoch: 242 Loss: 0.0032989296596497297\n",
            "Epoch: 243 Loss: 0.0033914644736796618\n",
            "Epoch: 244 Loss: 0.0033167472574859858\n",
            "Epoch: 245 Loss: 0.0033413816709071398\n",
            "Epoch: 246 Loss: 0.003338202368468046\n",
            "Epoch: 247 Loss: 0.0031763215083628893\n",
            "Epoch: 248 Loss: 0.0032132898923009634\n",
            "Epoch: 249 Loss: 0.0031908664386719465\n",
            "Epoch: 250 Loss: 0.0032394174486398697\n",
            "Epoch: 251 Loss: 0.0032158195972442627\n",
            "Epoch: 252 Loss: 0.0032104041893035173\n",
            "Epoch: 253 Loss: 0.0032133914064615965\n",
            "Epoch: 254 Loss: 0.003196818521246314\n",
            "Epoch: 255 Loss: 0.0031885551288723946\n",
            "Epoch: 256 Loss: 0.0032372495625168085\n",
            "Epoch: 257 Loss: 0.003188179340213537\n",
            "Epoch: 258 Loss: 0.003185111563652754\n",
            "Epoch: 259 Loss: 0.003201223211362958\n",
            "Epoch: 260 Loss: 0.0031966904643923044\n",
            "Epoch: 261 Loss: 0.00319119356572628\n",
            "Epoch: 262 Loss: 0.0032089296728372574\n",
            "Epoch: 263 Loss: 0.003159276442602277\n",
            "Epoch: 264 Loss: 0.003219085745513439\n",
            "Epoch: 265 Loss: 0.0032763401977717876\n",
            "Epoch: 266 Loss: 0.003241998143494129\n",
            "Epoch: 267 Loss: 0.0032452386803925037\n",
            "Epoch: 268 Loss: 0.00322761875577271\n",
            "Epoch: 269 Loss: 0.003225162625312805\n",
            "Epoch: 270 Loss: 0.0031720399856567383\n",
            "Epoch: 271 Loss: 0.0032090034801512957\n",
            "Epoch: 272 Loss: 0.0031874612905085087\n",
            "Epoch: 273 Loss: 0.003200133563950658\n",
            "Epoch: 274 Loss: 0.003159280400723219\n",
            "Epoch: 275 Loss: 0.0032203549053519964\n",
            "Epoch: 276 Loss: 0.0032182445283979177\n",
            "Epoch: 277 Loss: 0.0032562315464019775\n",
            "Epoch: 278 Loss: 0.00322067947126925\n",
            "Epoch: 279 Loss: 0.003195749130100012\n",
            "Epoch: 280 Loss: 0.0032421972136944532\n",
            "Epoch: 281 Loss: 0.0032157343812286854\n",
            "Epoch: 282 Loss: 0.003237497992813587\n",
            "Epoch: 283 Loss: 0.0031996872276067734\n",
            "Epoch: 284 Loss: 0.0032477956265211105\n",
            "Epoch: 285 Loss: 0.0032180305570364\n",
            "Epoch: 286 Loss: 0.003106160555034876\n",
            "Epoch: 287 Loss: 0.003102424554526806\n",
            "Epoch: 288 Loss: 0.0031000247690826654\n",
            "Epoch: 289 Loss: 0.003141141263768077\n",
            "Epoch: 290 Loss: 0.0031247735023498535\n",
            "Epoch: 291 Loss: 0.0031114518642425537\n",
            "Epoch: 292 Loss: 0.0031376765109598637\n",
            "Epoch: 293 Loss: 0.0031054015271365643\n",
            "Epoch: 294 Loss: 0.00314995925873518\n",
            "Epoch: 295 Loss: 0.0031413468532264233\n",
            "Epoch: 296 Loss: 0.0031348594930022955\n",
            "Epoch: 297 Loss: 0.003125512972474098\n",
            "Epoch: 298 Loss: 0.003127360250800848\n",
            "Epoch: 299 Loss: 0.003106909804046154\n"
          ]
        }
      ],
      "source": [
        "## Training the model\n",
        "\n",
        "\"\"\"\n",
        "Epoch: Number of training steps/iterations\n",
        "Batch Size: Number of obseravtions that are used during each iterations to update weights. \n",
        "\"\"\"\n",
        "num_epochs =300\n",
        "batch_size = 512\n",
        "\n",
        "to_plot_220 = []\n",
        "from sklearn.utils import shuffle\n",
        "#df = shuffle(df) \n",
        "\n",
        "with tf.Session() as sess:\n",
        "    sess.run(init)\n",
        "    for epoch in range(num_epochs):\n",
        "        for index, offset in enumerate(range(0, df.shape[0], batch_size)):\n",
        "            xs = df[offset: offset + batch_size]\n",
        "            #print(offset)\n",
        "            sess.run(train, feed_dict={X: xs})\n",
        "        training_loss = loss.eval(feed_dict={X: xs})\n",
        "        to_plot_220.append(training_loss)\n",
        "        print(\"Epoch: {} Loss: {}\".format(epoch,training_loss))\n",
        "        \n",
        "        \n",
        "    \"\"\"\n",
        "    Saving the trained model\n",
        "    \"\"\"\n",
        "    saver.save(sess,'./checkpoint_dir/my_model')"
      ]
    },
    {
      "cell_type": "code",
      "source": [
        "lsd1 = pd.read_csv('/content/content/MyDrive/2048_dataset.csv').values"
      ],
      "metadata": {
        "id": "7HvY4qPqeq9n"
      },
      "execution_count": 66,
      "outputs": []
    },
    {
      "cell_type": "code",
      "source": [
        "## With the weights obtained from training earlier, lets obtains the feature vectors at the latent space\n",
        "with tf.Session() as sess:\n",
        "    saver.restore(sess,'./checkpoint_dir/my_model')\n",
        "    res = hid_layer4.eval(feed_dict={X: lsd1})"
      ],
      "metadata": {
        "id": "CP7Jlv_mtZWI"
      },
      "execution_count": 67,
      "outputs": []
    },
    {
      "cell_type": "code",
      "source": [
        "res"
      ],
      "metadata": {
        "colab": {
          "base_uri": "https://localhost:8080/"
        },
        "id": "8LcqAYrH3u7-",
        "outputId": "0f76767a-a730-4aee-e84c-3eaea9527cf1"
      },
      "execution_count": 68,
      "outputs": [
        {
          "output_type": "execute_result",
          "data": {
            "text/plain": [
              "array([[0.        , 0.        , 0.        , ..., 0.5813594 , 0.22038461,\n",
              "        0.        ],\n",
              "       [0.        , 0.        , 0.        , ..., 0.38060668, 0.18699382,\n",
              "        0.        ],\n",
              "       [0.        , 0.        , 0.        , ..., 0.6538844 , 0.08100873,\n",
              "        0.        ],\n",
              "       ...,\n",
              "       [0.        , 0.        , 0.        , ..., 0.27658787, 0.32678458,\n",
              "        0.        ],\n",
              "       [0.        , 0.        , 0.        , ..., 0.35579535, 0.33068544,\n",
              "        0.        ],\n",
              "       [0.        , 0.        , 0.        , ..., 0.        , 0.53077865,\n",
              "        0.        ]], dtype=float32)"
            ]
          },
          "metadata": {},
          "execution_count": 68
        }
      ]
    },
    {
      "cell_type": "code",
      "execution_count": 64,
      "metadata": {
        "colab": {
          "base_uri": "https://localhost:8080/",
          "height": 295
        },
        "id": "lGvlQ-tByw54",
        "outputId": "167bb02d-c854-4b46-8b47-8d5ab3fe3ca4"
      },
      "outputs": [
        {
          "output_type": "display_data",
          "data": {
            "text/plain": [
              "<Figure size 432x288 with 1 Axes>"
            ],
            "image/png": "[encoded data removed]"
          },
          "metadata": {
            "needs_background": "light"
          }
        }
      ],
      "source": [
        "## Visualizing\n",
        "import matplotlib.pyplot as plt\n",
        "plt.plot(to_plot_220)\n",
        "plt.xlabel(\"Number of Epochs\")\n",
        "plt.ylabel(\"Loss\")\n",
        "plt.title(\"Loss Vs number epochs for latent space of 32 Dimensions\")\n",
        "plt.show()"
      ]
    },
    {
      "cell_type": "code",
      "execution_count": 69,
      "metadata": {
        "colab": {
          "base_uri": "https://localhost:8080/"
        },
        "id": "rEqCkHsQybSk",
        "outputId": "a4fa3cef-7d44-4710-a207-ed6be5b8d4bd"
      },
      "outputs": [
        {
          "output_type": "stream",
          "name": "stdout",
          "text": [
            "     0    1    2    3    4    5         6         7    8         9    ...  \\\n",
            "0    0.0  0.0  0.0  0.0  0.0  0.0  0.193804  0.000000  0.0  0.648849  ...   \n",
            "1    0.0  0.0  0.0  0.0  0.0  0.0  0.000000  0.404883  0.0  0.369937  ...   \n",
            "2    0.0  0.0  0.0  0.0  0.0  0.0  0.298939  0.612330  0.0  0.697678  ...   \n",
            "3    0.0  0.0  0.0  0.0  0.0  0.0  0.695686  0.386214  0.0  0.041313  ...   \n",
            "4    0.0  0.0  0.0  0.0  0.0  0.0  0.238818  0.694935  0.0  0.339270  ...   \n",
            "..   ...  ...  ...  ...  ...  ...       ...       ...  ...       ...  ...   \n",
            "926  0.0  0.0  0.0  0.0  0.0  0.0  0.930748  0.476785  0.0  0.371940  ...   \n",
            "927  0.0  0.0  0.0  0.0  0.0  0.0  0.315975  0.532350  0.0  0.072464  ...   \n",
            "928  0.0  0.0  0.0  0.0  0.0  0.0  0.239083  0.630502  0.0  0.124235  ...   \n",
            "929  0.0  0.0  0.0  0.0  0.0  0.0  0.032177  0.000000  0.0  0.156478  ...   \n",
            "930  0.0  0.0  0.0  0.0  0.0  0.0  0.328920  0.175904  0.0  0.247453  ...   \n",
            "\n",
            "          502       503  504  505  506       507  508       509       510  511  \n",
            "0    0.565905  0.533701  0.0  0.0  0.0  0.247640  0.0  0.581359  0.220385  0.0  \n",
            "1    0.518416  0.831457  0.0  0.0  0.0  0.000000  0.0  0.380607  0.186994  0.0  \n",
            "2    0.297393  0.753897  0.0  0.0  0.0  0.356754  0.0  0.653884  0.081009  0.0  \n",
            "3    0.856224  0.281456  0.0  0.0  0.0  0.264230  0.0  0.329462  0.000000  0.0  \n",
            "4    0.378957  0.031224  0.0  0.0  0.0  0.521267  0.0  0.419258  0.089600  0.0  \n",
            "..        ...       ...  ...  ...  ...       ...  ...       ...       ...  ...  \n",
            "926  0.206811  0.584552  0.0  0.0  0.0  0.000000  0.0  0.066137  0.149211  0.0  \n",
            "927  0.293827  0.341465  0.0  0.0  0.0  0.114575  0.0  0.035162  0.462875  0.0  \n",
            "928  0.296113  0.389068  0.0  0.0  0.0  0.116494  0.0  0.276588  0.326785  0.0  \n",
            "929  1.015718  0.582232  0.0  0.0  0.0  0.264288  0.0  0.355795  0.330685  0.0  \n",
            "930  0.074484  0.919062  0.0  0.0  0.0  0.558066  0.0  0.000000  0.530779  0.0  \n",
            "\n",
            "[931 rows x 512 columns]\n"
          ]
        }
      ],
      "source": [
        "res.shape\n",
        "dr = pd.DataFrame(res)\n",
        "print(dr)\n",
        "dr.to_csv('2048_521.csv')"
      ]
    },
    {
      "cell_type": "markdown",
      "metadata": {
        "id": "61CtakHyzeYb"
      },
      "source": [
        "# More larger Dimensions\n"
      ]
    },
    {
      "cell_type": "code",
      "execution_count": null,
      "metadata": {
        "colab": {
          "base_uri": "https://localhost:8080/"
        },
        "id": "JJ5U160AUnLR",
        "outputId": "d32dee0c-1d65-4b30-ad73-b40eeba24fb0"
      },
      "outputs": [
        {
          "name": "stdout",
          "output_type": "stream",
          "text": [
            "Epoch: 0 Loss: 0.10121292620897293\n",
            "Epoch: 20 Loss: 0.012367009185254574\n",
            "Epoch: 40 Loss: 0.01190527155995369\n",
            "Epoch: 60 Loss: 0.009825997985899448\n",
            "Epoch: 80 Loss: 0.012089080177247524\n",
            "Epoch: 100 Loss: 0.012143723666667938\n",
            "Epoch: 120 Loss: 0.008897398598492146\n",
            "Epoch: 140 Loss: 0.00812164694070816\n",
            "Epoch: 160 Loss: 0.010212169960141182\n",
            "Epoch: 180 Loss: 0.008470087312161922\n",
            "Epoch: 200 Loss: 0.010004487819969654\n",
            "Epoch: 220 Loss: 0.008345128037035465\n",
            "Epoch: 240 Loss: 0.008415118791162968\n",
            "Epoch: 260 Loss: 0.008509389124810696\n",
            "Epoch: 280 Loss: 0.00817402359098196\n",
            "Epoch: 300 Loss: 0.0077760168351233006\n",
            "Epoch: 320 Loss: 0.007885734550654888\n",
            "Epoch: 340 Loss: 0.008110381662845612\n",
            "Epoch: 360 Loss: 0.006951645016670227\n",
            "Epoch: 380 Loss: 0.007551573216915131\n",
            "Epoch: 400 Loss: 0.0071871024556458\n",
            "Epoch: 420 Loss: 0.007503820117563009\n",
            "Epoch: 440 Loss: 0.009221826680004597\n",
            "Epoch: 460 Loss: 0.007303739432245493\n",
            "Epoch: 480 Loss: 0.007328186649829149\n"
          ]
        }
      ],
      "source": [
        "num_inputs = 512\n",
        "\n",
        "hidden_1 = 512//2       ## 256\n",
        "hidden_2 = hidden_1 //2  ## 128\n",
        "hidden_3 = hidden_2 //2  ## 64\n",
        "hidden_4 = hidden_2\n",
        "hidden_5 = hidden_1\n",
        "\n",
        "num_outputs = num_inputs ## 512\n",
        "\n",
        "learning_rate = 0.001\n",
        "activ_fn = tf.nn.relu\n",
        "#norm = tf.nn.batch_normalization()\n",
        "\n",
        "X = tf.placeholder(tf.float32,shape = [None,num_inputs])\n",
        "\n",
        "## scaling \n",
        "initializer = tf.contrib.layers.variance_scaling_initializer()\n",
        "\n",
        "## Weights\n",
        "\n",
        "w1 = tf.Variable(initializer([num_inputs,hidden_1]),dtype=tf.float32)\n",
        "w2 = tf.Variable(initializer([hidden_1,hidden_2]),dtype=tf.float32)\n",
        "w3 = tf.Variable(initializer([hidden_2,hidden_3]),dtype=tf.float32)\n",
        "w4 = tf.transpose(w3)\n",
        "w5 = tf.transpose(w2)\n",
        "w6 = tf.transpose(w1)\n",
        "\n",
        "\n",
        "\n",
        "## Biases\n",
        "\n",
        "b1 = tf.Variable(tf.zeros(hidden_1))\n",
        "b2 = tf.Variable(tf.zeros(hidden_2))\n",
        "b3 = tf.Variable(tf.zeros(hidden_3))\n",
        "\n",
        "b4 = b2\n",
        "b5 = b1\n",
        "\n",
        "b6 = tf.Variable(tf.zeros(num_outputs))\n",
        "\n",
        "\n",
        "hid_layer1 = activ_fn(tf.matmul(X,w1)+b1)\n",
        "hid_layer2 = activ_fn(tf.matmul(hid_layer1,w2)+b2)\n",
        "hid_layer3 = activ_fn(tf.matmul(hid_layer2,w3)+b3)\n",
        "hid_layer4 = activ_fn(tf.matmul(hid_layer3,w4)+b4)\n",
        "hid_layer5 = activ_fn(tf.matmul(hid_layer4,w5)+b5)\n",
        "output_layer = activ_fn(tf.matmul(hid_layer5,w6)+b6)\n",
        "\n",
        "## Loss Function\n",
        "\n",
        "loss = tf.reduce_mean(tf.square(output_layer - X))\n",
        "\n",
        "## Optimzer\n",
        "optimizer = tf.train.AdamOptimizer(learning_rate)\n",
        "\n",
        "train = optimizer.minimize(loss)\n",
        "\n",
        "## Initialzing\n",
        "init = tf.global_variables_initializer()\n",
        "\n",
        "saver = tf.train.Saver()\n",
        "\n",
        "num_epochs = 500\n",
        "batch_size = 8\n",
        "to_plot = []\n",
        "from sklearn.utils import shuffle\n",
        "#X = shuffle(X) \n",
        "\n",
        "with tf.Session() as sess:\n",
        "    sess.run(init)\n",
        "    for epoch in range(num_epochs):\n",
        "        for index, offset in enumerate(range(0, df.shape[0], batch_size)):\n",
        "            xs = df[offset: offset + batch_size]\n",
        "            #print(offset)\n",
        "            sess.run(train, feed_dict={X: xs})\n",
        "        training_loss = loss.eval(feed_dict={X: xs})\n",
        "        to_plot.append(training_loss)\n",
        "        if epoch % 20 == 0:\n",
        "          print(\"Epoch: {} Loss: {}\".format(epoch,training_loss))\n",
        "    \n",
        "    saver.save(sess,'./stacked_autoencoder_32_50D_tanh.ckpt')\n"
      ]
    },
    {
      "cell_type": "code",
      "execution_count": null,
      "metadata": {
        "id": "DPJDGHFJdIp4"
      },
      "outputs": [],
      "source": [
        "with tf.Session() as sess:\n",
        "    saver.restore(sess,'./stacked_autoencoder_32_50D_tanh.ckpt')\n",
        "    d50 = hid_layer3.eval(feed_dict={X: df})  \n",
        "\n",
        "np.savetxt('Dim_64.tsv',d50,delimiter='\\t')"
      ]
    },
    {
      "cell_type": "code",
      "execution_count": null,
      "metadata": {
        "colab": {
          "base_uri": "https://localhost:8080/"
        },
        "id": "UgD_uW2tdRyg",
        "outputId": "a34f8279-1126-4cfd-edde-3418b54b49f1"
      },
      "outputs": [
        {
          "data": {
            "text/plain": [
              "array([[0.60872406, 0.        , 0.        , ..., 0.01195174, 0.        ,\n",
              "        0.        ],\n",
              "       [0.        , 1.5955508 , 0.        , ..., 0.        , 0.        ,\n",
              "        1.7521322 ],\n",
              "       [0.        , 2.2621021 , 0.        , ..., 0.        , 0.        ,\n",
              "        2.5632324 ],\n",
              "       ...,\n",
              "       [0.        , 0.        , 0.        , ..., 0.        , 0.        ,\n",
              "        1.000032  ],\n",
              "       [0.        , 0.        , 0.        , ..., 1.340622  , 0.        ,\n",
              "        0.        ],\n",
              "       [0.        , 0.        , 0.        , ..., 0.56723374, 0.        ,\n",
              "        0.0072813 ]], dtype=float32)"
            ]
          },
          "execution_count": 106,
          "metadata": {},
          "output_type": "execute_result"
        }
      ],
      "source": [
        "d50"
      ]
    },
    {
      "cell_type": "code",
      "execution_count": null,
      "metadata": {
        "colab": {
          "base_uri": "https://localhost:8080/",
          "height": 295
        },
        "id": "v9gM0WKMdT6F",
        "outputId": "e89a1752-6538-47e7-bfb8-e1a856d0a2b0"
      },
      "outputs": [
        {
          "data": {
            "image/png": "[encoded data removed]",
            "text/plain": [
              "<Figure size 432x288 with 1 Axes>"
            ]
          },
          "metadata": {},
          "output_type": "display_data"
        }
      ],
      "source": [
        "Dim_51,= plt.plot(to_plot, label=\"Dimension 51\")\n",
        "Dim_220, =  plt.plot(to_plot_220, label=\"Dimension 220\")\n",
        "plt.legend(handles=[Dim_51, Dim_220])\n",
        "plt.xlabel(\"Number of Epochs\")\n",
        "plt.ylabel(\"Loss\")\n",
        "plt.title(\"Loss Vs number epochs for different latent space\")\n",
        "plt.show()\n"
      ]
    },
    {
      "cell_type": "code",
      "source": [
        ""
      ],
      "metadata": {
        "id": "JcuxAkntsrKb"
      },
      "execution_count": null,
      "outputs": []
    },
    {
      "cell_type": "code",
      "source": [
        ""
      ],
      "metadata": {
        "id": "6p_zlz9psrVI"
      },
      "execution_count": null,
      "outputs": []
    },
    {
      "cell_type": "code",
      "source": [
        ""
      ],
      "metadata": {
        "id": "iz6RHa56srXb"
      },
      "execution_count": null,
      "outputs": []
    },
    {
      "cell_type": "code",
      "source": [
        ""
      ],
      "metadata": {
        "id": "FltyGhPbsrZk"
      },
      "execution_count": null,
      "outputs": []
    },
    {
      "cell_type": "code",
      "source": [
        ""
      ],
      "metadata": {
        "id": "bXMhWFoEsrcI"
      },
      "execution_count": null,
      "outputs": []
    },
    {
      "cell_type": "code",
      "source": [
        ""
      ],
      "metadata": {
        "id": "54B6kWA8sreK"
      },
      "execution_count": null,
      "outputs": []
    },
    {
      "cell_type": "code",
      "source": [
        ""
      ],
      "metadata": {
        "id": "eqii8Fsasrgo"
      },
      "execution_count": null,
      "outputs": []
    },
    {
      "cell_type": "code",
      "source": [
        ""
      ],
      "metadata": {
        "id": "g0Q0cLiDsri7"
      },
      "execution_count": null,
      "outputs": []
    },
    {
      "cell_type": "code",
      "source": [
        ""
      ],
      "metadata": {
        "id": "yxDz-uaksrk9"
      },
      "execution_count": null,
      "outputs": []
    },
    {
      "cell_type": "code",
      "source": [
        ""
      ],
      "metadata": {
        "id": "gQKbJAo2srnT"
      },
      "execution_count": null,
      "outputs": []
    }
  ],
  "metadata": {
    "colab": {
      "name": "“Untitled8.ipynb”的副本",
      "provenance": [],
      "collapsed_sections": [],
      "mount_file_id": "13CA2fuoXESKGJTteevSjMCORxzUkc1I6",
      "authorship_tag": "ABX9TyNibP1DFZovOdtCZc5Wg5By",
      "include_colab_link": true
    },
    "kernelspec": {
      "display_name": "Python 3",
      "name": "python3"
    },
    "language_info": {
      "name": "python"
    },
    "accelerator": "GPU",
    "gpuClass": "standard"
  },
  "nbformat": 4,
  "nbformat_minor": 0
}