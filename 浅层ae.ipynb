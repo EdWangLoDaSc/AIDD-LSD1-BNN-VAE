{
  "cells": [
    {
      "cell_type": "markdown",
      "metadata": {
        "id": "view-in-github",
        "colab_type": "text"
      },
      "source": [
        "<a href=\"https://colab.research.google.com/github/EdWangLoDaSc/Dropout-as-a-Grid-Search_Representing-Model-Uncertainty-in-Deep-Learning/blob/main/%E6%B5%85%E5%B1%82ae.ipynb\" target=\"_parent\"><img src=\"https://colab.research.google.com/assets/colab-badge.svg\" alt=\"Open In Colab\"/></a>"
      ]
    },
    {
      "cell_type": "markdown",
      "metadata": {
        "id": "VCENnU2LwLgv"
      },
      "source": [
        "It is necessary to use tensorflow 1.14.0 under the environment of Colab."
      ]
    },
    {
      "cell_type": "code",
      "source": [
        "pip install tensorflow==1.14.0"
      ],
      "metadata": {
        "colab": {
          "base_uri": "https://localhost:8080/"
        },
        "id": "QuOaKZc14cYf",
        "outputId": "aeb858db-7b89-4098-b202-2464252c968e"
      },
      "execution_count": null,
      "outputs": [
        {
          "output_type": "stream",
          "name": "stdout",
          "text": [
            "Looking in indexes: https://pypi.org/simple, https://us-python.pkg.dev/colab-wheels/public/simple/\n",
            "Collecting tensorflow==1.14.0\n",
            "  Downloading tensorflow-1.14.0-cp37-cp37m-manylinux1_x86_64.whl (109.3 MB)\n",
            "\u001b[K     |████████████████████████████████| 109.3 MB 51 kB/s \n",
            "\u001b[?25hRequirement already satisfied: wheel>=0.26 in /usr/local/lib/python3.7/dist-packages (from tensorflow==1.14.0) (0.37.1)\n",
            "Requirement already satisfied: numpy<2.0,>=1.14.5 in /usr/local/lib/python3.7/dist-packages (from tensorflow==1.14.0) (1.21.6)\n",
            "Requirement already satisfied: wrapt>=1.11.1 in /usr/local/lib/python3.7/dist-packages (from tensorflow==1.14.0) (1.14.1)\n",
            "Requirement already satisfied: six>=1.10.0 in /usr/local/lib/python3.7/dist-packages (from tensorflow==1.14.0) (1.15.0)\n",
            "Requirement already satisfied: gast>=0.2.0 in /usr/local/lib/python3.7/dist-packages (from tensorflow==1.14.0) (0.5.3)\n",
            "Requirement already satisfied: protobuf>=3.6.1 in /usr/local/lib/python3.7/dist-packages (from tensorflow==1.14.0) (3.17.3)\n",
            "Collecting tensorboard<1.15.0,>=1.14.0\n",
            "  Downloading tensorboard-1.14.0-py3-none-any.whl (3.1 MB)\n",
            "\u001b[K     |████████████████████████████████| 3.1 MB 34.8 MB/s \n",
            "\u001b[?25hCollecting tensorflow-estimator<1.15.0rc0,>=1.14.0rc0\n",
            "  Downloading tensorflow_estimator-1.14.0-py2.py3-none-any.whl (488 kB)\n",
            "\u001b[K     |████████████████████████████████| 488 kB 59.0 MB/s \n",
            "\u001b[?25hRequirement already satisfied: absl-py>=0.7.0 in /usr/local/lib/python3.7/dist-packages (from tensorflow==1.14.0) (1.2.0)\n",
            "Requirement already satisfied: keras-preprocessing>=1.0.5 in /usr/local/lib/python3.7/dist-packages (from tensorflow==1.14.0) (1.1.2)\n",
            "Collecting keras-applications>=1.0.6\n",
            "  Downloading Keras_Applications-1.0.8-py3-none-any.whl (50 kB)\n",
            "\u001b[K     |████████████████████████████████| 50 kB 6.1 MB/s \n",
            "\u001b[?25hRequirement already satisfied: grpcio>=1.8.6 in /usr/local/lib/python3.7/dist-packages (from tensorflow==1.14.0) (1.47.0)\n",
            "Requirement already satisfied: termcolor>=1.1.0 in /usr/local/lib/python3.7/dist-packages (from tensorflow==1.14.0) (1.1.0)\n",
            "Requirement already satisfied: astor>=0.6.0 in /usr/local/lib/python3.7/dist-packages (from tensorflow==1.14.0) (0.8.1)\n",
            "Requirement already satisfied: google-pasta>=0.1.6 in /usr/local/lib/python3.7/dist-packages (from tensorflow==1.14.0) (0.2.0)\n",
            "Requirement already satisfied: h5py in /usr/local/lib/python3.7/dist-packages (from keras-applications>=1.0.6->tensorflow==1.14.0) (3.1.0)\n",
            "Requirement already satisfied: markdown>=2.6.8 in /usr/local/lib/python3.7/dist-packages (from tensorboard<1.15.0,>=1.14.0->tensorflow==1.14.0) (3.4.1)\n",
            "Requirement already satisfied: werkzeug>=0.11.15 in /usr/local/lib/python3.7/dist-packages (from tensorboard<1.15.0,>=1.14.0->tensorflow==1.14.0) (1.0.1)\n",
            "Requirement already satisfied: setuptools>=41.0.0 in /usr/local/lib/python3.7/dist-packages (from tensorboard<1.15.0,>=1.14.0->tensorflow==1.14.0) (57.4.0)\n",
            "Requirement already satisfied: importlib-metadata>=4.4 in /usr/local/lib/python3.7/dist-packages (from markdown>=2.6.8->tensorboard<1.15.0,>=1.14.0->tensorflow==1.14.0) (4.12.0)\n",
            "Requirement already satisfied: typing-extensions>=3.6.4 in /usr/local/lib/python3.7/dist-packages (from importlib-metadata>=4.4->markdown>=2.6.8->tensorboard<1.15.0,>=1.14.0->tensorflow==1.14.0) (4.1.1)\n",
            "Requirement already satisfied: zipp>=0.5 in /usr/local/lib/python3.7/dist-packages (from importlib-metadata>=4.4->markdown>=2.6.8->tensorboard<1.15.0,>=1.14.0->tensorflow==1.14.0) (3.8.1)\n",
            "Requirement already satisfied: cached-property in /usr/local/lib/python3.7/dist-packages (from h5py->keras-applications>=1.0.6->tensorflow==1.14.0) (1.5.2)\n",
            "Installing collected packages: tensorflow-estimator, tensorboard, keras-applications, tensorflow\n",
            "  Attempting uninstall: tensorflow-estimator\n",
            "    Found existing installation: tensorflow-estimator 2.8.0\n",
            "    Uninstalling tensorflow-estimator-2.8.0:\n",
            "      Successfully uninstalled tensorflow-estimator-2.8.0\n",
            "  Attempting uninstall: tensorboard\n",
            "    Found existing installation: tensorboard 2.8.0\n",
            "    Uninstalling tensorboard-2.8.0:\n",
            "      Successfully uninstalled tensorboard-2.8.0\n",
            "  Attempting uninstall: tensorflow\n",
            "    Found existing installation: tensorflow 2.8.2+zzzcolab20220719082949\n",
            "    Uninstalling tensorflow-2.8.2+zzzcolab20220719082949:\n",
            "      Successfully uninstalled tensorflow-2.8.2+zzzcolab20220719082949\n",
            "\u001b[31mERROR: pip's dependency resolver does not currently take into account all the packages that are installed. This behaviour is the source of the following dependency conflicts.\n",
            "kapre 0.3.7 requires tensorflow>=2.0.0, but you have tensorflow 1.14.0 which is incompatible.\u001b[0m\n",
            "Successfully installed keras-applications-1.0.8 tensorboard-1.14.0 tensorflow-1.14.0 tensorflow-estimator-1.14.0\n"
          ]
        }
      ]
    },
    {
      "cell_type": "code",
      "execution_count": null,
      "metadata": {
        "colab": {
          "base_uri": "https://localhost:8080/"
        },
        "id": "wgeK7ykvkcDP",
        "outputId": "8ed3bc8f-e6ee-40cf-8f88-0feca8cf7b5b"
      },
      "outputs": [
        {
          "output_type": "stream",
          "name": "stdout",
          "text": [
            "Mounted at ./content\n"
          ]
        }
      ],
      "source": [
        "from google.colab import drive\n",
        "drive.mount('./content')"
      ]
    },
    {
      "cell_type": "code",
      "execution_count": null,
      "metadata": {
        "id": "HBSl6GNhl_Gy",
        "colab": {
          "base_uri": "https://localhost:8080/"
        },
        "outputId": "5e1da746-a230-4316-ae29-26c92931dedf"
      },
      "outputs": [
        {
          "output_type": "stream",
          "name": "stderr",
          "text": [
            "/usr/local/lib/python3.7/dist-packages/tensorflow/python/framework/dtypes.py:516: FutureWarning: Passing (type, 1) or '1type' as a synonym of type is deprecated; in a future version of numpy, it will be understood as (type, (1,)) / '(1,)type'.\n",
            "  _np_qint8 = np.dtype([(\"qint8\", np.int8, 1)])\n",
            "/usr/local/lib/python3.7/dist-packages/tensorflow/python/framework/dtypes.py:517: FutureWarning: Passing (type, 1) or '1type' as a synonym of type is deprecated; in a future version of numpy, it will be understood as (type, (1,)) / '(1,)type'.\n",
            "  _np_quint8 = np.dtype([(\"quint8\", np.uint8, 1)])\n",
            "/usr/local/lib/python3.7/dist-packages/tensorflow/python/framework/dtypes.py:518: FutureWarning: Passing (type, 1) or '1type' as a synonym of type is deprecated; in a future version of numpy, it will be understood as (type, (1,)) / '(1,)type'.\n",
            "  _np_qint16 = np.dtype([(\"qint16\", np.int16, 1)])\n",
            "/usr/local/lib/python3.7/dist-packages/tensorflow/python/framework/dtypes.py:519: FutureWarning: Passing (type, 1) or '1type' as a synonym of type is deprecated; in a future version of numpy, it will be understood as (type, (1,)) / '(1,)type'.\n",
            "  _np_quint16 = np.dtype([(\"quint16\", np.uint16, 1)])\n",
            "/usr/local/lib/python3.7/dist-packages/tensorflow/python/framework/dtypes.py:520: FutureWarning: Passing (type, 1) or '1type' as a synonym of type is deprecated; in a future version of numpy, it will be understood as (type, (1,)) / '(1,)type'.\n",
            "  _np_qint32 = np.dtype([(\"qint32\", np.int32, 1)])\n",
            "/usr/local/lib/python3.7/dist-packages/tensorflow/python/framework/dtypes.py:525: FutureWarning: Passing (type, 1) or '1type' as a synonym of type is deprecated; in a future version of numpy, it will be understood as (type, (1,)) / '(1,)type'.\n",
            "  np_resource = np.dtype([(\"resource\", np.ubyte, 1)])\n",
            "/usr/local/lib/python3.7/dist-packages/tensorboard/compat/tensorflow_stub/dtypes.py:541: FutureWarning: Passing (type, 1) or '1type' as a synonym of type is deprecated; in a future version of numpy, it will be understood as (type, (1,)) / '(1,)type'.\n",
            "  _np_qint8 = np.dtype([(\"qint8\", np.int8, 1)])\n",
            "/usr/local/lib/python3.7/dist-packages/tensorboard/compat/tensorflow_stub/dtypes.py:542: FutureWarning: Passing (type, 1) or '1type' as a synonym of type is deprecated; in a future version of numpy, it will be understood as (type, (1,)) / '(1,)type'.\n",
            "  _np_quint8 = np.dtype([(\"quint8\", np.uint8, 1)])\n",
            "/usr/local/lib/python3.7/dist-packages/tensorboard/compat/tensorflow_stub/dtypes.py:543: FutureWarning: Passing (type, 1) or '1type' as a synonym of type is deprecated; in a future version of numpy, it will be understood as (type, (1,)) / '(1,)type'.\n",
            "  _np_qint16 = np.dtype([(\"qint16\", np.int16, 1)])\n",
            "/usr/local/lib/python3.7/dist-packages/tensorboard/compat/tensorflow_stub/dtypes.py:544: FutureWarning: Passing (type, 1) or '1type' as a synonym of type is deprecated; in a future version of numpy, it will be understood as (type, (1,)) / '(1,)type'.\n",
            "  _np_quint16 = np.dtype([(\"quint16\", np.uint16, 1)])\n",
            "/usr/local/lib/python3.7/dist-packages/tensorboard/compat/tensorflow_stub/dtypes.py:545: FutureWarning: Passing (type, 1) or '1type' as a synonym of type is deprecated; in a future version of numpy, it will be understood as (type, (1,)) / '(1,)type'.\n",
            "  _np_qint32 = np.dtype([(\"qint32\", np.int32, 1)])\n",
            "/usr/local/lib/python3.7/dist-packages/tensorboard/compat/tensorflow_stub/dtypes.py:550: FutureWarning: Passing (type, 1) or '1type' as a synonym of type is deprecated; in a future version of numpy, it will be understood as (type, (1,)) / '(1,)type'.\n",
            "  np_resource = np.dtype([(\"resource\", np.ubyte, 1)])\n"
          ]
        }
      ],
      "source": [
        "import pandas as pd\n",
        "import numpy as np\n",
        "## TensorFlow\n",
        "import tensorflow as tf\n",
        "#tf.compat.v1.reset_default_graph()"
      ]
    },
    {
      "cell_type": "code",
      "source": [
        "df = pd.read_csv('/content/content/MyDrive/2048_final.csv')\n"
      ],
      "metadata": {
        "id": "dZPoUthYTwoC"
      },
      "execution_count": null,
      "outputs": []
    },
    {
      "cell_type": "code",
      "source": [
        "df.values"
      ],
      "metadata": {
        "id": "8I93WiXxT8pE",
        "outputId": "f2ab0bf6-ca0f-46af-c4a6-f033aa6ea82a",
        "colab": {
          "base_uri": "https://localhost:8080/"
        }
      },
      "execution_count": null,
      "outputs": [
        {
          "output_type": "execute_result",
          "data": {
            "text/plain": [
              "array([[0, 0, 0, ..., 0, 0, 0],\n",
              "       [0, 0, 0, ..., 0, 0, 0],\n",
              "       [0, 0, 0, ..., 0, 0, 0],\n",
              "       ...,\n",
              "       [0, 0, 0, ..., 0, 0, 0],\n",
              "       [0, 0, 0, ..., 0, 0, 0],\n",
              "       [0, 1, 0, ..., 0, 0, 0]])"
            ]
          },
          "metadata": {},
          "execution_count": 34
        }
      ]
    },
    {
      "cell_type": "code",
      "execution_count": null,
      "metadata": {
        "id": "IyVnITvXlvKW"
      },
      "outputs": [],
      "source": [
        "df = pd.read_csv('/content/content/MyDrive/CGAN_Regression/CGAN_code/Datasets/Datasets.csv')\n",
        "df = df.drop(['Calculated-pChEMBL'], axis = 1).values"
      ]
    },
    {
      "cell_type": "code",
      "source": [
        "2048-384-384-384"
      ],
      "metadata": {
        "id": "ajr39Q8VUjHJ",
        "outputId": "49094065-ff13-4325-dfc2-94bef5228a3a",
        "colab": {
          "base_uri": "https://localhost:8080/"
        }
      },
      "execution_count": null,
      "outputs": [
        {
          "output_type": "execute_result",
          "data": {
            "text/plain": [
              "896"
            ]
          },
          "metadata": {},
          "execution_count": 17
        }
      ]
    },
    {
      "cell_type": "code",
      "execution_count": null,
      "metadata": {
        "id": "4RykJLy-m5hk"
      },
      "outputs": [],
      "source": [
        "num_inputs = 2048\n",
        "\n",
        "## Encoder section\n",
        "hidden_1 = 1664     ## 256 (Number of nodes)\n",
        "hidden_2 = 1280  ## 128\n",
        "hidden_3 = 896  ## 64\n",
        "\n",
        "## Latent Space\n",
        "hidden_4 = 512  ## 32\n",
        "\n",
        "## Decoder \n",
        "hidden_5 = hidden_3      ## 64\n",
        "hidden_6 = hidden_2      ## 128\n",
        "hidden_7 = hidden_1      ## 256\n",
        "\n",
        "num_outputs = num_inputs ## 512"
      ]
    },
    {
      "cell_type": "code",
      "execution_count": null,
      "metadata": {
        "id": "BCfc-5Lfnt8d"
      },
      "outputs": [],
      "source": [
        "## Hyper Parameters: \n",
        "\n",
        "learning_rate = 0.001\n",
        "\n",
        "## Activation function\n",
        "\n",
        "\"\"\"\n",
        "Here we are using Rectified Linear Unit( ReLu). It is at the left for the user to test and experiment \n",
        "with other activation functions and learning rate\n",
        "\"\"\"\n",
        "\n",
        "activ_fn = tf.nn.relu\n",
        "\n",
        "## Input Layer\n",
        "\n",
        "\"\"\"\n",
        "Defining Input data\n",
        "\"\"\"\n",
        "\n",
        "X = tf.compat.v1.placeholder(tf.float32,shape = [None,num_inputs])\n",
        "\n",
        "## scaling keras.initializers.\n",
        "#initializer = tf.keras.initializers.variance_scaling_initializer()\n",
        "initializer = tf.contrib.layers.variance_scaling_initializer()"
      ]
    },
    {
      "cell_type": "code",
      "execution_count": null,
      "metadata": {
        "id": "YWii3KL_ovTv"
      },
      "outputs": [],
      "source": [
        "## Weights(Parameters)\n",
        "\"\"\"\n",
        "Here we are randomly initializing the weights which are later updated based on the gradient descent and learning rate \n",
        "such that it minimizes the cost function\n",
        "\"\"\"\n",
        "\n",
        "w1 = tf.Variable(initializer([num_inputs,hidden_1]),dtype=tf.float32)\n",
        "w2 = tf.Variable(initializer([hidden_1,hidden_2]),dtype=tf.float32)\n",
        "w3 = tf.Variable(initializer([hidden_2,hidden_3]),dtype=tf.float32)\n",
        "w4 = tf.Variable(initializer([hidden_3,hidden_4]),dtype=tf.float32)\n",
        "w5 = tf.transpose(w4)\n",
        "w6 = tf.transpose(w3)\n",
        "w7 = tf.transpose(w2)\n",
        "w8 = tf.transpose(w1)\n",
        "\n",
        "b1 = tf.Variable(tf.zeros(hidden_1))\n",
        "b2 = tf.Variable(tf.zeros(hidden_2))\n",
        "b3 = tf.Variable(tf.zeros(hidden_3))\n",
        "b4 = tf.Variable(tf.zeros(hidden_4))\n",
        "b5 = b3\n",
        "b6 = b2\n",
        "b7 = b1\n",
        "b8 = tf.Variable(tf.zeros(num_outputs))\n",
        "\n",
        "hid_layer1 = activ_fn(tf.matmul(X,w1)+b1)\n",
        "hid_layer2 = activ_fn(tf.matmul(hid_layer1,w2)+b2)\n",
        "hid_layer3 = activ_fn(tf.matmul(hid_layer2,w3)+b3)\n",
        "hid_layer4 = activ_fn(tf.matmul(hid_layer3,w4)+b4)\n",
        "hid_layer5 = activ_fn(tf.matmul(hid_layer4,w5)+b5)\n",
        "hid_layer6 = activ_fn(tf.matmul(hid_layer5,w6)+b6)\n",
        "hid_layer7 = activ_fn(tf.matmul(hid_layer6,w7)+b7)\n",
        "output_layer = activ_fn(tf.matmul(hid_layer7,w8)+b8)"
      ]
    },
    {
      "cell_type": "code",
      "execution_count": null,
      "metadata": {
        "id": "IT9Rmwnawl22",
        "colab": {
          "base_uri": "https://localhost:8080/",
          "height": 371
        },
        "outputId": "f8d8513d-b181-44ec-dadf-869637e11dd9"
      },
      "outputs": [
        {
          "output_type": "error",
          "ename": "ValueError",
          "evalue": "ignored",
          "traceback": [
            "\u001b[0;31m---------------------------------------------------------------------------\u001b[0m",
            "\u001b[0;31mValueError\u001b[0m                                Traceback (most recent call last)",
            "\u001b[0;32m<ipython-input-38-8022c797d210>\u001b[0m in \u001b[0;36m<module>\u001b[0;34m\u001b[0m\n\u001b[1;32m     16\u001b[0m \u001b[0minit\u001b[0m \u001b[0;34m=\u001b[0m \u001b[0mtf\u001b[0m\u001b[0;34m.\u001b[0m\u001b[0mglobal_variables_initializer\u001b[0m\u001b[0;34m(\u001b[0m\u001b[0;34m)\u001b[0m\u001b[0;34m\u001b[0m\u001b[0;34m\u001b[0m\u001b[0m\n\u001b[1;32m     17\u001b[0m \u001b[0;34m\u001b[0m\u001b[0m\n\u001b[0;32m---> 18\u001b[0;31m \u001b[0msaver\u001b[0m \u001b[0;34m=\u001b[0m \u001b[0mtf\u001b[0m\u001b[0;34m.\u001b[0m\u001b[0mtrain\u001b[0m\u001b[0;34m.\u001b[0m\u001b[0mSaver\u001b[0m\u001b[0;34m(\u001b[0m\u001b[0;34m)\u001b[0m\u001b[0;34m\u001b[0m\u001b[0;34m\u001b[0m\u001b[0m\n\u001b[0m",
            "\u001b[0;32m/usr/local/lib/python3.7/dist-packages/tensorflow/python/training/saver.py\u001b[0m in \u001b[0;36m__init__\u001b[0;34m(self, var_list, reshape, sharded, max_to_keep, keep_checkpoint_every_n_hours, name, restore_sequentially, saver_def, builder, defer_build, allow_empty, write_version, pad_step_number, save_relative_paths, filename)\u001b[0m\n\u001b[1;32m    823\u001b[0m           time.time() + self._keep_checkpoint_every_n_hours * 3600)\n\u001b[1;32m    824\u001b[0m     \u001b[0;32melif\u001b[0m \u001b[0;32mnot\u001b[0m \u001b[0mdefer_build\u001b[0m\u001b[0;34m:\u001b[0m\u001b[0;34m\u001b[0m\u001b[0;34m\u001b[0m\u001b[0m\n\u001b[0;32m--> 825\u001b[0;31m       \u001b[0mself\u001b[0m\u001b[0;34m.\u001b[0m\u001b[0mbuild\u001b[0m\u001b[0;34m(\u001b[0m\u001b[0;34m)\u001b[0m\u001b[0;34m\u001b[0m\u001b[0;34m\u001b[0m\u001b[0m\n\u001b[0m\u001b[1;32m    826\u001b[0m     \u001b[0;32mif\u001b[0m \u001b[0mself\u001b[0m\u001b[0;34m.\u001b[0m\u001b[0msaver_def\u001b[0m\u001b[0;34m:\u001b[0m\u001b[0;34m\u001b[0m\u001b[0;34m\u001b[0m\u001b[0m\n\u001b[1;32m    827\u001b[0m       \u001b[0mself\u001b[0m\u001b[0;34m.\u001b[0m\u001b[0m_check_saver_def\u001b[0m\u001b[0;34m(\u001b[0m\u001b[0;34m)\u001b[0m\u001b[0;34m\u001b[0m\u001b[0;34m\u001b[0m\u001b[0m\n",
            "\u001b[0;32m/usr/local/lib/python3.7/dist-packages/tensorflow/python/training/saver.py\u001b[0m in \u001b[0;36mbuild\u001b[0;34m(self)\u001b[0m\n\u001b[1;32m    835\u001b[0m     \u001b[0;32mif\u001b[0m \u001b[0mcontext\u001b[0m\u001b[0;34m.\u001b[0m\u001b[0mexecuting_eagerly\u001b[0m\u001b[0;34m(\u001b[0m\u001b[0;34m)\u001b[0m\u001b[0;34m:\u001b[0m\u001b[0;34m\u001b[0m\u001b[0;34m\u001b[0m\u001b[0m\n\u001b[1;32m    836\u001b[0m       \u001b[0;32mraise\u001b[0m \u001b[0mRuntimeError\u001b[0m\u001b[0;34m(\u001b[0m\u001b[0;34m\"Use save/restore instead of build in eager mode.\"\u001b[0m\u001b[0;34m)\u001b[0m\u001b[0;34m\u001b[0m\u001b[0;34m\u001b[0m\u001b[0m\n\u001b[0;32m--> 837\u001b[0;31m     \u001b[0mself\u001b[0m\u001b[0;34m.\u001b[0m\u001b[0m_build\u001b[0m\u001b[0;34m(\u001b[0m\u001b[0mself\u001b[0m\u001b[0;34m.\u001b[0m\u001b[0m_filename\u001b[0m\u001b[0;34m,\u001b[0m \u001b[0mbuild_save\u001b[0m\u001b[0;34m=\u001b[0m\u001b[0;32mTrue\u001b[0m\u001b[0;34m,\u001b[0m \u001b[0mbuild_restore\u001b[0m\u001b[0;34m=\u001b[0m\u001b[0;32mTrue\u001b[0m\u001b[0;34m)\u001b[0m\u001b[0;34m\u001b[0m\u001b[0;34m\u001b[0m\u001b[0m\n\u001b[0m\u001b[1;32m    838\u001b[0m \u001b[0;34m\u001b[0m\u001b[0m\n\u001b[1;32m    839\u001b[0m   \u001b[0;32mdef\u001b[0m \u001b[0m_build_eager\u001b[0m\u001b[0;34m(\u001b[0m\u001b[0mself\u001b[0m\u001b[0;34m,\u001b[0m \u001b[0mcheckpoint_path\u001b[0m\u001b[0;34m,\u001b[0m \u001b[0mbuild_save\u001b[0m\u001b[0;34m,\u001b[0m \u001b[0mbuild_restore\u001b[0m\u001b[0;34m)\u001b[0m\u001b[0;34m:\u001b[0m\u001b[0;34m\u001b[0m\u001b[0;34m\u001b[0m\u001b[0m\n",
            "\u001b[0;32m/usr/local/lib/python3.7/dist-packages/tensorflow/python/training/saver.py\u001b[0m in \u001b[0;36m_build\u001b[0;34m(self, checkpoint_path, build_save, build_restore)\u001b[0m\n\u001b[1;32m    873\u001b[0m           \u001b[0mfilename\u001b[0m\u001b[0;34m=\u001b[0m\u001b[0mcheckpoint_path\u001b[0m\u001b[0;34m,\u001b[0m\u001b[0;34m\u001b[0m\u001b[0;34m\u001b[0m\u001b[0m\n\u001b[1;32m    874\u001b[0m           \u001b[0mbuild_save\u001b[0m\u001b[0;34m=\u001b[0m\u001b[0mbuild_save\u001b[0m\u001b[0;34m,\u001b[0m\u001b[0;34m\u001b[0m\u001b[0;34m\u001b[0m\u001b[0m\n\u001b[0;32m--> 875\u001b[0;31m           build_restore=build_restore)\n\u001b[0m\u001b[1;32m    876\u001b[0m     \u001b[0;32melif\u001b[0m \u001b[0mself\u001b[0m\u001b[0;34m.\u001b[0m\u001b[0msaver_def\u001b[0m \u001b[0;32mand\u001b[0m \u001b[0mself\u001b[0m\u001b[0;34m.\u001b[0m\u001b[0m_name\u001b[0m\u001b[0;34m:\u001b[0m\u001b[0;34m\u001b[0m\u001b[0;34m\u001b[0m\u001b[0m\n\u001b[1;32m    877\u001b[0m       \u001b[0;31m# Since self._name is used as a name_scope by builder(), we are\u001b[0m\u001b[0;34m\u001b[0m\u001b[0;34m\u001b[0m\u001b[0;34m\u001b[0m\u001b[0m\n",
            "\u001b[0;32m/usr/local/lib/python3.7/dist-packages/tensorflow/python/training/saver.py\u001b[0m in \u001b[0;36m_build_internal\u001b[0;34m(self, names_to_saveables, reshape, sharded, max_to_keep, keep_checkpoint_every_n_hours, name, restore_sequentially, filename, build_save, build_restore)\u001b[0m\n\u001b[1;32m    480\u001b[0m \u001b[0;34m\u001b[0m\u001b[0m\n\u001b[1;32m    481\u001b[0m     saveables = saveable_object_util.validate_and_slice_inputs(\n\u001b[0;32m--> 482\u001b[0;31m         names_to_saveables)\n\u001b[0m\u001b[1;32m    483\u001b[0m     \u001b[0;32mif\u001b[0m \u001b[0mmax_to_keep\u001b[0m \u001b[0;32mis\u001b[0m \u001b[0;32mNone\u001b[0m\u001b[0;34m:\u001b[0m\u001b[0;34m\u001b[0m\u001b[0;34m\u001b[0m\u001b[0m\n\u001b[1;32m    484\u001b[0m       \u001b[0mmax_to_keep\u001b[0m \u001b[0;34m=\u001b[0m \u001b[0;36m0\u001b[0m\u001b[0;34m\u001b[0m\u001b[0;34m\u001b[0m\u001b[0m\n",
            "\u001b[0;32m/usr/local/lib/python3.7/dist-packages/tensorflow/python/training/saving/saveable_object_util.py\u001b[0m in \u001b[0;36mvalidate_and_slice_inputs\u001b[0;34m(names_to_saveables)\u001b[0m\n\u001b[1;32m    333\u001b[0m   \"\"\"\n\u001b[1;32m    334\u001b[0m   \u001b[0;32mif\u001b[0m \u001b[0;32mnot\u001b[0m \u001b[0misinstance\u001b[0m\u001b[0;34m(\u001b[0m\u001b[0mnames_to_saveables\u001b[0m\u001b[0;34m,\u001b[0m \u001b[0mdict\u001b[0m\u001b[0;34m)\u001b[0m\u001b[0;34m:\u001b[0m\u001b[0;34m\u001b[0m\u001b[0;34m\u001b[0m\u001b[0m\n\u001b[0;32m--> 335\u001b[0;31m     \u001b[0mnames_to_saveables\u001b[0m \u001b[0;34m=\u001b[0m \u001b[0mop_list_to_dict\u001b[0m\u001b[0;34m(\u001b[0m\u001b[0mnames_to_saveables\u001b[0m\u001b[0;34m)\u001b[0m\u001b[0;34m\u001b[0m\u001b[0;34m\u001b[0m\u001b[0m\n\u001b[0m\u001b[1;32m    336\u001b[0m \u001b[0;34m\u001b[0m\u001b[0m\n\u001b[1;32m    337\u001b[0m   \u001b[0msaveables\u001b[0m \u001b[0;34m=\u001b[0m \u001b[0;34m[\u001b[0m\u001b[0;34m]\u001b[0m\u001b[0;34m\u001b[0m\u001b[0;34m\u001b[0m\u001b[0m\n",
            "\u001b[0;32m/usr/local/lib/python3.7/dist-packages/tensorflow/python/training/saving/saveable_object_util.py\u001b[0m in \u001b[0;36mop_list_to_dict\u001b[0;34m(op_list, convert_variable_to_tensor)\u001b[0m\n\u001b[1;32m    290\u001b[0m         \u001b[0;32mif\u001b[0m \u001b[0mname\u001b[0m \u001b[0;32min\u001b[0m \u001b[0mnames_to_saveables\u001b[0m\u001b[0;34m:\u001b[0m\u001b[0;34m\u001b[0m\u001b[0;34m\u001b[0m\u001b[0m\n\u001b[1;32m    291\u001b[0m           raise ValueError(\"At least two variables have the same name: %s\" %\n\u001b[0;32m--> 292\u001b[0;31m                            name)\n\u001b[0m\u001b[1;32m    293\u001b[0m         \u001b[0mnames_to_saveables\u001b[0m\u001b[0;34m[\u001b[0m\u001b[0mname\u001b[0m\u001b[0;34m]\u001b[0m \u001b[0;34m=\u001b[0m \u001b[0mvar\u001b[0m\u001b[0;34m\u001b[0m\u001b[0;34m\u001b[0m\u001b[0m\n\u001b[1;32m    294\u001b[0m \u001b[0;34m\u001b[0m\u001b[0m\n",
            "\u001b[0;31mValueError\u001b[0m: At least two variables have the same name: Variable/Adam"
          ]
        }
      ],
      "source": [
        "## Loss Function(Cost function)\n",
        "\n",
        "\"\"\"\n",
        "Here we are defining the cost function, Minimizing loss between input and output layers\n",
        "\"\"\"\n",
        "\n",
        "loss = tf.reduce_mean(tf.square(output_layer - X))\n",
        "\n",
        "optimizer = tf.train.AdamOptimizer(learning_rate)\n",
        "\n",
        "## Optimizer\n",
        "train = optimizer.minimize(loss)\n",
        "\n",
        "\n",
        "## Initialzing\n",
        "init = tf.global_variables_initializer()\n",
        "\n",
        "saver = tf.train.Saver()"
      ]
    },
    {
      "cell_type": "code",
      "execution_count": 12,
      "metadata": {
        "colab": {
          "base_uri": "https://localhost:8080/"
        },
        "id": "bb54nOZ-w_d4",
        "outputId": "f18d049b-ed2c-400b-e310-a5bd35716188"
      },
      "outputs": [
        {
          "output_type": "stream",
          "name": "stdout",
          "text": [
            "Epoch: 0 Loss: 0.0348101407289505\n",
            "Epoch: 1 Loss: 0.025294966995716095\n",
            "Epoch: 2 Loss: 0.019386904314160347\n",
            "Epoch: 3 Loss: 0.015595512464642525\n",
            "Epoch: 4 Loss: 0.012776345014572144\n",
            "Epoch: 5 Loss: 0.010544106364250183\n",
            "Epoch: 6 Loss: 0.008895527571439743\n",
            "Epoch: 7 Loss: 0.007548058405518532\n",
            "Epoch: 8 Loss: 0.006376582197844982\n",
            "Epoch: 9 Loss: 0.005406704731285572\n",
            "Epoch: 10 Loss: 0.00449917558580637\n",
            "Epoch: 11 Loss: 0.0037445935886353254\n",
            "Epoch: 12 Loss: 0.0031029880046844482\n",
            "Epoch: 13 Loss: 0.0025870301760733128\n",
            "Epoch: 14 Loss: 0.002132870489731431\n",
            "Epoch: 15 Loss: 0.0017832103185355663\n",
            "Epoch: 16 Loss: 0.0015067054191604257\n",
            "Epoch: 17 Loss: 0.0012712394818663597\n",
            "Epoch: 18 Loss: 0.0010943023953586817\n",
            "Epoch: 19 Loss: 0.0009575627045705914\n",
            "Epoch: 20 Loss: 0.000828029471449554\n",
            "Epoch: 21 Loss: 0.0007412500563077629\n",
            "Epoch: 22 Loss: 0.000632345792837441\n",
            "Epoch: 23 Loss: 0.0005631514941342175\n",
            "Epoch: 24 Loss: 0.0005074926884844899\n",
            "Epoch: 25 Loss: 0.0004418271128088236\n",
            "Epoch: 26 Loss: 0.00037984034861437976\n",
            "Epoch: 27 Loss: 0.0003361592534929514\n",
            "Epoch: 28 Loss: 0.0003331834450364113\n",
            "Epoch: 29 Loss: 0.0003015405382029712\n",
            "Epoch: 30 Loss: 0.0002573523670434952\n",
            "Epoch: 31 Loss: 0.00023468610015697777\n",
            "Epoch: 32 Loss: 0.00021345281857065856\n",
            "Epoch: 33 Loss: 0.00020423164824023843\n",
            "Epoch: 34 Loss: 0.00020357394532766193\n",
            "Epoch: 35 Loss: 0.0001741815503919497\n",
            "Epoch: 36 Loss: 0.0001892428263090551\n",
            "Epoch: 37 Loss: 0.00015212582366075367\n",
            "Epoch: 38 Loss: 0.00017863282118923962\n",
            "Epoch: 39 Loss: 0.00016474822768941522\n",
            "Epoch: 40 Loss: 0.00018811192421708256\n",
            "Epoch: 41 Loss: 0.00014387919509317726\n",
            "Epoch: 42 Loss: 0.0001800123427528888\n",
            "Epoch: 43 Loss: 0.0001298068673349917\n",
            "Epoch: 44 Loss: 0.00016169215086847544\n",
            "Epoch: 45 Loss: 0.00012988132948521525\n",
            "Epoch: 46 Loss: 0.00015200316556729376\n",
            "Epoch: 47 Loss: 0.0001108469587052241\n",
            "Epoch: 48 Loss: 0.00013887244858779013\n",
            "Epoch: 49 Loss: 0.0001127659561461769\n",
            "Epoch: 50 Loss: 0.00015544101188424975\n",
            "Epoch: 51 Loss: 0.0001378481392748654\n",
            "Epoch: 52 Loss: 0.00013927838881500065\n",
            "Epoch: 53 Loss: 0.00011738533794414252\n",
            "Epoch: 54 Loss: 0.00010667894093785435\n",
            "Epoch: 55 Loss: 0.00010722172737587243\n",
            "Epoch: 56 Loss: 0.00013270479394122958\n",
            "Epoch: 57 Loss: 0.00012287123536225408\n",
            "Epoch: 58 Loss: 9.384768782183528e-05\n",
            "Epoch: 59 Loss: 0.00010482138895895332\n",
            "Epoch: 60 Loss: 0.00011734625149983913\n",
            "Epoch: 61 Loss: 0.00010757417476270348\n",
            "Epoch: 62 Loss: 8.163500751834363e-05\n",
            "Epoch: 63 Loss: 0.00010932401346508414\n",
            "Epoch: 64 Loss: 9.35466232476756e-05\n",
            "Epoch: 65 Loss: 0.00010082031803904101\n",
            "Epoch: 66 Loss: 8.795567555353045e-05\n",
            "Epoch: 67 Loss: 0.00010515178291825578\n",
            "Epoch: 68 Loss: 0.00010674789518816397\n",
            "Epoch: 69 Loss: 0.00010164327977690846\n",
            "Epoch: 70 Loss: 0.00011023288971045986\n",
            "Epoch: 71 Loss: 8.54346581036225e-05\n",
            "Epoch: 72 Loss: 9.003088052850217e-05\n",
            "Epoch: 73 Loss: 0.00010202096018474549\n",
            "Epoch: 74 Loss: 9.156221494777128e-05\n",
            "Epoch: 75 Loss: 0.00010957047197734937\n",
            "Epoch: 76 Loss: 0.0001100142762879841\n",
            "Epoch: 77 Loss: 0.00011987802281510085\n",
            "Epoch: 78 Loss: 0.00010367574577685446\n",
            "Epoch: 79 Loss: 0.00011098729737568647\n",
            "Epoch: 80 Loss: 9.68812164501287e-05\n",
            "Epoch: 81 Loss: 9.972669067792594e-05\n",
            "Epoch: 82 Loss: 9.840315760811791e-05\n",
            "Epoch: 83 Loss: 0.00011079291289206594\n",
            "Epoch: 84 Loss: 0.00011329180415486917\n",
            "Epoch: 85 Loss: 0.00010593986371532083\n",
            "Epoch: 86 Loss: 0.00015490062651224434\n",
            "Epoch: 87 Loss: 0.00010453732829773799\n",
            "Epoch: 88 Loss: 9.318214142695069e-05\n",
            "Epoch: 89 Loss: 0.00011361804354237393\n",
            "Epoch: 90 Loss: 9.790875628823414e-05\n",
            "Epoch: 91 Loss: 0.0001051568760885857\n",
            "Epoch: 92 Loss: 6.839402340119705e-05\n",
            "Epoch: 93 Loss: 0.00010024929360952228\n",
            "Epoch: 94 Loss: 7.120936788851395e-05\n",
            "Epoch: 95 Loss: 8.669489761814475e-05\n",
            "Epoch: 96 Loss: 8.731190609978512e-05\n",
            "Epoch: 97 Loss: 0.00012067798525094986\n",
            "Epoch: 98 Loss: 8.386558329220861e-05\n",
            "Epoch: 99 Loss: 0.00010444159852340817\n",
            "Epoch: 100 Loss: 8.294303552247584e-05\n",
            "Epoch: 101 Loss: 0.00011749824625439942\n",
            "Epoch: 102 Loss: 8.721865015104413e-05\n",
            "Epoch: 103 Loss: 9.687714918982238e-05\n",
            "Epoch: 104 Loss: 7.607571023982018e-05\n",
            "Epoch: 105 Loss: 6.287270662141964e-05\n",
            "Epoch: 106 Loss: 0.00010240236588288099\n",
            "Epoch: 107 Loss: 6.562439375557005e-05\n",
            "Epoch: 108 Loss: 0.00011664896737784147\n",
            "Epoch: 109 Loss: 7.95753876445815e-05\n",
            "Epoch: 110 Loss: 0.0001141403045039624\n",
            "Epoch: 111 Loss: 8.571620128350332e-05\n",
            "Epoch: 112 Loss: 0.0001202561252284795\n",
            "Epoch: 113 Loss: 8.111945498967543e-05\n",
            "Epoch: 114 Loss: 0.00013822612527292222\n",
            "Epoch: 115 Loss: 7.567138527520001e-05\n",
            "Epoch: 116 Loss: 0.00011918654490727931\n",
            "Epoch: 117 Loss: 8.461157267447561e-05\n",
            "Epoch: 118 Loss: 0.00015951393288560212\n",
            "Epoch: 119 Loss: 0.00010578825458651409\n",
            "Epoch: 120 Loss: 9.74525828496553e-05\n",
            "Epoch: 121 Loss: 0.00011390257714083418\n",
            "Epoch: 122 Loss: 9.888775821309537e-05\n",
            "Epoch: 123 Loss: 0.00011529718176461756\n",
            "Epoch: 124 Loss: 0.00011426224955357611\n",
            "Epoch: 125 Loss: 8.897183579392731e-05\n",
            "Epoch: 126 Loss: 9.130505350185558e-05\n",
            "Epoch: 127 Loss: 8.642952161608264e-05\n",
            "Epoch: 128 Loss: 8.559534035157412e-05\n",
            "Epoch: 129 Loss: 7.696992543060333e-05\n",
            "Epoch: 130 Loss: 0.00014043919509276748\n",
            "Epoch: 131 Loss: 7.007140811765566e-05\n",
            "Epoch: 132 Loss: 8.697765588294715e-05\n",
            "Epoch: 133 Loss: 9.393608343089e-05\n",
            "Epoch: 134 Loss: 0.00010045292583527043\n",
            "Epoch: 135 Loss: 7.970962178660557e-05\n",
            "Epoch: 136 Loss: 7.043567893560976e-05\n",
            "Epoch: 137 Loss: 0.00010186384315602481\n",
            "Epoch: 138 Loss: 6.53823371976614e-05\n",
            "Epoch: 139 Loss: 9.718893852550536e-05\n",
            "Epoch: 140 Loss: 9.459935245104134e-05\n",
            "Epoch: 141 Loss: 8.44670066726394e-05\n",
            "Epoch: 142 Loss: 0.00010718573321355507\n",
            "Epoch: 143 Loss: 0.0001163230772363022\n",
            "Epoch: 144 Loss: 7.669691694900393e-05\n",
            "Epoch: 145 Loss: 0.00011126359459012747\n",
            "Epoch: 146 Loss: 9.495814447291195e-05\n",
            "Epoch: 147 Loss: 9.818233229452744e-05\n",
            "Epoch: 148 Loss: 0.000123306002933532\n",
            "Epoch: 149 Loss: 0.00010732298687798902\n",
            "Epoch: 150 Loss: 0.00011710235412465408\n",
            "Epoch: 151 Loss: 0.00010222819400951266\n",
            "Epoch: 152 Loss: 0.0001110045486711897\n",
            "Epoch: 153 Loss: 0.0001339260779786855\n",
            "Epoch: 154 Loss: 7.15269852662459e-05\n",
            "Epoch: 155 Loss: 0.0001299300347454846\n",
            "Epoch: 156 Loss: 0.00010914380254689604\n",
            "Epoch: 157 Loss: 0.00010637115337885916\n",
            "Epoch: 158 Loss: 0.0001028625265462324\n",
            "Epoch: 159 Loss: 0.00013019096513744444\n",
            "Epoch: 160 Loss: 0.00013470297562889755\n",
            "Epoch: 161 Loss: 0.00013228767784312367\n",
            "Epoch: 162 Loss: 0.00010243132419418544\n",
            "Epoch: 163 Loss: 0.0001224556181114167\n",
            "Epoch: 164 Loss: 0.00012987139052711427\n",
            "Epoch: 165 Loss: 0.0001100147856050171\n",
            "Epoch: 166 Loss: 0.00011014283518306911\n",
            "Epoch: 167 Loss: 0.00010962832311633974\n",
            "Epoch: 168 Loss: 9.545587818138301e-05\n",
            "Epoch: 169 Loss: 7.653240027138963e-05\n",
            "Epoch: 170 Loss: 8.838862413540483e-05\n",
            "Epoch: 171 Loss: 0.00011007228749804199\n",
            "Epoch: 172 Loss: 9.655416943132877e-05\n",
            "Epoch: 173 Loss: 0.00010617224324960262\n",
            "Epoch: 174 Loss: 9.8882541351486e-05\n",
            "Epoch: 175 Loss: 0.0001162856788141653\n",
            "Epoch: 176 Loss: 0.00010718697740230709\n",
            "Epoch: 177 Loss: 6.380466220434755e-05\n",
            "Epoch: 178 Loss: 8.730911940801889e-05\n",
            "Epoch: 179 Loss: 9.156848682323471e-05\n",
            "Epoch: 180 Loss: 8.49868229124695e-05\n",
            "Epoch: 181 Loss: 0.00010164872219320387\n",
            "Epoch: 182 Loss: 0.00010995791672030464\n",
            "Epoch: 183 Loss: 7.663259748369455e-05\n",
            "Epoch: 184 Loss: 8.763514779275283e-05\n",
            "Epoch: 185 Loss: 0.00012253965542186052\n",
            "Epoch: 186 Loss: 8.657060971017927e-05\n",
            "Epoch: 187 Loss: 9.485647751716897e-05\n",
            "Epoch: 188 Loss: 0.00012456117838155478\n",
            "Epoch: 189 Loss: 9.433378727408126e-05\n",
            "Epoch: 190 Loss: 0.00010109737195307389\n",
            "Epoch: 191 Loss: 0.00012934970436617732\n",
            "Epoch: 192 Loss: 0.00010139698861166835\n",
            "Epoch: 193 Loss: 0.00010048400872619823\n",
            "Epoch: 194 Loss: 8.953777432907373e-05\n",
            "Epoch: 195 Loss: 0.0001175020297523588\n",
            "Epoch: 196 Loss: 0.00012293473992031068\n",
            "Epoch: 197 Loss: 0.00011521576379891485\n",
            "Epoch: 198 Loss: 0.00016797779244370759\n",
            "Epoch: 199 Loss: 0.00015799119137227535\n",
            "Epoch: 200 Loss: 0.00013393208791967481\n",
            "Epoch: 201 Loss: 0.0001668930781306699\n",
            "Epoch: 202 Loss: 0.0001262164587387815\n",
            "Epoch: 203 Loss: 0.00014635334082413465\n",
            "Epoch: 204 Loss: 8.460655226372182e-05\n",
            "Epoch: 205 Loss: 0.00012011533544864506\n",
            "Epoch: 206 Loss: 0.00010923377703875303\n",
            "Epoch: 207 Loss: 0.00016067890101112425\n",
            "Epoch: 208 Loss: 9.652449080022052e-05\n",
            "Epoch: 209 Loss: 0.00015160278417170048\n",
            "Epoch: 210 Loss: 0.0001281740260310471\n",
            "Epoch: 211 Loss: 0.00018205642118118703\n",
            "Epoch: 212 Loss: 0.00012845409219153225\n",
            "Epoch: 213 Loss: 0.0001456583122489974\n",
            "Epoch: 214 Loss: 0.0001129072334151715\n",
            "Epoch: 215 Loss: 0.00011710906983353198\n",
            "Epoch: 216 Loss: 0.00017266564827878028\n",
            "Epoch: 217 Loss: 0.0001047740297508426\n",
            "Epoch: 218 Loss: 0.00013520964421331882\n",
            "Epoch: 219 Loss: 0.00013408689119387418\n",
            "Epoch: 220 Loss: 0.0001392916456097737\n",
            "Epoch: 221 Loss: 0.00011227840150240809\n",
            "Epoch: 222 Loss: 9.137950110016391e-05\n",
            "Epoch: 223 Loss: 9.59933822741732e-05\n",
            "Epoch: 224 Loss: 0.00011416480992920697\n",
            "Epoch: 225 Loss: 0.00010280557762598619\n",
            "Epoch: 226 Loss: 0.00015758645895402879\n",
            "Epoch: 227 Loss: 0.00010797663708217442\n",
            "Epoch: 228 Loss: 0.00012784675345756114\n",
            "Epoch: 229 Loss: 0.00013091572327539325\n",
            "Epoch: 230 Loss: 0.00012161825725343078\n",
            "Epoch: 231 Loss: 0.00010041051427833736\n",
            "Epoch: 232 Loss: 0.00012274182518012822\n",
            "Epoch: 233 Loss: 0.0001053762825904414\n",
            "Epoch: 234 Loss: 9.62750636972487e-05\n",
            "Epoch: 235 Loss: 0.00010713409574236721\n",
            "Epoch: 236 Loss: 8.892085315892473e-05\n",
            "Epoch: 237 Loss: 0.00010470327106304467\n",
            "Epoch: 238 Loss: 0.00013310722715687007\n",
            "Epoch: 239 Loss: 0.00011251249816268682\n",
            "Epoch: 240 Loss: 8.038477972149849e-05\n",
            "Epoch: 241 Loss: 0.0001033848020597361\n",
            "Epoch: 242 Loss: 9.690177103038877e-05\n",
            "Epoch: 243 Loss: 9.660303476266563e-05\n",
            "Epoch: 244 Loss: 8.858742512529716e-05\n",
            "Epoch: 245 Loss: 0.00010271118662785739\n",
            "Epoch: 246 Loss: 8.010440797079355e-05\n",
            "Epoch: 247 Loss: 9.807366586755961e-05\n",
            "Epoch: 248 Loss: 0.00010368416405981407\n",
            "Epoch: 249 Loss: 0.0001161475302069448\n",
            "Epoch: 250 Loss: 0.00012957907165400684\n",
            "Epoch: 251 Loss: 9.799363760976121e-05\n",
            "Epoch: 252 Loss: 0.0001370228419546038\n",
            "Epoch: 253 Loss: 0.00011918180098291487\n",
            "Epoch: 254 Loss: 0.00014127448957879096\n",
            "Epoch: 255 Loss: 9.254858014173806e-05\n",
            "Epoch: 256 Loss: 0.00013853533891960979\n",
            "Epoch: 257 Loss: 8.043109846767038e-05\n",
            "Epoch: 258 Loss: 0.0001223639992531389\n",
            "Epoch: 259 Loss: 0.00011642846948234364\n",
            "Epoch: 260 Loss: 0.00010864112118724734\n",
            "Epoch: 261 Loss: 0.00010838444723049179\n",
            "Epoch: 262 Loss: 9.26959328353405e-05\n",
            "Epoch: 263 Loss: 0.0001420027983840555\n",
            "Epoch: 264 Loss: 0.00010876152373384684\n",
            "Epoch: 265 Loss: 0.00012715790944639593\n",
            "Epoch: 266 Loss: 0.00013046254753135145\n",
            "Epoch: 267 Loss: 0.0001052037114277482\n",
            "Epoch: 268 Loss: 0.00010464116348885\n",
            "Epoch: 269 Loss: 0.00010337804269511253\n",
            "Epoch: 270 Loss: 0.00013229320757091045\n",
            "Epoch: 271 Loss: 0.00013356059207580984\n",
            "Epoch: 272 Loss: 9.799675899557769e-05\n",
            "Epoch: 273 Loss: 0.00010817148722708225\n",
            "Epoch: 274 Loss: 0.00011558293044799939\n",
            "Epoch: 275 Loss: 0.00012167225941084325\n",
            "Epoch: 276 Loss: 0.00010219262185273692\n",
            "Epoch: 277 Loss: 7.017124153207988e-05\n",
            "Epoch: 278 Loss: 8.729117689654231e-05\n",
            "Epoch: 279 Loss: 0.0001152979675680399\n",
            "Epoch: 280 Loss: 6.944299093447626e-05\n",
            "Epoch: 281 Loss: 0.00010301951260771602\n",
            "Epoch: 282 Loss: 9.364007564727217e-05\n",
            "Epoch: 283 Loss: 0.00010313160601072013\n",
            "Epoch: 284 Loss: 7.77301611378789e-05\n",
            "Epoch: 285 Loss: 0.00012110346142435446\n",
            "Epoch: 286 Loss: 0.00011558458209037781\n",
            "Epoch: 287 Loss: 0.00010193424532189965\n",
            "Epoch: 288 Loss: 0.00011702370102284476\n",
            "Epoch: 289 Loss: 0.00012230814900249243\n",
            "Epoch: 290 Loss: 0.00011193657701369375\n",
            "Epoch: 291 Loss: 0.00014686203212477267\n",
            "Epoch: 292 Loss: 0.0001212032075272873\n",
            "Epoch: 293 Loss: 0.0001332848914898932\n",
            "Epoch: 294 Loss: 0.00011656247079372406\n",
            "Epoch: 295 Loss: 0.0001472148287575692\n",
            "Epoch: 296 Loss: 0.00012497318675741553\n",
            "Epoch: 297 Loss: 0.00012778745440300554\n",
            "Epoch: 298 Loss: 0.000159711780725047\n",
            "Epoch: 299 Loss: 0.000128978441352956\n",
            "Epoch: 300 Loss: 0.00012897240230813622\n",
            "Epoch: 301 Loss: 0.0001327576901530847\n",
            "Epoch: 302 Loss: 0.00016601794050075114\n",
            "Epoch: 303 Loss: 0.0001835494040278718\n",
            "Epoch: 304 Loss: 0.00019715010421350598\n",
            "Epoch: 305 Loss: 0.00015358399832621217\n",
            "Epoch: 306 Loss: 0.0001388288219459355\n",
            "Epoch: 307 Loss: 0.00013167900033295155\n",
            "Epoch: 308 Loss: 0.00010749502689577639\n",
            "Epoch: 309 Loss: 0.00010739081335486844\n",
            "Epoch: 310 Loss: 0.00011856005585286766\n",
            "Epoch: 311 Loss: 0.00011475467181298882\n",
            "Epoch: 312 Loss: 8.570948557462543e-05\n",
            "Epoch: 313 Loss: 0.00010392260446678847\n",
            "Epoch: 314 Loss: 8.108798647299409e-05\n",
            "Epoch: 315 Loss: 0.00016043319192249328\n",
            "Epoch: 316 Loss: 9.529013914288953e-05\n",
            "Epoch: 317 Loss: 9.241614316124469e-05\n",
            "Epoch: 318 Loss: 9.5680050435476e-05\n",
            "Epoch: 319 Loss: 8.032501500565559e-05\n",
            "Epoch: 320 Loss: 0.00010778831347124651\n",
            "Epoch: 321 Loss: 6.691124872304499e-05\n",
            "Epoch: 322 Loss: 0.0001171232433989644\n",
            "Epoch: 323 Loss: 8.336940663866699e-05\n",
            "Epoch: 324 Loss: 9.038241114467382e-05\n",
            "Epoch: 325 Loss: 7.352078682743013e-05\n",
            "Epoch: 326 Loss: 9.859878628049046e-05\n",
            "Epoch: 327 Loss: 7.464250666089356e-05\n",
            "Epoch: 328 Loss: 0.00011319025361444801\n",
            "Epoch: 329 Loss: 8.657239959575236e-05\n",
            "Epoch: 330 Loss: 9.750176104716957e-05\n",
            "Epoch: 331 Loss: 0.00010357181599829346\n",
            "Epoch: 332 Loss: 9.307228901889175e-05\n",
            "Epoch: 333 Loss: 7.092677697073668e-05\n",
            "Epoch: 334 Loss: 8.17974068922922e-05\n",
            "Epoch: 335 Loss: 8.593003440182656e-05\n",
            "Epoch: 336 Loss: 0.00010110611765412614\n",
            "Epoch: 337 Loss: 0.00010511293658055365\n",
            "Epoch: 338 Loss: 9.637380571803078e-05\n",
            "Epoch: 339 Loss: 0.00010780330921988934\n",
            "Epoch: 340 Loss: 0.00010820011812029406\n",
            "Epoch: 341 Loss: 0.00011604039900703356\n",
            "Epoch: 342 Loss: 0.00011139858543174341\n",
            "Epoch: 343 Loss: 0.00010573754843790084\n",
            "Epoch: 344 Loss: 0.00010965660476358607\n",
            "Epoch: 345 Loss: 0.0001141722168540582\n",
            "Epoch: 346 Loss: 8.661216998007149e-05\n",
            "Epoch: 347 Loss: 0.00011073459609178826\n",
            "Epoch: 348 Loss: 0.00010185818973695859\n",
            "Epoch: 349 Loss: 0.00011660488235065714\n",
            "Epoch: 350 Loss: 9.570343536324799e-05\n",
            "Epoch: 351 Loss: 0.00011826996342279017\n",
            "Epoch: 352 Loss: 0.00010695634409785271\n",
            "Epoch: 353 Loss: 9.700455848360434e-05\n",
            "Epoch: 354 Loss: 9.393146319780499e-05\n",
            "Epoch: 355 Loss: 9.715287887956947e-05\n",
            "Epoch: 356 Loss: 8.076104859355837e-05\n",
            "Epoch: 357 Loss: 0.00012395413068588823\n",
            "Epoch: 358 Loss: 9.940775635186583e-05\n",
            "Epoch: 359 Loss: 9.854539530351758e-05\n",
            "Epoch: 360 Loss: 8.91932868398726e-05\n",
            "Epoch: 361 Loss: 0.00010167805885430425\n",
            "Epoch: 362 Loss: 0.00013288423360791057\n",
            "Epoch: 363 Loss: 6.870267679914832e-05\n",
            "Epoch: 364 Loss: 9.832147043198347e-05\n",
            "Epoch: 365 Loss: 0.00010355632548453286\n",
            "Epoch: 366 Loss: 9.77351883193478e-05\n",
            "Epoch: 367 Loss: 7.876041490817443e-05\n",
            "Epoch: 368 Loss: 0.00012130642426200211\n",
            "Epoch: 369 Loss: 8.633438847027719e-05\n",
            "Epoch: 370 Loss: 7.492805161746219e-05\n",
            "Epoch: 371 Loss: 8.412152237724513e-05\n",
            "Epoch: 372 Loss: 7.894638110883534e-05\n",
            "Epoch: 373 Loss: 8.68461502250284e-05\n",
            "Epoch: 374 Loss: 6.627101538470015e-05\n",
            "Epoch: 375 Loss: 0.00011487597657833248\n",
            "Epoch: 376 Loss: 9.141506598098204e-05\n",
            "Epoch: 377 Loss: 8.761142089497298e-05\n",
            "Epoch: 378 Loss: 9.55926370806992e-05\n",
            "Epoch: 379 Loss: 8.260820322902873e-05\n",
            "Epoch: 380 Loss: 7.873392314650118e-05\n",
            "Epoch: 381 Loss: 9.895991388475522e-05\n",
            "Epoch: 382 Loss: 9.361855336464942e-05\n",
            "Epoch: 383 Loss: 7.642238779226318e-05\n",
            "Epoch: 384 Loss: 8.338507905136794e-05\n",
            "Epoch: 385 Loss: 7.914820162113756e-05\n",
            "Epoch: 386 Loss: 9.943048644345254e-05\n",
            "Epoch: 387 Loss: 8.286441152449697e-05\n",
            "Epoch: 388 Loss: 6.857774133095518e-05\n",
            "Epoch: 389 Loss: 8.311566489282995e-05\n",
            "Epoch: 390 Loss: 7.448327960446477e-05\n",
            "Epoch: 391 Loss: 8.27728581498377e-05\n",
            "Epoch: 392 Loss: 5.116411921335384e-05\n",
            "Epoch: 393 Loss: 7.441643538186327e-05\n",
            "Epoch: 394 Loss: 6.769946776330471e-05\n",
            "Epoch: 395 Loss: 9.163193317363039e-05\n",
            "Epoch: 396 Loss: 5.974562373012304e-05\n",
            "Epoch: 397 Loss: 9.191986464429647e-05\n",
            "Epoch: 398 Loss: 0.00010291746002621949\n",
            "Epoch: 399 Loss: 9.449958452023566e-05\n",
            "Epoch: 400 Loss: 0.0001050168284564279\n",
            "Epoch: 401 Loss: 9.688336285762489e-05\n",
            "Epoch: 402 Loss: 0.00011777118925238028\n",
            "Epoch: 403 Loss: 0.00010057030158350244\n",
            "Epoch: 404 Loss: 0.00011635937698883936\n",
            "Epoch: 405 Loss: 0.00012022408191114664\n",
            "Epoch: 406 Loss: 8.97724021342583e-05\n",
            "Epoch: 407 Loss: 0.00013035532901994884\n",
            "Epoch: 408 Loss: 8.869524754118174e-05\n",
            "Epoch: 409 Loss: 0.00011491141049191356\n",
            "Epoch: 410 Loss: 0.00010595290223136544\n",
            "Epoch: 411 Loss: 0.0001118019426940009\n",
            "Epoch: 412 Loss: 0.00011248068040004\n",
            "Epoch: 413 Loss: 8.47268383949995e-05\n",
            "Epoch: 414 Loss: 9.211588621838018e-05\n",
            "Epoch: 415 Loss: 0.00011315313167870045\n",
            "Epoch: 416 Loss: 9.432363003725186e-05\n",
            "Epoch: 417 Loss: 0.00010900833876803517\n",
            "Epoch: 418 Loss: 9.380570554640144e-05\n",
            "Epoch: 419 Loss: 0.000103041558759287\n",
            "Epoch: 420 Loss: 0.00011618042481131852\n",
            "Epoch: 421 Loss: 0.0001216268865391612\n",
            "Epoch: 422 Loss: 0.00012387863534968346\n",
            "Epoch: 423 Loss: 0.00011170358629897237\n",
            "Epoch: 424 Loss: 0.00012101349420845509\n",
            "Epoch: 425 Loss: 8.579721907153726e-05\n",
            "Epoch: 426 Loss: 9.193430014420301e-05\n",
            "Epoch: 427 Loss: 8.254882413893938e-05\n",
            "Epoch: 428 Loss: 9.634049638407305e-05\n",
            "Epoch: 429 Loss: 7.795656711095944e-05\n",
            "Epoch: 430 Loss: 7.353055843850598e-05\n",
            "Epoch: 431 Loss: 9.604225488146767e-05\n",
            "Epoch: 432 Loss: 8.404986874666065e-05\n",
            "Epoch: 433 Loss: 8.559606794733554e-05\n",
            "Epoch: 434 Loss: 9.448270429857075e-05\n",
            "Epoch: 435 Loss: 8.478695235680789e-05\n",
            "Epoch: 436 Loss: 0.00010732414375524968\n",
            "Epoch: 437 Loss: 9.084863995667547e-05\n",
            "Epoch: 438 Loss: 8.291425183415413e-05\n",
            "Epoch: 439 Loss: 8.664502820465714e-05\n",
            "Epoch: 440 Loss: 0.00011529624316608533\n",
            "Epoch: 441 Loss: 6.973184645175934e-05\n",
            "Epoch: 442 Loss: 0.00011726889351848513\n",
            "Epoch: 443 Loss: 6.698448851238936e-05\n",
            "Epoch: 444 Loss: 0.00010048069816548377\n",
            "Epoch: 445 Loss: 0.00010159547673538327\n",
            "Epoch: 446 Loss: 0.00012017950211884454\n",
            "Epoch: 447 Loss: 8.575222454965115e-05\n",
            "Epoch: 448 Loss: 9.98212635749951e-05\n",
            "Epoch: 449 Loss: 0.00010900726192630827\n",
            "Epoch: 450 Loss: 0.00010272461804561317\n",
            "Epoch: 451 Loss: 0.00010633515194058418\n",
            "Epoch: 452 Loss: 0.00012381337000988424\n",
            "Epoch: 453 Loss: 0.00011557797552086413\n",
            "Epoch: 454 Loss: 0.00016272399807348847\n",
            "Epoch: 455 Loss: 0.00011933626956306398\n",
            "Epoch: 456 Loss: 0.0001632243802305311\n",
            "Epoch: 457 Loss: 0.00011879105295520276\n",
            "Epoch: 458 Loss: 0.0001340944872936234\n",
            "Epoch: 459 Loss: 0.00014156545512378216\n",
            "Epoch: 460 Loss: 0.00014521607954520732\n",
            "Epoch: 461 Loss: 9.547153604216874e-05\n",
            "Epoch: 462 Loss: 0.00011557672405615449\n",
            "Epoch: 463 Loss: 0.0001291255175601691\n",
            "Epoch: 464 Loss: 0.00012336773215793073\n",
            "Epoch: 465 Loss: 0.00010060964268632233\n",
            "Epoch: 466 Loss: 0.00012237067858222872\n",
            "Epoch: 467 Loss: 0.00010404160275356844\n",
            "Epoch: 468 Loss: 0.00010712251241784543\n",
            "Epoch: 469 Loss: 0.00010116007615579292\n",
            "Epoch: 470 Loss: 9.782690176507458e-05\n",
            "Epoch: 471 Loss: 0.00010361929889768362\n",
            "Epoch: 472 Loss: 0.00011533294309629127\n",
            "Epoch: 473 Loss: 0.00011914657079614699\n",
            "Epoch: 474 Loss: 0.00010311044025002047\n",
            "Epoch: 475 Loss: 0.00012297880311962217\n",
            "Epoch: 476 Loss: 0.00011200589506188408\n",
            "Epoch: 477 Loss: 0.00011522534623509273\n",
            "Epoch: 478 Loss: 0.00010226937592960894\n",
            "Epoch: 479 Loss: 0.00014158501289784908\n",
            "Epoch: 480 Loss: 0.00011150735372211784\n",
            "Epoch: 481 Loss: 0.00014132520300336182\n",
            "Epoch: 482 Loss: 0.00014137965627014637\n",
            "Epoch: 483 Loss: 0.0001255397219210863\n",
            "Epoch: 484 Loss: 9.974712156690657e-05\n",
            "Epoch: 485 Loss: 0.00011637634452199563\n",
            "Epoch: 486 Loss: 0.00011451195314293727\n",
            "Epoch: 487 Loss: 0.00010536637273617089\n",
            "Epoch: 488 Loss: 0.0001279144053114578\n",
            "Epoch: 489 Loss: 0.000114311849756632\n",
            "Epoch: 490 Loss: 0.00011123299918835983\n",
            "Epoch: 491 Loss: 0.00014434872718993574\n",
            "Epoch: 492 Loss: 0.00016202250844798982\n",
            "Epoch: 493 Loss: 0.00013699138071388006\n",
            "Epoch: 494 Loss: 0.00016494840383529663\n",
            "Epoch: 495 Loss: 0.00015063049795571715\n",
            "Epoch: 496 Loss: 0.00011542450374690816\n",
            "Epoch: 497 Loss: 0.00011719103349605575\n",
            "Epoch: 498 Loss: 0.00011812527372967452\n",
            "Epoch: 499 Loss: 0.00014364789240062237\n"
          ]
        }
      ],
      "source": [
        "## Training the model\n",
        "\n",
        "\"\"\"\n",
        "Epoch: Number of training steps/iterations\n",
        "Batch Size: Number of obseravtions that are used during each iterations to update weights. \n",
        "\"\"\"\n",
        "num_epochs =300\n",
        "batch_size = 8\n",
        "\n",
        "to_plot_220 = []\n",
        "from sklearn.utils import shuffle\n",
        "#df = shuffle(df) \n",
        "\n",
        "\n",
        "with tf.Session() as sess:\n",
        "    saver = tf.train.import_meta_graph('./content/MyDrive/checkpoint_dir/my_model.meta')\n",
        "    saver.restore(sess, tf.train.latest_checkpoint('/content/content/MyDrive/checkpoint_dir'))# 加载变量值\n",
        "    for epoch in range(num_epochs):\n",
        "        for index, offset in enumerate(range(0, lsd1.shape[0], batch_size)):\n",
        "            xs = lsd1[offset: offset + batch_size]\n",
        "            #print(offset)\n",
        "            sess.run(train, feed_dict={X: xs})\n",
        "        training_loss = loss.eval(feed_dict={X: xs})\n",
        "        to_plot_220.append(training_loss)\n",
        "        print(\"Epoch: {} Loss: {}\".format(epoch,training_loss))\n",
        "        \n",
        "        \n",
        "    \"\"\"\n",
        "    Saving the trained model\n",
        "    \"\"\"\n",
        "    saver.save(sess,'./checkpoint_/my_model')"
      ]
    },
    {
      "cell_type": "code",
      "source": [
        "## With the weights obtained from training earlier, lets obtains the feature vectors at the latent space\n",
        "with tf.Session() as sess:\n",
        "    saver.restore(sess,'./checkpoint_/my_model')\n",
        "    res = hid_layer1.eval(feed_dict={X: df})"
      ],
      "metadata": {
        "id": "CP7Jlv_mtZWI"
      },
      "execution_count": 15,
      "outputs": []
    },
    {
      "cell_type": "code",
      "source": [
        "res"
      ],
      "metadata": {
        "colab": {
          "base_uri": "https://localhost:8080/"
        },
        "id": "8LcqAYrH3u7-",
        "outputId": "ee7a9506-509f-4139-f53a-d70b1427dc9e"
      },
      "execution_count": 16,
      "outputs": [
        {
          "output_type": "execute_result",
          "data": {
            "text/plain": [
              "array([[0.04372333, 0.        , 0.        , ..., 0.50340813, 0.        ,\n",
              "        0.        ],\n",
              "       [0.        , 0.        , 0.        , ..., 0.        , 0.26928365,\n",
              "        0.52944446],\n",
              "       [0.        , 0.        , 0.        , ..., 0.        , 0.        ,\n",
              "        0.9195694 ],\n",
              "       ...,\n",
              "       [0.        , 0.        , 0.        , ..., 1.5030838 , 0.        ,\n",
              "        0.60063064],\n",
              "       [0.7530319 , 0.        , 0.61504674, ..., 0.85989213, 0.        ,\n",
              "        0.89250267],\n",
              "       [0.        , 0.        , 0.        , ..., 0.        , 0.        ,\n",
              "        0.        ]], dtype=float32)"
            ]
          },
          "metadata": {},
          "execution_count": 16
        }
      ]
    },
    {
      "cell_type": "code",
      "execution_count": 18,
      "metadata": {
        "colab": {
          "base_uri": "https://localhost:8080/",
          "height": 295
        },
        "id": "lGvlQ-tByw54",
        "outputId": "d04a14f9-ea1b-46d2-c13b-5a657cebdf89"
      },
      "outputs": [
        {
          "output_type": "display_data",
          "data": {
            "text/plain": [
              "<Figure size 432x288 with 1 Axes>"
            ],
            "image/png": "[encoded data removed]"
          },
          "metadata": {
            "needs_background": "light"
          }
        }
      ],
      "source": [
        "## Visualizing\n",
        "import matplotlib.pyplot as plt\n",
        "plt.plot(to_plot_220)\n",
        "plt.xlabel(\"Number of Epochs\")\n",
        "plt.ylabel(\"Loss\")\n",
        "plt.title(\"Loss Vs number epochs for latent space of 384 Dimensions\")\n",
        "plt.show()"
      ]
    },
    {
      "cell_type": "code",
      "execution_count": 19,
      "metadata": {
        "colab": {
          "base_uri": "https://localhost:8080/"
        },
        "id": "rEqCkHsQybSk",
        "outputId": "75de0288-c47c-4f15-da10-02d2896e3946"
      },
      "outputs": [
        {
          "output_type": "stream",
          "name": "stdout",
          "text": [
            "          0         1         2         3         4         5         6    \\\n",
            "0    0.043723  0.000000  0.000000  0.000000  0.000000  0.000000  0.000000   \n",
            "1    0.000000  0.000000  0.000000  0.000000  0.000000  0.000000  0.075856   \n",
            "2    0.000000  0.000000  0.000000  0.000000  0.562848  0.227398  0.977232   \n",
            "3    0.000000  0.620710  0.015127  0.313432  0.000000  0.000000  0.000000   \n",
            "4    0.000000  0.000000  0.006820  0.743159  0.000000  0.000000  0.373046   \n",
            "..        ...       ...       ...       ...       ...       ...       ...   \n",
            "926  0.000000  0.205347  0.000000  0.000000  0.191108  0.357335  0.000000   \n",
            "927  0.000000  0.000000  0.000000  0.000000  0.646334  0.639531  0.297859   \n",
            "928  0.000000  0.000000  0.000000  0.000000  0.961703  1.272657  0.110852   \n",
            "929  0.753032  0.000000  0.615047  0.055410  0.000000  0.118663  0.463131   \n",
            "930  0.000000  0.000000  0.000000  0.083836  0.324445  0.000000  0.000000   \n",
            "\n",
            "          7         8         9    ...       374       375       376  \\\n",
            "0    0.000000  0.000000  0.795234  ...  0.000000  0.028108  0.000000   \n",
            "1    0.000000  0.000000  0.086171  ...  0.393647  0.038902  0.000000   \n",
            "2    0.000000  0.232765  0.384671  ...  0.000000  0.177679  0.000000   \n",
            "3    0.000000  0.000000  0.000000  ...  0.693227  0.330949  0.549048   \n",
            "4    0.000000  0.000000  0.076272  ...  0.000000  0.240999  0.105254   \n",
            "..        ...       ...       ...  ...       ...       ...       ...   \n",
            "926  0.467242  0.000000  0.652131  ...  0.000000  0.000000  0.915551   \n",
            "927  0.601522  1.410557  0.000000  ...  0.000000  0.000000  1.318822   \n",
            "928  1.438215  0.435879  0.000000  ...  0.327411  0.000000  1.025209   \n",
            "929  0.325672  0.000000  0.000000  ...  0.000000  0.000000  0.229460   \n",
            "930  0.000000  0.974440  0.000000  ...  0.000000  0.000000  0.000000   \n",
            "\n",
            "          377       378       379       380       381       382       383  \n",
            "0    0.569079  0.000000  0.000000  0.000000  0.503408  0.000000  0.000000  \n",
            "1    0.000000  0.000000  0.000000  0.000000  0.000000  0.269284  0.529444  \n",
            "2    0.000000  0.000000  0.000000  0.000000  0.000000  0.000000  0.919569  \n",
            "3    0.000000  0.000000  0.000000  0.000000  0.124954  0.128109  0.449335  \n",
            "4    0.412252  0.000000  0.056270  0.000000  0.000000  0.310122  0.000000  \n",
            "..        ...       ...       ...       ...       ...       ...       ...  \n",
            "926  0.000000  0.000000  0.450572  0.000000  0.403763  0.000000  0.000000  \n",
            "927  0.000000  0.000000  0.594119  1.083617  1.583192  0.000000  0.744038  \n",
            "928  0.000000  0.000000  0.373397  0.898557  1.503084  0.000000  0.600631  \n",
            "929  0.000000  0.581102  0.292110  0.000000  0.859892  0.000000  0.892503  \n",
            "930  0.664639  0.905751  0.084959  0.469112  0.000000  0.000000  0.000000  \n",
            "\n",
            "[931 rows x 384 columns]\n"
          ]
        }
      ],
      "source": [
        "res.shape\n",
        "dr = pd.DataFrame(res)\n",
        "print(dr)\n",
        "dr.to_csv('384.csv')"
      ]
    },
    {
      "cell_type": "markdown",
      "metadata": {
        "id": "61CtakHyzeYb"
      },
      "source": [
        "# More larger Dimensions\n"
      ]
    },
    {
      "cell_type": "code",
      "execution_count": null,
      "metadata": {
        "colab": {
          "base_uri": "https://localhost:8080/"
        },
        "id": "JJ5U160AUnLR",
        "outputId": "d32dee0c-1d65-4b30-ad73-b40eeba24fb0"
      },
      "outputs": [
        {
          "name": "stdout",
          "output_type": "stream",
          "text": [
            "Epoch: 0 Loss: 0.10121292620897293\n",
            "Epoch: 20 Loss: 0.012367009185254574\n",
            "Epoch: 40 Loss: 0.01190527155995369\n",
            "Epoch: 60 Loss: 0.009825997985899448\n",
            "Epoch: 80 Loss: 0.012089080177247524\n",
            "Epoch: 100 Loss: 0.012143723666667938\n",
            "Epoch: 120 Loss: 0.008897398598492146\n",
            "Epoch: 140 Loss: 0.00812164694070816\n",
            "Epoch: 160 Loss: 0.010212169960141182\n",
            "Epoch: 180 Loss: 0.008470087312161922\n",
            "Epoch: 200 Loss: 0.010004487819969654\n",
            "Epoch: 220 Loss: 0.008345128037035465\n",
            "Epoch: 240 Loss: 0.008415118791162968\n",
            "Epoch: 260 Loss: 0.008509389124810696\n",
            "Epoch: 280 Loss: 0.00817402359098196\n",
            "Epoch: 300 Loss: 0.0077760168351233006\n",
            "Epoch: 320 Loss: 0.007885734550654888\n",
            "Epoch: 340 Loss: 0.008110381662845612\n",
            "Epoch: 360 Loss: 0.006951645016670227\n",
            "Epoch: 380 Loss: 0.007551573216915131\n",
            "Epoch: 400 Loss: 0.0071871024556458\n",
            "Epoch: 420 Loss: 0.007503820117563009\n",
            "Epoch: 440 Loss: 0.009221826680004597\n",
            "Epoch: 460 Loss: 0.007303739432245493\n",
            "Epoch: 480 Loss: 0.007328186649829149\n"
          ]
        }
      ],
      "source": [
        "num_inputs = 512\n",
        "\n",
        "hidden_1 = 512//2       ## 256\n",
        "hidden_2 = hidden_1 //2  ## 128\n",
        "hidden_3 = hidden_2 //2  ## 64\n",
        "hidden_4 = hidden_2\n",
        "hidden_5 = hidden_1\n",
        "\n",
        "num_outputs = num_inputs ## 512\n",
        "\n",
        "learning_rate = 0.001\n",
        "activ_fn = tf.nn.relu\n",
        "#norm = tf.nn.batch_normalization()\n",
        "\n",
        "X = tf.placeholder(tf.float32,shape = [None,num_inputs])\n",
        "\n",
        "## scaling \n",
        "initializer = tf.contrib.layers.variance_scaling_initializer()\n",
        "\n",
        "## Weights\n",
        "\n",
        "w1 = tf.Variable(initializer([num_inputs,hidden_1]),dtype=tf.float32)\n",
        "w2 = tf.Variable(initializer([hidden_1,hidden_2]),dtype=tf.float32)\n",
        "w3 = tf.Variable(initializer([hidden_2,hidden_3]),dtype=tf.float32)\n",
        "w4 = tf.transpose(w3)\n",
        "w5 = tf.transpose(w2)\n",
        "w6 = tf.transpose(w1)\n",
        "\n",
        "\n",
        "\n",
        "## Biases\n",
        "\n",
        "b1 = tf.Variable(tf.zeros(hidden_1))\n",
        "b2 = tf.Variable(tf.zeros(hidden_2))\n",
        "b3 = tf.Variable(tf.zeros(hidden_3))\n",
        "\n",
        "b4 = b2\n",
        "b5 = b1\n",
        "\n",
        "b6 = tf.Variable(tf.zeros(num_outputs))\n",
        "\n",
        "\n",
        "hid_layer1 = activ_fn(tf.matmul(X,w1)+b1)\n",
        "hid_layer2 = activ_fn(tf.matmul(hid_layer1,w2)+b2)\n",
        "hid_layer3 = activ_fn(tf.matmul(hid_layer2,w3)+b3)\n",
        "hid_layer4 = activ_fn(tf.matmul(hid_layer3,w4)+b4)\n",
        "hid_layer5 = activ_fn(tf.matmul(hid_layer4,w5)+b5)\n",
        "output_layer = activ_fn(tf.matmul(hid_layer5,w6)+b6)\n",
        "\n",
        "## Loss Function\n",
        "\n",
        "loss = tf.reduce_mean(tf.square(output_layer - X))\n",
        "\n",
        "## Optimzer\n",
        "optimizer = tf.train.AdamOptimizer(learning_rate)\n",
        "\n",
        "train = optimizer.minimize(loss)\n",
        "\n",
        "## Initialzing\n",
        "init = tf.global_variables_initializer()\n",
        "\n",
        "saver = tf.train.Saver()\n",
        "\n",
        "num_epochs = 500\n",
        "batch_size = 8\n",
        "to_plot = []\n",
        "from sklearn.utils import shuffle\n",
        "#X = shuffle(X) \n",
        "\n",
        "with tf.Session() as sess:\n",
        "    sess.run(init)\n",
        "    for epoch in range(num_epochs):\n",
        "        for index, offset in enumerate(range(0, df.shape[0], batch_size)):\n",
        "            xs = df[offset: offset + batch_size]\n",
        "            #print(offset)\n",
        "            sess.run(train, feed_dict={X: xs})\n",
        "        training_loss = loss.eval(feed_dict={X: xs})\n",
        "        to_plot.append(training_loss)\n",
        "        if epoch % 20 == 0:\n",
        "          print(\"Epoch: {} Loss: {}\".format(epoch,training_loss))\n",
        "    \n",
        "    saver.save(sess,'./stacked_autoencoder_32_50D_tanh.ckpt')\n"
      ]
    },
    {
      "cell_type": "code",
      "execution_count": null,
      "metadata": {
        "id": "DPJDGHFJdIp4"
      },
      "outputs": [],
      "source": [
        "with tf.Session() as sess:\n",
        "    saver.restore(sess,'./stacked_autoencoder_32_50D_tanh.ckpt')\n",
        "    d50 = hid_layer3.eval(feed_dict={X: df})  \n",
        "\n",
        "np.savetxt('Dim_64.tsv',d50,delimiter='\\t')"
      ]
    },
    {
      "cell_type": "code",
      "execution_count": null,
      "metadata": {
        "colab": {
          "base_uri": "https://localhost:8080/"
        },
        "id": "UgD_uW2tdRyg",
        "outputId": "a34f8279-1126-4cfd-edde-3418b54b49f1"
      },
      "outputs": [
        {
          "data": {
            "text/plain": [
              "array([[0.60872406, 0.        , 0.        , ..., 0.01195174, 0.        ,\n",
              "        0.        ],\n",
              "       [0.        , 1.5955508 , 0.        , ..., 0.        , 0.        ,\n",
              "        1.7521322 ],\n",
              "       [0.        , 2.2621021 , 0.        , ..., 0.        , 0.        ,\n",
              "        2.5632324 ],\n",
              "       ...,\n",
              "       [0.        , 0.        , 0.        , ..., 0.        , 0.        ,\n",
              "        1.000032  ],\n",
              "       [0.        , 0.        , 0.        , ..., 1.340622  , 0.        ,\n",
              "        0.        ],\n",
              "       [0.        , 0.        , 0.        , ..., 0.56723374, 0.        ,\n",
              "        0.0072813 ]], dtype=float32)"
            ]
          },
          "execution_count": 106,
          "metadata": {},
          "output_type": "execute_result"
        }
      ],
      "source": [
        "d50"
      ]
    },
    {
      "cell_type": "code",
      "execution_count": null,
      "metadata": {
        "colab": {
          "base_uri": "https://localhost:8080/",
          "height": 295
        },
        "id": "v9gM0WKMdT6F",
        "outputId": "e89a1752-6538-47e7-bfb8-e1a856d0a2b0"
      },
      "outputs": [
        {
          "data": {
            "image/png": "[encoded data removed]",
            "text/plain": [
              "<Figure size 432x288 with 1 Axes>"
            ]
          },
          "metadata": {},
          "output_type": "display_data"
        }
      ],
      "source": [
        "Dim_51,= plt.plot(to_plot, label=\"Dimension 51\")\n",
        "Dim_220, =  plt.plot(to_plot_220, label=\"Dimension 220\")\n",
        "plt.legend(handles=[Dim_51, Dim_220])\n",
        "plt.xlabel(\"Number of Epochs\")\n",
        "plt.ylabel(\"Loss\")\n",
        "plt.title(\"Loss Vs number epochs for different latent space\")\n",
        "plt.show()\n"
      ]
    },
    {
      "cell_type": "code",
      "source": [
        ""
      ],
      "metadata": {
        "id": "JcuxAkntsrKb"
      },
      "execution_count": null,
      "outputs": []
    },
    {
      "cell_type": "code",
      "source": [
        ""
      ],
      "metadata": {
        "id": "6p_zlz9psrVI"
      },
      "execution_count": null,
      "outputs": []
    },
    {
      "cell_type": "code",
      "source": [
        ""
      ],
      "metadata": {
        "id": "iz6RHa56srXb"
      },
      "execution_count": null,
      "outputs": []
    },
    {
      "cell_type": "code",
      "source": [
        ""
      ],
      "metadata": {
        "id": "FltyGhPbsrZk"
      },
      "execution_count": null,
      "outputs": []
    },
    {
      "cell_type": "code",
      "source": [
        ""
      ],
      "metadata": {
        "id": "bXMhWFoEsrcI"
      },
      "execution_count": null,
      "outputs": []
    },
    {
      "cell_type": "code",
      "source": [
        ""
      ],
      "metadata": {
        "id": "54B6kWA8sreK"
      },
      "execution_count": null,
      "outputs": []
    },
    {
      "cell_type": "code",
      "source": [
        ""
      ],
      "metadata": {
        "id": "eqii8Fsasrgo"
      },
      "execution_count": null,
      "outputs": []
    },
    {
      "cell_type": "code",
      "source": [
        ""
      ],
      "metadata": {
        "id": "g0Q0cLiDsri7"
      },
      "execution_count": null,
      "outputs": []
    },
    {
      "cell_type": "code",
      "source": [
        ""
      ],
      "metadata": {
        "id": "yxDz-uaksrk9"
      },
      "execution_count": null,
      "outputs": []
    },
    {
      "cell_type": "code",
      "source": [
        ""
      ],
      "metadata": {
        "id": "gQKbJAo2srnT"
      },
      "execution_count": null,
      "outputs": []
    }
  ],
  "metadata": {
    "colab": {
      "name": "“Untitled8.ipynb”的副本",
      "provenance": [],
      "collapsed_sections": [],
      "mount_file_id": "13CA2fuoXESKGJTteevSjMCORxzUkc1I6",
      "authorship_tag": "ABX9TyOQTHTNy6u1iWaUeG47nmGd",
      "include_colab_link": true
    },
    "kernelspec": {
      "display_name": "Python 3",
      "name": "python3"
    },
    "language_info": {
      "name": "python"
    },
    "accelerator": "GPU",
    "gpuClass": "standard"
  },
  "nbformat": 4,
  "nbformat_minor": 0
}